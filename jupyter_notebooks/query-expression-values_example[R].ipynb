{
 "cells": [
  {
   "cell_type": "markdown",
   "metadata": {},
   "source": [
    "# Using Genestack Omics APIs for query expression values"
   ]
  },
  {
   "cell_type": "markdown",
   "metadata": {},
   "source": [
    "### Set instance and token"
   ]
  },
  {
   "cell_type": "code",
   "execution_count": 7,
   "metadata": {},
   "outputs": [],
   "source": [
    "library(integrationCurator)\n",
    "library(expressionUser)\n",
    "library(stringi)\n",
    "suppressMessages(library(tidyverse))\n",
    "suppressMessages(library(integrationCurator)) # Genestack client library\n",
    "\n",
    "Sys.setenv(PRED_SPOT_HOST = 'br-dev.genestack.net',\n",
    "           PRED_SPOT_TOKEN = '<token>',\n",
    "           PRED_SPOT_VERSION = 'default-released')"
   ]
  },
  {
   "cell_type": "markdown",
   "metadata": {},
   "source": [
    "### Get samples by study accession"
   ]
  },
  {
   "cell_type": "code",
   "execution_count": 8,
   "metadata": {},
   "outputs": [
    {
     "data": {
      "text/html": [
       "<table>\n",
       "<caption>A data.frame: 4 × 20</caption>\n",
       "<thead>\n",
       "\t<tr><th></th><th scope=col>genestack:accession</th><th scope=col>Sample Source ID</th><th scope=col>Sample Name</th><th scope=col>Organism</th><th scope=col>Sex</th><th scope=col>Disease</th><th scope=col>Age</th><th scope=col>Age Unit</th><th scope=col>Tissue</th><th scope=col>Cell Type</th><th scope=col>Cell Line</th><th scope=col>Compound Treatment / Compound</th><th scope=col>Compound Treatment / Dose</th><th scope=col>Compound Treatment / Dose Unit</th><th scope=col>Data Files / Raw</th><th scope=col>Data Files / Processed</th><th scope=col>Import Source URL</th><th scope=col>Sample Source</th><th scope=col>Population</th><th scope=col>groupId</th></tr>\n",
       "\t<tr><th></th><th scope=col>&lt;chr&gt;</th><th scope=col>&lt;chr&gt;</th><th scope=col>&lt;lgl&gt;</th><th scope=col>&lt;lgl&gt;</th><th scope=col>&lt;chr&gt;</th><th scope=col>&lt;lgl&gt;</th><th scope=col>&lt;lgl&gt;</th><th scope=col>&lt;lgl&gt;</th><th scope=col>&lt;lgl&gt;</th><th scope=col>&lt;lgl&gt;</th><th scope=col>&lt;lgl&gt;</th><th scope=col>&lt;lgl&gt;</th><th scope=col>&lt;lgl&gt;</th><th scope=col>&lt;lgl&gt;</th><th scope=col>&lt;lgl&gt;</th><th scope=col>&lt;lgl&gt;</th><th scope=col>&lt;lgl&gt;</th><th scope=col>&lt;chr&gt;</th><th scope=col>&lt;chr&gt;</th><th scope=col>&lt;chr&gt;</th></tr>\n",
       "</thead>\n",
       "<tbody>\n",
       "\t<tr><th scope=row>1</th><td>GSF129971</td><td>SRR6441195</td><td>NA</td><td>NA</td><td>M</td><td>NA</td><td>NA</td><td>NA</td><td>NA</td><td>NA</td><td>NA</td><td>NA</td><td>NA</td><td>NA</td><td>NA</td><td>NA</td><td>NA</td><td>1000 Genomes Project</td><td>British</td><td>GSF129970</td></tr>\n",
       "\t<tr><th scope=row>2</th><td>GSF129972</td><td>SRR6441188</td><td>NA</td><td>NA</td><td>F</td><td>NA</td><td>NA</td><td>NA</td><td>NA</td><td>NA</td><td>NA</td><td>NA</td><td>NA</td><td>NA</td><td>NA</td><td>NA</td><td>NA</td><td>1000 Genomes Project</td><td>British</td><td>GSF129970</td></tr>\n",
       "\t<tr><th scope=row>3</th><td>GSF129973</td><td>SRR6441196</td><td>NA</td><td>NA</td><td>M</td><td>NA</td><td>NA</td><td>NA</td><td>NA</td><td>NA</td><td>NA</td><td>NA</td><td>NA</td><td>NA</td><td>NA</td><td>NA</td><td>NA</td><td>1000 Genomes Project</td><td>Finnish</td><td>GSF129970</td></tr>\n",
       "\t<tr><th scope=row>4</th><td>GSF129974</td><td>SRR6441197</td><td>NA</td><td>NA</td><td>F</td><td>NA</td><td>NA</td><td>NA</td><td>NA</td><td>NA</td><td>NA</td><td>NA</td><td>NA</td><td>NA</td><td>NA</td><td>NA</td><td>NA</td><td>1000 Genomes Project</td><td>Finnish</td><td>GSF129970</td></tr>\n",
       "</tbody>\n",
       "</table>\n"
      ],
      "text/latex": [
       "A data.frame: 4 × 20\n",
       "\\begin{tabular}{r|llllllllllllllllllll}\n",
       "  & genestack:accession & Sample Source ID & Sample Name & Organism & Sex & Disease & Age & Age Unit & Tissue & Cell Type & Cell Line & Compound Treatment / Compound & Compound Treatment / Dose & Compound Treatment / Dose Unit & Data Files / Raw & Data Files / Processed & Import Source URL & Sample Source & Population & groupId\\\\\n",
       "  & <chr> & <chr> & <lgl> & <lgl> & <chr> & <lgl> & <lgl> & <lgl> & <lgl> & <lgl> & <lgl> & <lgl> & <lgl> & <lgl> & <lgl> & <lgl> & <lgl> & <chr> & <chr> & <chr>\\\\\n",
       "\\hline\n",
       "\t1 & GSF129971 & SRR6441195 & NA & NA & M & NA & NA & NA & NA & NA & NA & NA & NA & NA & NA & NA & NA & 1000 Genomes Project & British & GSF129970\\\\\n",
       "\t2 & GSF129972 & SRR6441188 & NA & NA & F & NA & NA & NA & NA & NA & NA & NA & NA & NA & NA & NA & NA & 1000 Genomes Project & British & GSF129970\\\\\n",
       "\t3 & GSF129973 & SRR6441196 & NA & NA & M & NA & NA & NA & NA & NA & NA & NA & NA & NA & NA & NA & NA & 1000 Genomes Project & Finnish & GSF129970\\\\\n",
       "\t4 & GSF129974 & SRR6441197 & NA & NA & F & NA & NA & NA & NA & NA & NA & NA & NA & NA & NA & NA & NA & 1000 Genomes Project & Finnish & GSF129970\\\\\n",
       "\\end{tabular}\n"
      ],
      "text/markdown": [
       "\n",
       "A data.frame: 4 × 20\n",
       "\n",
       "| <!--/--> | genestack:accession &lt;chr&gt; | Sample Source ID &lt;chr&gt; | Sample Name &lt;lgl&gt; | Organism &lt;lgl&gt; | Sex &lt;chr&gt; | Disease &lt;lgl&gt; | Age &lt;lgl&gt; | Age Unit &lt;lgl&gt; | Tissue &lt;lgl&gt; | Cell Type &lt;lgl&gt; | Cell Line &lt;lgl&gt; | Compound Treatment / Compound &lt;lgl&gt; | Compound Treatment / Dose &lt;lgl&gt; | Compound Treatment / Dose Unit &lt;lgl&gt; | Data Files / Raw &lt;lgl&gt; | Data Files / Processed &lt;lgl&gt; | Import Source URL &lt;lgl&gt; | Sample Source &lt;chr&gt; | Population &lt;chr&gt; | groupId &lt;chr&gt; |\n",
       "|---|---|---|---|---|---|---|---|---|---|---|---|---|---|---|---|---|---|---|---|---|\n",
       "| 1 | GSF129971 | SRR6441195 | NA | NA | M | NA | NA | NA | NA | NA | NA | NA | NA | NA | NA | NA | NA | 1000 Genomes Project | British | GSF129970 |\n",
       "| 2 | GSF129972 | SRR6441188 | NA | NA | F | NA | NA | NA | NA | NA | NA | NA | NA | NA | NA | NA | NA | 1000 Genomes Project | British | GSF129970 |\n",
       "| 3 | GSF129973 | SRR6441196 | NA | NA | M | NA | NA | NA | NA | NA | NA | NA | NA | NA | NA | NA | NA | 1000 Genomes Project | Finnish | GSF129970 |\n",
       "| 4 | GSF129974 | SRR6441197 | NA | NA | F | NA | NA | NA | NA | NA | NA | NA | NA | NA | NA | NA | NA | 1000 Genomes Project | Finnish | GSF129970 |\n",
       "\n"
      ],
      "text/plain": [
       "  genestack:accession Sample Source ID Sample Name Organism Sex Disease Age\n",
       "1 GSF129971           SRR6441195       NA          NA       M   NA      NA \n",
       "2 GSF129972           SRR6441188       NA          NA       F   NA      NA \n",
       "3 GSF129973           SRR6441196       NA          NA       M   NA      NA \n",
       "4 GSF129974           SRR6441197       NA          NA       F   NA      NA \n",
       "  Age Unit Tissue Cell Type Cell Line Compound Treatment / Compound\n",
       "1 NA       NA     NA        NA        NA                           \n",
       "2 NA       NA     NA        NA        NA                           \n",
       "3 NA       NA     NA        NA        NA                           \n",
       "4 NA       NA     NA        NA        NA                           \n",
       "  Compound Treatment / Dose Compound Treatment / Dose Unit Data Files / Raw\n",
       "1 NA                        NA                             NA              \n",
       "2 NA                        NA                             NA              \n",
       "3 NA                        NA                             NA              \n",
       "4 NA                        NA                             NA              \n",
       "  Data Files / Processed Import Source URL Sample Source        Population\n",
       "1 NA                     NA                1000 Genomes Project British   \n",
       "2 NA                     NA                1000 Genomes Project British   \n",
       "3 NA                     NA                1000 Genomes Project Finnish   \n",
       "4 NA                     NA                1000 Genomes Project Finnish   \n",
       "  groupId  \n",
       "1 GSF129970\n",
       "2 GSF129970\n",
       "3 GSF129970\n",
       "4 GSF129970"
      ]
     },
     "metadata": {},
     "output_type": "display_data"
    }
   ],
   "source": [
    "study_acc = \"GSF129969\"\n",
    "samples <- OmicsQueriesApi_search_samples(\n",
    "  study_filter=paste('genestack:accession=', study_acc, sep=\"\"),\n",
    "  sample_filter=''\n",
    ")$content$data[['metadata']]\n",
    "head(samples)"
   ]
  },
  {
   "cell_type": "code",
   "execution_count": 9,
   "metadata": {},
   "outputs": [
    {
     "data": {
      "text/html": [
       "'GSF129982'"
      ],
      "text/latex": [
       "'GSF129982'"
      ],
      "text/markdown": [
       "'GSF129982'"
      ],
      "text/plain": [
       "[1] \"GSF129982\""
      ]
     },
     "metadata": {},
     "output_type": "display_data"
    }
   ],
   "source": [
    "# integration/link/expression/group/by/study/\n",
    "expression_group_acc <- ExpressionIntegrationApi_get_parents_by_study(id=study_acc)$content$itemId\n",
    "expression_group_acc"
   ]
  },
  {
   "cell_type": "code",
   "execution_count": 10,
   "metadata": {},
   "outputs": [
    {
     "data": {
      "text/html": [
       "<table>\n",
       "<caption>A data.frame: 3 × 2</caption>\n",
       "<thead>\n",
       "\t<tr><th></th><th scope=col>runId</th><th scope=col>sampleId</th></tr>\n",
       "\t<tr><th></th><th scope=col>&lt;chr&gt;</th><th scope=col>&lt;chr&gt;</th></tr>\n",
       "</thead>\n",
       "<tbody>\n",
       "\t<tr><th scope=row>1</th><td>19286</td><td>GSF129977</td></tr>\n",
       "\t<tr><th scope=row>2</th><td>19287</td><td>GSF129978</td></tr>\n",
       "\t<tr><th scope=row>3</th><td>19288</td><td>GSF129979</td></tr>\n",
       "</tbody>\n",
       "</table>\n"
      ],
      "text/latex": [
       "A data.frame: 3 × 2\n",
       "\\begin{tabular}{r|ll}\n",
       "  & runId & sampleId\\\\\n",
       "  & <chr> & <chr>\\\\\n",
       "\\hline\n",
       "\t1 & 19286 & GSF129977\\\\\n",
       "\t2 & 19287 & GSF129978\\\\\n",
       "\t3 & 19288 & GSF129979\\\\\n",
       "\\end{tabular}\n"
      ],
      "text/markdown": [
       "\n",
       "A data.frame: 3 × 2\n",
       "\n",
       "| <!--/--> | runId &lt;chr&gt; | sampleId &lt;chr&gt; |\n",
       "|---|---|---|\n",
       "| 1 | 19286 | GSF129977 |\n",
       "| 2 | 19287 | GSF129978 |\n",
       "| 3 | 19288 | GSF129979 |\n",
       "\n"
      ],
      "text/plain": [
       "  runId sampleId \n",
       "1 19286 GSF129977\n",
       "2 19287 GSF129978\n",
       "3 19288 GSF129979"
      ]
     },
     "metadata": {},
     "output_type": "display_data"
    }
   ],
   "source": [
    "# integration/link/expression/run-to-samples/by/group\n",
    "run_to_samples <- ExpressionIntegrationApi_get_run_to_sample_pairs(id=expression_group_acc)$content$data\n",
    "head(run_to_samples)"
   ]
  },
  {
   "cell_type": "code",
   "execution_count": 16,
   "metadata": {
    "scrolled": true
   },
   "outputs": [
    {
     "data": {
      "text/html": [
       "<table>\n",
       "<caption>A tibble: 3 × 3</caption>\n",
       "<thead>\n",
       "\t<tr><th scope=col>runId</th><th scope=col>gene</th><th scope=col>expression</th></tr>\n",
       "\t<tr><th scope=col>&lt;chr&gt;</th><th scope=col>&lt;chr&gt;</th><th scope=col>&lt;dbl&gt;</th></tr>\n",
       "</thead>\n",
       "<tbody>\n",
       "\t<tr><td>19286</td><td>ENSG00777</td><td>21.99060</td></tr>\n",
       "\t<tr><td>19287</td><td>ENSG00777</td><td>19.99062</td></tr>\n",
       "\t<tr><td>19288</td><td>ENSG00777</td><td>21.31963</td></tr>\n",
       "</tbody>\n",
       "</table>\n"
      ],
      "text/latex": [
       "A tibble: 3 × 3\n",
       "\\begin{tabular}{lll}\n",
       " runId & gene & expression\\\\\n",
       " <chr> & <chr> & <dbl>\\\\\n",
       "\\hline\n",
       "\t 19286 & ENSG00777 & 21.99060\\\\\n",
       "\t 19287 & ENSG00777 & 19.99062\\\\\n",
       "\t 19288 & ENSG00777 & 21.31963\\\\\n",
       "\\end{tabular}\n"
      ],
      "text/markdown": [
       "\n",
       "A tibble: 3 × 3\n",
       "\n",
       "| runId &lt;chr&gt; | gene &lt;chr&gt; | expression &lt;dbl&gt; |\n",
       "|---|---|---|\n",
       "| 19286 | ENSG00777 | 21.99060 |\n",
       "| 19287 | ENSG00777 | 19.99062 |\n",
       "| 19288 | ENSG00777 | 21.31963 |\n",
       "\n"
      ],
      "text/plain": [
       "  runId gene      expression\n",
       "1 19286 ENSG00777 21.99060  \n",
       "2 19287 ENSG00777 19.99062  \n",
       "3 19288 ENSG00777 21.31963  "
      ]
     },
     "metadata": {},
     "output_type": "display_data"
    }
   ],
   "source": [
    "# /expression\n",
    "feature_list = \"ENSG00777\"\n",
    "run_list <- stri_join_list(run_to_samples[\"runId\"], sep=\",\")\n",
    "res_expr <- ExpressionSPoTApi_get_expression_data(run_filter=run_list, feature_list=feature_list)$content\n",
    "# cursor <- res_expr$cursor\n",
    "data <- res_expr$data\n",
    "my_data <- as_tibble(data)\n",
    "my_data %>% select(runId, gene, expression)"
   ]
  },
  {
   "cell_type": "code",
   "execution_count": 17,
   "metadata": {},
   "outputs": [
    {
     "data": {
      "text/html": [
       "<table>\n",
       "<caption>A data.frame: 3 × 2</caption>\n",
       "<thead>\n",
       "\t<tr><th scope=col>sampleId</th><th scope=col>expression</th></tr>\n",
       "\t<tr><th scope=col>&lt;chr&gt;</th><th scope=col>&lt;dbl&gt;</th></tr>\n",
       "</thead>\n",
       "<tbody>\n",
       "\t<tr><td>GSF129977</td><td>21.99060</td></tr>\n",
       "\t<tr><td>GSF129978</td><td>19.99062</td></tr>\n",
       "\t<tr><td>GSF129979</td><td>21.31963</td></tr>\n",
       "</tbody>\n",
       "</table>\n"
      ],
      "text/latex": [
       "A data.frame: 3 × 2\n",
       "\\begin{tabular}{ll}\n",
       " sampleId & expression\\\\\n",
       " <chr> & <dbl>\\\\\n",
       "\\hline\n",
       "\t GSF129977 & 21.99060\\\\\n",
       "\t GSF129978 & 19.99062\\\\\n",
       "\t GSF129979 & 21.31963\\\\\n",
       "\\end{tabular}\n"
      ],
      "text/markdown": [
       "\n",
       "A data.frame: 3 × 2\n",
       "\n",
       "| sampleId &lt;chr&gt; | expression &lt;dbl&gt; |\n",
       "|---|---|\n",
       "| GSF129977 | 21.99060 |\n",
       "| GSF129978 | 19.99062 |\n",
       "| GSF129979 | 21.31963 |\n",
       "\n"
      ],
      "text/plain": [
       "  sampleId  expression\n",
       "1 GSF129977 21.99060  \n",
       "2 GSF129978 19.99062  \n",
       "3 GSF129979 21.31963  "
      ]
     },
     "metadata": {},
     "output_type": "display_data"
    }
   ],
   "source": [
    "sample_expressions = left_join(run_to_samples, my_data, by=c(\"runId\"=\"runId\"))\n",
    "sample_expressions %>% select(sampleId, expression)"
   ]
  },
  {
   "cell_type": "code",
   "execution_count": null,
   "metadata": {},
   "outputs": [],
   "source": []
  }
 ],
 "metadata": {
  "kernelspec": {
   "display_name": "R",
   "language": "R",
   "name": "ir"
  },
  "language_info": {
   "codemirror_mode": "r",
   "file_extension": ".r",
   "mimetype": "text/x-r-source",
   "name": "R",
   "pygments_lexer": "r",
   "version": "4.0.0"
  }
 },
 "nbformat": 4,
 "nbformat_minor": 4
}
