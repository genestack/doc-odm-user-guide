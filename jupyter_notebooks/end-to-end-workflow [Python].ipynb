{
 "cells": [
  {
   "cell_type": "markdown",
   "metadata": {},
   "source": [
    "# End-to-end Workflow"
   ]
  },
  {
   "cell_type": "markdown",
   "metadata": {},
   "source": [
    "### Connect to instance"
   ]
  },
  {
   "cell_type": "code",
   "execution_count": 1,
   "metadata": {},
   "outputs": [],
   "source": [
    "import os, time, json\n",
    "import pandas as pd\n",
    "import integration_curator, study_curator, sample_curator, expression_curator\n",
    "\n",
    "os.environ['PRED_SPOT_HOST'] = 'occam.genestack.com'\n",
    "os.environ['PRED_SPOT_TOKEN'] = '<token>'\n",
    "os.environ['PRED_SPOT_VERSION'] = 'default-released'\n",
    "\n",
    "template_id = 'GSF996995'"
   ]
  },
  {
   "cell_type": "markdown",
   "metadata": {},
   "source": [
    "### Import study"
   ]
  },
  {
   "cell_type": "code",
   "execution_count": 2,
   "metadata": {},
   "outputs": [
    {
     "data": {
      "text/plain": [
       "{'data': {'genestack:accession': 'GSF997221',\n",
       "  'Study ID': 'Study101',\n",
       "  'Study Description': 'Transcriptomics of kidney cancer cells',\n",
       "  'Therapeutic Area': 'Oncology',\n",
       "  'Contributor': 'Kevin Dialdestoro',\n",
       "  'Release Date': None,\n",
       "  'Keywords': 'Kidney, cancer, renal, mammals',\n",
       "  'Study Title': 'Kidney cancer in mammals'}}"
      ]
     },
     "execution_count": 2,
     "metadata": {},
     "output_type": "execute_result"
    }
   ],
   "source": [
    "study = study_curator.StudySPoTApi().add_study(source=study_curator.StudyGenericSource(\n",
    "    link='https://bio-test-data.s3.amazonaws.com/odm/demo/study.tsv',\n",
    "    template_id = template_id\n",
    "))\n",
    "study"
   ]
  },
  {
   "cell_type": "markdown",
   "metadata": {},
   "source": [
    "### Import samples"
   ]
  },
  {
   "cell_type": "code",
   "execution_count": 3,
   "metadata": {},
   "outputs": [
    {
     "data": {
      "text/plain": [
       "[{'warnings': ['The value for required attribute \"Disease\" is not present',\n",
       "   'The value \"ibprofen\" for attribute \"Sample Treatment / Compound\" is not present in the controlled vocabulary \"GSF996814\".',\n",
       "   'Value \"Fastq Read 1 File\" should have \"com.genestack.api.metainfo.ExternalLink\" type, but has \"com.genestack.api.metainfo.StringValue\" type',\n",
       "   'Value \"Fastq Read 2 File\" should have \"com.genestack.api.metainfo.ExternalLink\" type, but has \"com.genestack.api.metainfo.StringValue\" type'],\n",
       "  'data': {'genestack:accession': 'GSF997223',\n",
       "   'Sample Source ID': 'Sample1',\n",
       "   'Subject ID': 'Subject1',\n",
       "   'Organism': 'Mus musculus',\n",
       "   'Disease': None,\n",
       "   'Sex': 'female',\n",
       "   'Age': 34,\n",
       "   'Age Unit': 'week',\n",
       "   'Sample Collection Site': 'Cambridge, UK',\n",
       "   'Sample Collection Date': None,\n",
       "   'Tissue': 'liver',\n",
       "   'Sample Treatment / Compound': 'ibprofen',\n",
       "   'Sample Treatment / Dose': 2,\n",
       "   'Sample Treatment / Unit': 'milligram per millilitre',\n",
       "   'Experiment Instrument': 'Illumina HiSeq 2000',\n",
       "   'Experiment Type': 'Tx',\n",
       "   'Library Type': 'paired-end',\n",
       "   'Library Preparation Protocol': 'NGS',\n",
       "   'Read Length': None,\n",
       "   'RNA Integrity Number': 7,\n",
       "   'Fastq Read 1 File': '~/sample1_1.fq',\n",
       "   'Fastq Read 2 File': '~/sample1_2.fq',\n",
       "   'Pipeline ID': None,\n",
       "   'BAM File': None,\n",
       "   'Read length': '75',\n",
       "   'Sample Source': 'Internal'}},\n",
       " {'warnings': ['The value for required attribute \"Disease\" is not present',\n",
       "   'The value \"ibprofen\" for attribute \"Sample Treatment / Compound\" is not present in the controlled vocabulary \"GSF996814\".',\n",
       "   'Value \"Fastq Read 1 File\" should have \"com.genestack.api.metainfo.ExternalLink\" type, but has \"com.genestack.api.metainfo.StringValue\" type',\n",
       "   'Value \"Fastq Read 2 File\" should have \"com.genestack.api.metainfo.ExternalLink\" type, but has \"com.genestack.api.metainfo.StringValue\" type'],\n",
       "  'data': {'genestack:accession': 'GSF997224',\n",
       "   'Sample Source ID': 'Sample2',\n",
       "   'Subject ID': 'Subject2',\n",
       "   'Organism': 'Mus musculus',\n",
       "   'Disease': None,\n",
       "   'Sex': 'male',\n",
       "   'Age': 40,\n",
       "   'Age Unit': 'week',\n",
       "   'Sample Collection Site': 'Cambridge, UK',\n",
       "   'Sample Collection Date': None,\n",
       "   'Tissue': 'liver',\n",
       "   'Sample Treatment / Compound': 'ibprofen',\n",
       "   'Sample Treatment / Dose': 2,\n",
       "   'Sample Treatment / Unit': 'milligram per millilitre',\n",
       "   'Experiment Instrument': 'Illumina HiSeq 2000',\n",
       "   'Experiment Type': 'Tx',\n",
       "   'Library Type': 'paired-end',\n",
       "   'Library Preparation Protocol': 'NGS',\n",
       "   'Read Length': None,\n",
       "   'RNA Integrity Number': 8,\n",
       "   'Fastq Read 1 File': '~/sample2_1.fq',\n",
       "   'Fastq Read 2 File': '~/sample2_2.fq',\n",
       "   'Pipeline ID': None,\n",
       "   'BAM File': None,\n",
       "   'Read length': '75',\n",
       "   'Sample Source': 'Internal'}},\n",
       " {'warnings': ['The value for required attribute \"Disease\" is not present',\n",
       "   'The value \"ibprofen\" for attribute \"Sample Treatment / Compound\" is not present in the controlled vocabulary \"GSF996814\".',\n",
       "   'Value \"Fastq Read 1 File\" should have \"com.genestack.api.metainfo.ExternalLink\" type, but has \"com.genestack.api.metainfo.StringValue\" type',\n",
       "   'Value \"Fastq Read 2 File\" should have \"com.genestack.api.metainfo.ExternalLink\" type, but has \"com.genestack.api.metainfo.StringValue\" type'],\n",
       "  'data': {'genestack:accession': 'GSF997225',\n",
       "   'Sample Source ID': 'Sample3',\n",
       "   'Subject ID': 'Subject3',\n",
       "   'Organism': 'Mus musculus',\n",
       "   'Disease': None,\n",
       "   'Sex': 'male',\n",
       "   'Age': 2,\n",
       "   'Age Unit': 'week',\n",
       "   'Sample Collection Site': 'Cambridge, UK',\n",
       "   'Sample Collection Date': None,\n",
       "   'Tissue': 'liver',\n",
       "   'Sample Treatment / Compound': 'ibprofen',\n",
       "   'Sample Treatment / Dose': 2,\n",
       "   'Sample Treatment / Unit': 'milligram per millilitre',\n",
       "   'Experiment Instrument': 'Illumina HiSeq 2000',\n",
       "   'Experiment Type': 'Tx',\n",
       "   'Library Type': 'paired-end',\n",
       "   'Library Preparation Protocol': 'NGS',\n",
       "   'Read Length': None,\n",
       "   'RNA Integrity Number': 9,\n",
       "   'Fastq Read 1 File': '~/sample3_1.fq',\n",
       "   'Fastq Read 2 File': '~/sample3_2.fq',\n",
       "   'Pipeline ID': None,\n",
       "   'BAM File': None,\n",
       "   'Read length': '75',\n",
       "   'Sample Source': 'Internal'}},\n",
       " {'warnings': ['The value for required attribute \"Disease\" is not present',\n",
       "   'The value \"ibprofen\" for attribute \"Sample Treatment / Compound\" is not present in the controlled vocabulary \"GSF996814\".',\n",
       "   'Value \"Fastq Read 1 File\" should have \"com.genestack.api.metainfo.ExternalLink\" type, but has \"com.genestack.api.metainfo.StringValue\" type',\n",
       "   'Value \"Fastq Read 2 File\" should have \"com.genestack.api.metainfo.ExternalLink\" type, but has \"com.genestack.api.metainfo.StringValue\" type'],\n",
       "  'data': {'genestack:accession': 'GSF997226',\n",
       "   'Sample Source ID': 'Sample4',\n",
       "   'Subject ID': 'Subject4',\n",
       "   'Organism': 'Mus musculus',\n",
       "   'Disease': None,\n",
       "   'Sex': 'female',\n",
       "   'Age': 10,\n",
       "   'Age Unit': 'week',\n",
       "   'Sample Collection Site': 'Cambridge, UK',\n",
       "   'Sample Collection Date': None,\n",
       "   'Tissue': 'liver',\n",
       "   'Sample Treatment / Compound': 'ibprofen',\n",
       "   'Sample Treatment / Dose': 2,\n",
       "   'Sample Treatment / Unit': 'milligram per millilitre',\n",
       "   'Experiment Instrument': 'Illumina HiSeq 2000',\n",
       "   'Experiment Type': 'Tx',\n",
       "   'Library Type': 'paired-end',\n",
       "   'Library Preparation Protocol': 'NGS',\n",
       "   'Read Length': None,\n",
       "   'RNA Integrity Number': 10,\n",
       "   'Fastq Read 1 File': '~/sample4_1.fq',\n",
       "   'Fastq Read 2 File': '~/sample4_2.fq',\n",
       "   'Pipeline ID': None,\n",
       "   'BAM File': None,\n",
       "   'Read length': '150',\n",
       "   'Sample Source': 'Internal'}}]"
      ]
     },
     "execution_count": 3,
     "metadata": {},
     "output_type": "execute_result"
    }
   ],
   "source": [
    "samples = sample_curator.SampleSPoTApi().add_samples(source=sample_curator.SampleSource(\n",
    "    link='https://bio-test-data.s3.amazonaws.com/odm/demo/samples.tsv',\n",
    "    template_id = template_id\n",
    "))\n",
    "samples"
   ]
  },
  {
   "cell_type": "markdown",
   "metadata": {},
   "source": [
    "### Link samples to study\n"
   ]
  },
  {
   "cell_type": "code",
   "execution_count": 4,
   "metadata": {},
   "outputs": [],
   "source": [
    "for sample in samples:\n",
    "    integration_curator.StudyIntegrationApi().create_sample_study_link(\n",
    "        source_id = sample['data']['genestack:accession'],\n",
    "        target_id = study['data']['genestack:accession']\n",
    "    )"
   ]
  },
  {
   "cell_type": "markdown",
   "metadata": {},
   "source": [
    "### Get samples from study"
   ]
  },
  {
   "cell_type": "code",
   "execution_count": 6,
   "metadata": {},
   "outputs": [
    {
     "data": {
      "text/html": [
       "<div>\n",
       "<style scoped>\n",
       "    .dataframe tbody tr th:only-of-type {\n",
       "        vertical-align: middle;\n",
       "    }\n",
       "\n",
       "    .dataframe tbody tr th {\n",
       "        vertical-align: top;\n",
       "    }\n",
       "\n",
       "    .dataframe thead th {\n",
       "        text-align: right;\n",
       "    }\n",
       "</style>\n",
       "<table border=\"1\" class=\"dataframe\">\n",
       "  <thead>\n",
       "    <tr style=\"text-align: right;\">\n",
       "      <th></th>\n",
       "      <th>genestack:accession</th>\n",
       "      <th>Sample Source ID</th>\n",
       "      <th>Subject ID</th>\n",
       "      <th>Organism</th>\n",
       "      <th>Disease</th>\n",
       "      <th>Sex</th>\n",
       "      <th>Age</th>\n",
       "      <th>Age Unit</th>\n",
       "      <th>Sample Collection Site</th>\n",
       "      <th>Sample Collection Date</th>\n",
       "      <th>...</th>\n",
       "      <th>Library Type</th>\n",
       "      <th>Library Preparation Protocol</th>\n",
       "      <th>Read Length</th>\n",
       "      <th>RNA Integrity Number</th>\n",
       "      <th>Fastq Read 1 File</th>\n",
       "      <th>Fastq Read 2 File</th>\n",
       "      <th>Pipeline ID</th>\n",
       "      <th>BAM File</th>\n",
       "      <th>Read length</th>\n",
       "      <th>Sample Source</th>\n",
       "    </tr>\n",
       "  </thead>\n",
       "  <tbody>\n",
       "    <tr>\n",
       "      <th>0</th>\n",
       "      <td>GSF997223</td>\n",
       "      <td>Sample1</td>\n",
       "      <td>Subject1</td>\n",
       "      <td>Mus musculus</td>\n",
       "      <td>None</td>\n",
       "      <td>female</td>\n",
       "      <td>34</td>\n",
       "      <td>week</td>\n",
       "      <td>Cambridge, UK</td>\n",
       "      <td>None</td>\n",
       "      <td>...</td>\n",
       "      <td>paired-end</td>\n",
       "      <td>NGS</td>\n",
       "      <td>None</td>\n",
       "      <td>7</td>\n",
       "      <td>~/sample1_1.fq</td>\n",
       "      <td>~/sample1_2.fq</td>\n",
       "      <td>None</td>\n",
       "      <td>None</td>\n",
       "      <td>75</td>\n",
       "      <td>Internal</td>\n",
       "    </tr>\n",
       "    <tr>\n",
       "      <th>1</th>\n",
       "      <td>GSF997224</td>\n",
       "      <td>Sample2</td>\n",
       "      <td>Subject2</td>\n",
       "      <td>Mus musculus</td>\n",
       "      <td>None</td>\n",
       "      <td>male</td>\n",
       "      <td>40</td>\n",
       "      <td>week</td>\n",
       "      <td>Cambridge, UK</td>\n",
       "      <td>None</td>\n",
       "      <td>...</td>\n",
       "      <td>paired-end</td>\n",
       "      <td>NGS</td>\n",
       "      <td>None</td>\n",
       "      <td>8</td>\n",
       "      <td>~/sample2_1.fq</td>\n",
       "      <td>~/sample2_2.fq</td>\n",
       "      <td>None</td>\n",
       "      <td>None</td>\n",
       "      <td>75</td>\n",
       "      <td>Internal</td>\n",
       "    </tr>\n",
       "    <tr>\n",
       "      <th>2</th>\n",
       "      <td>GSF997225</td>\n",
       "      <td>Sample3</td>\n",
       "      <td>Subject3</td>\n",
       "      <td>Mus musculus</td>\n",
       "      <td>None</td>\n",
       "      <td>male</td>\n",
       "      <td>2</td>\n",
       "      <td>week</td>\n",
       "      <td>Cambridge, UK</td>\n",
       "      <td>None</td>\n",
       "      <td>...</td>\n",
       "      <td>paired-end</td>\n",
       "      <td>NGS</td>\n",
       "      <td>None</td>\n",
       "      <td>9</td>\n",
       "      <td>~/sample3_1.fq</td>\n",
       "      <td>~/sample3_2.fq</td>\n",
       "      <td>None</td>\n",
       "      <td>None</td>\n",
       "      <td>75</td>\n",
       "      <td>Internal</td>\n",
       "    </tr>\n",
       "    <tr>\n",
       "      <th>3</th>\n",
       "      <td>GSF997226</td>\n",
       "      <td>Sample4</td>\n",
       "      <td>Subject4</td>\n",
       "      <td>Mus musculus</td>\n",
       "      <td>None</td>\n",
       "      <td>female</td>\n",
       "      <td>10</td>\n",
       "      <td>week</td>\n",
       "      <td>Cambridge, UK</td>\n",
       "      <td>None</td>\n",
       "      <td>...</td>\n",
       "      <td>paired-end</td>\n",
       "      <td>NGS</td>\n",
       "      <td>None</td>\n",
       "      <td>10</td>\n",
       "      <td>~/sample4_1.fq</td>\n",
       "      <td>~/sample4_2.fq</td>\n",
       "      <td>None</td>\n",
       "      <td>None</td>\n",
       "      <td>150</td>\n",
       "      <td>Internal</td>\n",
       "    </tr>\n",
       "  </tbody>\n",
       "</table>\n",
       "<p>4 rows × 26 columns</p>\n",
       "</div>"
      ],
      "text/plain": [
       "  genestack:accession Sample Source ID Subject ID      Organism Disease  \\\n",
       "0           GSF997223          Sample1   Subject1  Mus musculus    None   \n",
       "1           GSF997224          Sample2   Subject2  Mus musculus    None   \n",
       "2           GSF997225          Sample3   Subject3  Mus musculus    None   \n",
       "3           GSF997226          Sample4   Subject4  Mus musculus    None   \n",
       "\n",
       "      Sex  Age Age Unit Sample Collection Site Sample Collection Date  ...  \\\n",
       "0  female   34     week          Cambridge, UK                   None  ...   \n",
       "1    male   40     week          Cambridge, UK                   None  ...   \n",
       "2    male    2     week          Cambridge, UK                   None  ...   \n",
       "3  female   10     week          Cambridge, UK                   None  ...   \n",
       "\n",
       "  Library Type Library Preparation Protocol  Read Length RNA Integrity Number  \\\n",
       "0   paired-end                          NGS         None                    7   \n",
       "1   paired-end                          NGS         None                    8   \n",
       "2   paired-end                          NGS         None                    9   \n",
       "3   paired-end                          NGS         None                   10   \n",
       "\n",
       "  Fastq Read 1 File Fastq Read 2 File Pipeline ID BAM File Read length  \\\n",
       "0    ~/sample1_1.fq    ~/sample1_2.fq        None     None          75   \n",
       "1    ~/sample2_1.fq    ~/sample2_2.fq        None     None          75   \n",
       "2    ~/sample3_1.fq    ~/sample3_2.fq        None     None          75   \n",
       "3    ~/sample4_1.fq    ~/sample4_2.fq        None     None         150   \n",
       "\n",
       "   Sample Source  \n",
       "0       Internal  \n",
       "1       Internal  \n",
       "2       Internal  \n",
       "3       Internal  \n",
       "\n",
       "[4 rows x 26 columns]"
      ]
     },
     "execution_count": 6,
     "metadata": {},
     "output_type": "execute_result"
    }
   ],
   "source": [
    "study_accession = study['data']['genestack:accession']\n",
    "\n",
    "data = integration_curator.OmicsQueriesApi().search_samples(\n",
    "    study_filter = 'genestack:accession=' + study_accession\n",
    ")\n",
    "samples = pd.DataFrame.from_dict([item['metadata'] for item in data.data])\n",
    "samples"
   ]
  },
  {
   "cell_type": "markdown",
   "metadata": {},
   "source": [
    "### Additional metadata"
   ]
  },
  {
   "cell_type": "code",
   "execution_count": 7,
   "metadata": {},
   "outputs": [
    {
     "data": {
      "text/html": [
       "<div>\n",
       "<style scoped>\n",
       "    .dataframe tbody tr th:only-of-type {\n",
       "        vertical-align: middle;\n",
       "    }\n",
       "\n",
       "    .dataframe tbody tr th {\n",
       "        vertical-align: top;\n",
       "    }\n",
       "\n",
       "    .dataframe thead th {\n",
       "        text-align: right;\n",
       "    }\n",
       "</style>\n",
       "<table border=\"1\" class=\"dataframe\">\n",
       "  <thead>\n",
       "    <tr style=\"text-align: right;\">\n",
       "      <th></th>\n",
       "      <th>Pipeline ID</th>\n",
       "      <th>Pipeline Version</th>\n",
       "      <th>BAM File</th>\n",
       "      <th>% Reads with MAPQ 0-10</th>\n",
       "      <th>% Reads with MAPQ &gt; 40</th>\n",
       "    </tr>\n",
       "    <tr>\n",
       "      <th>Sample Source ID</th>\n",
       "      <th></th>\n",
       "      <th></th>\n",
       "      <th></th>\n",
       "      <th></th>\n",
       "      <th></th>\n",
       "    </tr>\n",
       "  </thead>\n",
       "  <tbody>\n",
       "    <tr>\n",
       "      <th>Sample1</th>\n",
       "      <td>STAR+RSEM</td>\n",
       "      <td>2.2</td>\n",
       "      <td>~/sample1.bam</td>\n",
       "      <td>0,90%</td>\n",
       "      <td>99,10%</td>\n",
       "    </tr>\n",
       "    <tr>\n",
       "      <th>Sample2</th>\n",
       "      <td>STAR+RSEM</td>\n",
       "      <td>2.2</td>\n",
       "      <td>~/sample2.bam</td>\n",
       "      <td>0,89%</td>\n",
       "      <td>99,11%</td>\n",
       "    </tr>\n",
       "    <tr>\n",
       "      <th>Sample3</th>\n",
       "      <td>STAR+RSEM</td>\n",
       "      <td>2.2</td>\n",
       "      <td>~/sample3.bam</td>\n",
       "      <td>0,91%</td>\n",
       "      <td>99,09%</td>\n",
       "    </tr>\n",
       "    <tr>\n",
       "      <th>Sample4</th>\n",
       "      <td>STAR+RSEM</td>\n",
       "      <td>2.2</td>\n",
       "      <td>~/sample4.bam</td>\n",
       "      <td>0,87%</td>\n",
       "      <td>99,13%</td>\n",
       "    </tr>\n",
       "  </tbody>\n",
       "</table>\n",
       "</div>"
      ],
      "text/plain": [
       "                 Pipeline ID  Pipeline Version       BAM File  \\\n",
       "Sample Source ID                                                \n",
       "Sample1            STAR+RSEM               2.2  ~/sample1.bam   \n",
       "Sample2            STAR+RSEM               2.2  ~/sample2.bam   \n",
       "Sample3            STAR+RSEM               2.2  ~/sample3.bam   \n",
       "Sample4            STAR+RSEM               2.2  ~/sample4.bam   \n",
       "\n",
       "                 % Reads with MAPQ 0-10 % Reads with MAPQ > 40  \n",
       "Sample Source ID                                                \n",
       "Sample1                           0,90%                 99,10%  \n",
       "Sample2                           0,89%                 99,11%  \n",
       "Sample3                           0,91%                 99,09%  \n",
       "Sample4                           0,87%                 99,13%  "
      ]
     },
     "execution_count": 7,
     "metadata": {},
     "output_type": "execute_result"
    }
   ],
   "source": [
    "additional_metadata = pd.read_csv('https://bio-test-data.s3.amazonaws.com/odm/demo/Secondary+processing+metadata.tsv', sep='\\t').set_index('Sample Source ID')\n",
    "additional_metadata"
   ]
  },
  {
   "cell_type": "markdown",
   "metadata": {},
   "source": [
    "### Add additional metadata"
   ]
  },
  {
   "cell_type": "code",
   "execution_count": 8,
   "metadata": {},
   "outputs": [],
   "source": [
    "for sample_id in additional_metadata.index:\n",
    "    genestack_accession = samples.loc[samples['Sample Source ID']==sample_id,\n",
    "                                      'genestack:accession'].to_list()[0]\n",
    "    sample_curator.SampleSPoTApi().update_sample(\n",
    "        id=genestack_accession,\n",
    "        body=json.loads(additional_metadata.loc[sample_id].to_json())\n",
    "    )"
   ]
  },
  {
   "cell_type": "markdown",
   "metadata": {},
   "source": [
    "### Add processed expression data"
   ]
  },
  {
   "cell_type": "code",
   "execution_count": 9,
   "metadata": {},
   "outputs": [
    {
     "data": {
      "text/plain": [
       "{'experiment': 'GSF997233',\n",
       " 'runs': [{'Sample Source ID': 'Sample1', 'genestack:accession': 'GSF997234'},\n",
       "          {'Sample Source ID': 'Sample2', 'genestack:accession': 'GSF997235'},\n",
       "          {'Sample Source ID': 'Sample3', 'genestack:accession': 'GSF997236'},\n",
       "          {'Sample Source ID': 'Sample4', 'genestack:accession': 'GSF997237'}],\n",
       " 'warnings': []}"
      ]
     },
     "execution_count": 9,
     "metadata": {},
     "output_type": "execute_result"
    }
   ],
   "source": [
    "expressions = expression_curator.ExpressionSPoTApi().add_expression(source=expression_curator.SignalSource(\n",
    "    link='https://bio-test-data.s3.amazonaws.com/odm/demo/expression.genes.TPM.gct',\n",
    "    metadata_link='https://bio-test-data.s3.amazonaws.com/odm/demo/expression.genes.gct.tsv',\n",
    "    template_id = template_id\n",
    "))\n",
    "expressions"
   ]
  },
  {
   "cell_type": "markdown",
   "metadata": {},
   "source": [
    "### Link expression data to samples"
   ]
  },
  {
   "cell_type": "code",
   "execution_count": 10,
   "metadata": {},
   "outputs": [],
   "source": [
    "for run in expressions.runs:\n",
    "    integration_curator.ExpressionIntegrationApi().create_expression_sample_link(\n",
    "        source_id = run['genestack:accession'],\n",
    "        target_id = samples.loc[samples['Sample Source ID']==run['Sample Source ID'],\n",
    "                                      'genestack:accession'].to_list()[0]\n",
    "    )"
   ]
  },
  {
   "cell_type": "markdown",
   "metadata": {},
   "source": [
    "### Query expression data"
   ]
  },
  {
   "cell_type": "code",
   "execution_count": 20,
   "metadata": {},
   "outputs": [
    {
     "data": {
      "text/plain": [
       "{'cursor': 'GSF997221#GSF997224#GSF997224#GSF997236-ENSMUSG00000000001.4',\n",
       " 'data': [{'expression': 0.0,\n",
       "           'gene': 'ENSMUSG00000000001.4',\n",
       "           'groupId': 'GSF997233',\n",
       "           'itemId': 'GSF997235-ENSMUSG00000000001.4',\n",
       "           'metadata': {'Feature Type': 'Gene',\n",
       "                        'Genome Version': 'GRCm38_gencode.vM23',\n",
       "                        'Normalization Method': 'TPM',\n",
       "                        'Run Source ID': 'Sample2',\n",
       "                        'Script ID': 'Script1',\n",
       "                        'Script Version': '1.2'},\n",
       "           'relationships': {'sample': 'GSF997224'},\n",
       "           'runId': 'GSF997235'},\n",
       "          {'expression': 0.0,\n",
       "           'gene': 'ENSMUSG00000000001.4',\n",
       "           'groupId': 'GSF997233',\n",
       "           'itemId': 'GSF997236-ENSMUSG00000000001.4',\n",
       "           'metadata': {'Feature Type': 'Gene',\n",
       "                        'Genome Version': 'GRCm38_gencode.vM23',\n",
       "                        'Normalization Method': 'TPM',\n",
       "                        'Run Source ID': 'Sample3',\n",
       "                        'Script ID': 'Script1',\n",
       "                        'Script Version': '1.2'},\n",
       "           'relationships': {'sample': 'GSF997225'},\n",
       "           'runId': 'GSF997236'}],\n",
       " 'log': ['Found 1 studies matched the study query (total number of found '\n",
       "         'studies is 1 now)',\n",
       "         'Found 2 samples matched the samples/study query (total number of '\n",
       "         'found samples is 2 now)'],\n",
       " 'results_exhausted': True,\n",
       " 'studies_matching_query': 1}"
      ]
     },
     "execution_count": 20,
     "metadata": {},
     "output_type": "execute_result"
    }
   ],
   "source": [
    "expressions = integration_curator.OmicsQueriesApi().search_expression_data(\n",
    "    study_filter='genestack:accession=%s' % study_accession,\n",
    "    sample_filter='Sex=male',\n",
    "    ex_query='Gene=ENSMUSG00000000001.4 MinValue=0.0'\n",
    ")\n",
    "expressions"
   ]
  },
  {
   "cell_type": "markdown",
   "metadata": {},
   "source": [
    "### Add additional processed expression data"
   ]
  },
  {
   "cell_type": "code",
   "execution_count": 15,
   "metadata": {},
   "outputs": [],
   "source": [
    "expressions = expression_curator.ExpressionSPoTApi().add_expression(source=expression_curator.SignalSource(\n",
    "    link='https://bio-test-data.s3.amazonaws.com/odm/demo/expression.transcripts.TPM.gct',\n",
    "    metadata_link='https://bio-test-data.s3.amazonaws.com/odm/demo/expression.transcripts.gct.tsv',\n",
    "    template_id = template_id\n",
    "))\n",
    "\n",
    "for run in expressions.runs:\n",
    "    integration_curator.ExpressionIntegrationApi().create_expression_sample_link(\n",
    "        source_id = run['genestack:accession'],\n",
    "        target_id = samples.loc[samples['Sample Source ID']==run['Sample Source ID'],\n",
    "                                      'genestack:accession'].to_list()[0]\n",
    "    )"
   ]
  },
  {
   "cell_type": "markdown",
   "metadata": {},
   "source": [
    "### Query transcript-level expression data"
   ]
  },
  {
   "cell_type": "code",
   "execution_count": 19,
   "metadata": {},
   "outputs": [
    {
     "data": {
      "text/plain": [
       "{'cursor': 'GSF997221#GSF997224#GSF997224#GSF997242-ENSMUST00000070533.4',\n",
       " 'data': [{'expression': 12.08136551462,\n",
       "           'gene': 'ENSMUST00000070533.4',\n",
       "           'groupId': 'GSF997239',\n",
       "           'itemId': 'GSF997241-ENSMUST00000070533.4',\n",
       "           'metadata': {'Feature Type': 'Transcript',\n",
       "                        'Genome Version': 'GRCm38_gencode.vM23',\n",
       "                        'Normalization Method': 'TPM',\n",
       "                        'Run Source ID': 'Sample2',\n",
       "                        'Script ID': 'Script1',\n",
       "                        'Script Version': '1.2'},\n",
       "           'relationships': {'sample': 'GSF997224'},\n",
       "           'runId': 'GSF997241'},\n",
       "          {'expression': 13.6785082946958,\n",
       "           'gene': 'ENSMUST00000070533.4',\n",
       "           'groupId': 'GSF997239',\n",
       "           'itemId': 'GSF997242-ENSMUST00000070533.4',\n",
       "           'metadata': {'Feature Type': 'Transcript',\n",
       "                        'Genome Version': 'GRCm38_gencode.vM23',\n",
       "                        'Normalization Method': 'TPM',\n",
       "                        'Run Source ID': 'Sample3',\n",
       "                        'Script ID': 'Script1',\n",
       "                        'Script Version': '1.2'},\n",
       "           'relationships': {'sample': 'GSF997225'},\n",
       "           'runId': 'GSF997242'}],\n",
       " 'log': ['Found 1 studies matched the study query (total number of found '\n",
       "         'studies is 1 now)',\n",
       "         'Found 2 samples matched the samples/study query (total number of '\n",
       "         'found samples is 2 now)'],\n",
       " 'results_exhausted': True,\n",
       " 'studies_matching_query': 1}"
      ]
     },
     "execution_count": 19,
     "metadata": {},
     "output_type": "execute_result"
    }
   ],
   "source": [
    "expressions = integration_curator.OmicsQueriesApi().search_expression_data(\n",
    "    study_filter='genestack:accession=%s' % study_accession,\n",
    "    sample_filter='Sex=male',\n",
    "    ex_filter='\"Feature Type\"=Transcript',\n",
    "    ex_query='Gene=ENSMUST00000070533.4 MinValue=0.0'\n",
    ")\n",
    "expressions"
   ]
  },
  {
   "cell_type": "code",
   "execution_count": null,
   "metadata": {},
   "outputs": [],
   "source": []
  }
 ],
 "metadata": {
  "kernelspec": {
   "display_name": "Python 3",
   "language": "python",
   "name": "python3"
  },
  "language_info": {
   "codemirror_mode": {
    "name": "ipython",
    "version": 3
   },
   "file_extension": ".py",
   "mimetype": "text/x-python",
   "name": "python",
   "nbconvert_exporter": "python",
   "pygments_lexer": "ipython3",
   "version": "3.7.5"
  }
 },
 "nbformat": 4,
 "nbformat_minor": 4
}
