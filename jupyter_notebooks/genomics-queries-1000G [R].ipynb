{
 "cells": [
  {
   "cell_type": "markdown",
   "metadata": {},
   "source": [
    "# Genomics Queries on 1000 Genomes dataset"
   ]
  },
  {
   "cell_type": "markdown",
   "metadata": {},
   "source": [
    "### Set instance and token"
   ]
  },
  {
   "cell_type": "code",
   "execution_count": 1,
   "metadata": {},
   "outputs": [
    {
     "name": "stderr",
     "output_type": "stream",
     "text": [
      "Warning message:\n",
      "“package ‘tibble’ was built under R version 3.6.3”Warning message:\n",
      "“package ‘tidyr’ was built under R version 3.6.3”Warning message:\n",
      "“package ‘dplyr’ was built under R version 3.6.3”"
     ]
    }
   ],
   "source": [
    "suppressMessages(library(tidyverse))\n",
    "library(integrationCurator) # Genestack client library\n",
    "\n",
    "Sys.setenv(PRED_SPOT_HOST = 'occam.genestack.com',\n",
    "           PRED_SPOT_TOKEN = '<token>',\n",
    "           PRED_SPOT_VERSION = 'default-released')"
   ]
  },
  {
   "cell_type": "markdown",
   "metadata": {},
   "source": [
    "### Get samples"
   ]
  },
  {
   "cell_type": "code",
   "execution_count": 2,
   "metadata": {},
   "outputs": [
    {
     "name": "stdout",
     "output_type": "stream",
     "text": [
      "Time to get 182 samples: 0 seconds\n",
      "\n"
     ]
    },
    {
     "data": {
      "text/html": [
       "<table>\n",
       "<thead><tr><th scope=col>genestack:accession</th><th scope=col>Sample Source ID</th><th scope=col>Species Or Strain</th></tr></thead>\n",
       "<tbody>\n",
       "\t<tr><td>GSF535900</td><td>HG00111  </td><td>British  </td></tr>\n",
       "\t<tr><td>GSF535899</td><td>HG00110  </td><td>British  </td></tr>\n",
       "\t<tr><td>GSF535902</td><td>HG00113  </td><td>British  </td></tr>\n",
       "\t<tr><td>GSF535901</td><td>HG00112  </td><td>British  </td></tr>\n",
       "\t<tr><td>GSF535896</td><td>HG00106  </td><td>British  </td></tr>\n",
       "\t<tr><td>GSF535895</td><td>HG00104  </td><td>British  </td></tr>\n",
       "</tbody>\n",
       "</table>\n"
      ],
      "text/latex": [
       "\\begin{tabular}{r|lll}\n",
       " genestack:accession & Sample Source ID & Species Or Strain\\\\\n",
       "\\hline\n",
       "\t GSF535900 & HG00111   & British  \\\\\n",
       "\t GSF535899 & HG00110   & British  \\\\\n",
       "\t GSF535902 & HG00113   & British  \\\\\n",
       "\t GSF535901 & HG00112   & British  \\\\\n",
       "\t GSF535896 & HG00106   & British  \\\\\n",
       "\t GSF535895 & HG00104   & British  \\\\\n",
       "\\end{tabular}\n"
      ],
      "text/markdown": [
       "\n",
       "| genestack:accession | Sample Source ID | Species Or Strain |\n",
       "|---|---|---|\n",
       "| GSF535900 | HG00111   | British   |\n",
       "| GSF535899 | HG00110   | British   |\n",
       "| GSF535902 | HG00113   | British   |\n",
       "| GSF535901 | HG00112   | British   |\n",
       "| GSF535896 | HG00106   | British   |\n",
       "| GSF535895 | HG00104   | British   |\n",
       "\n"
      ],
      "text/plain": [
       "  genestack:accession Sample Source ID Species Or Strain\n",
       "1 GSF535900           HG00111          British          \n",
       "2 GSF535899           HG00110          British          \n",
       "3 GSF535902           HG00113          British          \n",
       "4 GSF535901           HG00112          British          \n",
       "5 GSF535896           HG00106          British          \n",
       "6 GSF535895           HG00104          British          "
      ]
     },
     "metadata": {},
     "output_type": "display_data"
    }
   ],
   "source": [
    "start = Sys.time()\n",
    "samples <- OmicsQueriesApi_search_samples(\n",
    "    study_filter='genestack:accession=GSF535886',\n",
    "    sample_filter='\"Species Or Strain\"=\"British\" OR \"Species Or Strain\"=\"Finnish\"'\n",
    ")$content$data[['metadata']]\n",
    "cat(sprintf('Time to get %s samples: %s seconds\\n\\n', nrow(samples), round(Sys.time()-start)))\n",
    "\n",
    "samples = samples[,c('genestack:accession', 'Sample Source ID', 'Species Or Strain')]\n",
    "head(samples)"
   ]
  },
  {
   "cell_type": "markdown",
   "metadata": {},
   "source": [
    "### Get variants\n",
    "The query below will retrieve, from the selected samples, SNPs within a certain genomic region that are annotated to have allele frequence greater than 0.1%.\n",
    "\n",
    "It is possible to filter the variants by:\n",
    "- Genomic region, e.g. Intervals=4:142142000-142143000\n",
    "- Reference / Alteration alleles, e.g. Reference=T\n",
    "- Variant ID, e.g. VariationId=rs79011024\n",
    "- Numerical or categorical INFO fields, e.g. info_AF=(0.001:1), info_SNPSOURCE=LOWCOV\n",
    "- Minimum number of alternative alleles in the sample genotypes, e.g. AllelesNumber=1 will filter for 0|1, 1|0, 1|1 genotypes\n",
    "- Variant type, e.g. Type=SNP\n",
    "\n",
    "See the example query parameters [here](https://swagger.occam.genestack.com/integrationCurator/#/Omics%20queries/searchVariantData), under *vxQuery*"
   ]
  },
  {
   "cell_type": "code",
   "execution_count": 3,
   "metadata": {},
   "outputs": [
    {
     "name": "stdout",
     "output_type": "stream",
     "text": [
      "Time to get 1267 variants: 1 seconds\n",
      "\n"
     ]
    },
    {
     "data": {
      "text/html": [
       "<table>\n",
       "<thead><tr><th scope=col>SampleID</th><th scope=col>VariantID</th><th scope=col>Chr</th><th scope=col>Start</th><th scope=col>Ref</th><th scope=col>Alt</th><th scope=col>sampleNames</th><th scope=col>GL</th><th scope=col>GT</th><th scope=col>DS</th><th scope=col>...</th><th scope=col>AF</th><th scope=col>ERATE</th><th scope=col>AFR_AF</th><th scope=col>AN</th><th scope=col>VT</th><th scope=col>LDAF</th><th scope=col>THETA</th><th scope=col>ASN_AF</th><th scope=col>AMR_AF</th><th scope=col>EUR_AF</th></tr></thead>\n",
       "<tbody>\n",
       "\t<tr><td>GSF535888        </td><td>rs79011024       </td><td>4                </td><td>142142126        </td><td>T                </td><td>C                </td><td>HG00096          </td><td>-0.18,-0.48,-2.47</td><td>0|0              </td><td>0.000            </td><td>...              </td><td>0.0018           </td><td>0.0003           </td><td>0.01             </td><td>2184             </td><td>SNP              </td><td>0.0022           </td><td>0.0008           </td><td>                 </td><td>                 </td><td>                 </td></tr>\n",
       "\t<tr><td>GSF535889        </td><td>rs79011024       </td><td>4                </td><td>142142126        </td><td>T                </td><td>C                </td><td>HG00097          </td><td>-0.04,-1.06,-5.00</td><td>0|0              </td><td>0.000            </td><td>...              </td><td>0.0018           </td><td>0.0003           </td><td>0.01             </td><td>2184             </td><td>SNP              </td><td>0.0022           </td><td>0.0008           </td><td>                 </td><td>                 </td><td>                 </td></tr>\n",
       "\t<tr><td>GSF535890        </td><td>rs79011024       </td><td>4                </td><td>142142126        </td><td>T                </td><td>C                </td><td>HG00099          </td><td>-0.04,-1.09,-5.00</td><td>0|0              </td><td>0.000            </td><td>...              </td><td>0.0018           </td><td>0.0003           </td><td>0.01             </td><td>2184             </td><td>SNP              </td><td>0.0022           </td><td>0.0008           </td><td>                 </td><td>                 </td><td>                 </td></tr>\n",
       "\t<tr><td>GSF535891        </td><td>rs79011024       </td><td>4                </td><td>142142126        </td><td>T                </td><td>C                </td><td>HG00100          </td><td>-0.03,-1.21,-5.00</td><td>0|0              </td><td>0.000            </td><td>...              </td><td>0.0018           </td><td>0.0003           </td><td>0.01             </td><td>2184             </td><td>SNP              </td><td>0.0022           </td><td>0.0008           </td><td>                 </td><td>                 </td><td>                 </td></tr>\n",
       "\t<tr><td>GSF535892        </td><td>rs79011024       </td><td>4                </td><td>142142126        </td><td>T                </td><td>C                </td><td>HG00101          </td><td>-0.00,-3.52,-5.00</td><td>0|0              </td><td>0.000            </td><td>...              </td><td>0.0018           </td><td>0.0003           </td><td>0.01             </td><td>2184             </td><td>SNP              </td><td>0.0022           </td><td>0.0008           </td><td>                 </td><td>                 </td><td>                 </td></tr>\n",
       "\t<tr><td>GSF535893        </td><td>rs79011024       </td><td>4                </td><td>142142126        </td><td>T                </td><td>C                </td><td>HG00102          </td><td>-0.01,-1.65,-5.00</td><td>0|0              </td><td>0.000            </td><td>...              </td><td>0.0018           </td><td>0.0003           </td><td>0.01             </td><td>2184             </td><td>SNP              </td><td>0.0022           </td><td>0.0008           </td><td>                 </td><td>                 </td><td>                 </td></tr>\n",
       "</tbody>\n",
       "</table>\n"
      ],
      "text/latex": [
       "\\begin{tabular}{r|lllllllllllllllllllllllll}\n",
       " SampleID & VariantID & Chr & Start & Ref & Alt & sampleNames & GL & GT & DS & ... & AF & ERATE & AFR\\_AF & AN & VT & LDAF & THETA & ASN\\_AF & AMR\\_AF & EUR\\_AF\\\\\n",
       "\\hline\n",
       "\t GSF535888         & rs79011024        & 4                 & 142142126         & T                 & C                 & HG00096           & -0.18,-0.48,-2.47 & 0\\textbar{}0     & 0.000             & ...               & 0.0018            & 0.0003            & 0.01              & 2184              & SNP               & 0.0022            & 0.0008            &                   &                   &                  \\\\\n",
       "\t GSF535889         & rs79011024        & 4                 & 142142126         & T                 & C                 & HG00097           & -0.04,-1.06,-5.00 & 0\\textbar{}0     & 0.000             & ...               & 0.0018            & 0.0003            & 0.01              & 2184              & SNP               & 0.0022            & 0.0008            &                   &                   &                  \\\\\n",
       "\t GSF535890         & rs79011024        & 4                 & 142142126         & T                 & C                 & HG00099           & -0.04,-1.09,-5.00 & 0\\textbar{}0     & 0.000             & ...               & 0.0018            & 0.0003            & 0.01              & 2184              & SNP               & 0.0022            & 0.0008            &                   &                   &                  \\\\\n",
       "\t GSF535891         & rs79011024        & 4                 & 142142126         & T                 & C                 & HG00100           & -0.03,-1.21,-5.00 & 0\\textbar{}0     & 0.000             & ...               & 0.0018            & 0.0003            & 0.01              & 2184              & SNP               & 0.0022            & 0.0008            &                   &                   &                  \\\\\n",
       "\t GSF535892         & rs79011024        & 4                 & 142142126         & T                 & C                 & HG00101           & -0.00,-3.52,-5.00 & 0\\textbar{}0     & 0.000             & ...               & 0.0018            & 0.0003            & 0.01              & 2184              & SNP               & 0.0022            & 0.0008            &                   &                   &                  \\\\\n",
       "\t GSF535893         & rs79011024        & 4                 & 142142126         & T                 & C                 & HG00102           & -0.01,-1.65,-5.00 & 0\\textbar{}0     & 0.000             & ...               & 0.0018            & 0.0003            & 0.01              & 2184              & SNP               & 0.0022            & 0.0008            &                   &                   &                  \\\\\n",
       "\\end{tabular}\n"
      ],
      "text/markdown": [
       "\n",
       "| SampleID | VariantID | Chr | Start | Ref | Alt | sampleNames | GL | GT | DS | ... | AF | ERATE | AFR_AF | AN | VT | LDAF | THETA | ASN_AF | AMR_AF | EUR_AF |\n",
       "|---|---|---|---|---|---|---|---|---|---|---|---|---|---|---|---|---|---|---|---|---|\n",
       "| GSF535888         | rs79011024        | 4                 | 142142126         | T                 | C                 | HG00096           | -0.18,-0.48,-2.47 | 0|0               | 0.000             | ...               | 0.0018            | 0.0003            | 0.01              | 2184              | SNP               | 0.0022            | 0.0008            |                   |                   |                   |\n",
       "| GSF535889         | rs79011024        | 4                 | 142142126         | T                 | C                 | HG00097           | -0.04,-1.06,-5.00 | 0|0               | 0.000             | ...               | 0.0018            | 0.0003            | 0.01              | 2184              | SNP               | 0.0022            | 0.0008            |                   |                   |                   |\n",
       "| GSF535890         | rs79011024        | 4                 | 142142126         | T                 | C                 | HG00099           | -0.04,-1.09,-5.00 | 0|0               | 0.000             | ...               | 0.0018            | 0.0003            | 0.01              | 2184              | SNP               | 0.0022            | 0.0008            |                   |                   |                   |\n",
       "| GSF535891         | rs79011024        | 4                 | 142142126         | T                 | C                 | HG00100           | -0.03,-1.21,-5.00 | 0|0               | 0.000             | ...               | 0.0018            | 0.0003            | 0.01              | 2184              | SNP               | 0.0022            | 0.0008            |                   |                   |                   |\n",
       "| GSF535892         | rs79011024        | 4                 | 142142126         | T                 | C                 | HG00101           | -0.00,-3.52,-5.00 | 0|0               | 0.000             | ...               | 0.0018            | 0.0003            | 0.01              | 2184              | SNP               | 0.0022            | 0.0008            |                   |                   |                   |\n",
       "| GSF535893         | rs79011024        | 4                 | 142142126         | T                 | C                 | HG00102           | -0.01,-1.65,-5.00 | 0|0               | 0.000             | ...               | 0.0018            | 0.0003            | 0.01              | 2184              | SNP               | 0.0022            | 0.0008            |                   |                   |                   |\n",
       "\n"
      ],
      "text/plain": [
       "  SampleID  VariantID  Chr Start     Ref Alt sampleNames GL                GT \n",
       "1 GSF535888 rs79011024 4   142142126 T   C   HG00096     -0.18,-0.48,-2.47 0|0\n",
       "2 GSF535889 rs79011024 4   142142126 T   C   HG00097     -0.04,-1.06,-5.00 0|0\n",
       "3 GSF535890 rs79011024 4   142142126 T   C   HG00099     -0.04,-1.09,-5.00 0|0\n",
       "4 GSF535891 rs79011024 4   142142126 T   C   HG00100     -0.03,-1.21,-5.00 0|0\n",
       "5 GSF535892 rs79011024 4   142142126 T   C   HG00101     -0.00,-3.52,-5.00 0|0\n",
       "6 GSF535893 rs79011024 4   142142126 T   C   HG00102     -0.01,-1.65,-5.00 0|0\n",
       "  DS    ... AF     ERATE  AFR_AF AN   VT  LDAF   THETA  ASN_AF AMR_AF EUR_AF\n",
       "1 0.000 ... 0.0018 0.0003 0.01   2184 SNP 0.0022 0.0008                     \n",
       "2 0.000 ... 0.0018 0.0003 0.01   2184 SNP 0.0022 0.0008                     \n",
       "3 0.000 ... 0.0018 0.0003 0.01   2184 SNP 0.0022 0.0008                     \n",
       "4 0.000 ... 0.0018 0.0003 0.01   2184 SNP 0.0022 0.0008                     \n",
       "5 0.000 ... 0.0018 0.0003 0.01   2184 SNP 0.0022 0.0008                     \n",
       "6 0.000 ... 0.0018 0.0003 0.01   2184 SNP 0.0022 0.0008                     "
      ]
     },
     "metadata": {},
     "output_type": "display_data"
    }
   ],
   "source": [
    "start = Sys.time()\n",
    "variants = OmicsQueriesApi_search_variant_data(\n",
    "    study_filter='genestack:accession=GSF535886',\n",
    "    sample_filter='\"Species Or Strain\"=\"British\" OR \"Species Or Strain\"=\"Finnish\"',\n",
    "    vx_query='Intervals=4:142142000-142143000 Type=SNP info_AF=(0.001:1)',\n",
    "    page_limit=20000\n",
    ")$content$data\n",
    "cat(sprintf('Time to get %s variants: %s seconds\\n\\n', nrow(variants), round(Sys.time()-start)))\n",
    "\n",
    "variants = cbind(\n",
    "    'SampleID'=variants$relationships$sample,\n",
    "    VariantID=variants$variationId,\n",
    "    Chr=variants$contig,\n",
    "    Start=variants$start,\n",
    "    Ref=variants$reference,\n",
    "    Alt=variants$alteration,\n",
    "    do.call(cbind, variants$genotype),\n",
    "    do.call(cbind, variants$info)\n",
    ") %>% as_tibble %>% mutate_all(function(x) map_chr(x, ~paste(., collapse=', ')))\n",
    "\n",
    "head(variants)"
   ]
  },
  {
   "cell_type": "markdown",
   "metadata": {},
   "source": [
    "### Count genotypes by sample groups and variant IDs"
   ]
  },
  {
   "cell_type": "code",
   "execution_count": 4,
   "metadata": {},
   "outputs": [
    {
     "data": {
      "text/html": [
       "<table>\n",
       "<thead><tr><th scope=col>VariantID</th><th scope=col>Species Or Strain</th><th scope=col>GT</th><th scope=col>AF</th><th scope=col>n</th></tr></thead>\n",
       "<tbody>\n",
       "\t<tr><td>rs10023024 </td><td>British    </td><td>0|0        </td><td>0.01       </td><td>88         </td></tr>\n",
       "\t<tr><td>rs10023024 </td><td>Finnish    </td><td>0|0        </td><td>0.01       </td><td>93         </td></tr>\n",
       "\t<tr><td>rs13147597 </td><td>British    </td><td>0|0        </td><td>0.0014     </td><td>88         </td></tr>\n",
       "\t<tr><td>rs13147597 </td><td>Finnish    </td><td>0|0        </td><td>0.0014     </td><td>93         </td></tr>\n",
       "\t<tr><td>rs146362755</td><td>British    </td><td>0|0        </td><td>0.01       </td><td>86         </td></tr>\n",
       "\t<tr><td>rs146362755</td><td>British    </td><td>0|1        </td><td>0.01       </td><td> 1         </td></tr>\n",
       "\t<tr><td>rs146362755</td><td>British    </td><td>1|0        </td><td>0.01       </td><td> 1         </td></tr>\n",
       "\t<tr><td>rs146362755</td><td>Finnish    </td><td>0|0        </td><td>0.01       </td><td>93         </td></tr>\n",
       "\t<tr><td>rs148317497</td><td>British    </td><td>0|0        </td><td>0.0037     </td><td>88         </td></tr>\n",
       "\t<tr><td>rs148317497</td><td>Finnish    </td><td>0|0        </td><td>0.0037     </td><td>93         </td></tr>\n",
       "\t<tr><td>rs17007017 </td><td>British    </td><td>0|0        </td><td>0.41       </td><td>48         </td></tr>\n",
       "\t<tr><td>rs17007017 </td><td>British    </td><td>0|1        </td><td>0.41       </td><td>19         </td></tr>\n",
       "\t<tr><td>rs17007017 </td><td>British    </td><td>1|0        </td><td>0.41       </td><td>15         </td></tr>\n",
       "\t<tr><td>rs17007017 </td><td>British    </td><td>1|1        </td><td>0.41       </td><td> 6         </td></tr>\n",
       "\t<tr><td>rs17007017 </td><td>Finnish    </td><td>0|0        </td><td>0.41       </td><td>61         </td></tr>\n",
       "\t<tr><td>rs17007017 </td><td>Finnish    </td><td>0|1        </td><td>0.41       </td><td>14         </td></tr>\n",
       "\t<tr><td>rs17007017 </td><td>Finnish    </td><td>1|0        </td><td>0.41       </td><td>14         </td></tr>\n",
       "\t<tr><td>rs17007017 </td><td>Finnish    </td><td>1|1        </td><td>0.41       </td><td> 4         </td></tr>\n",
       "\t<tr><td>rs188582973</td><td>British    </td><td>0|0        </td><td>0.0014     </td><td>88         </td></tr>\n",
       "\t<tr><td>rs188582973</td><td>Finnish    </td><td>0|0        </td><td>0.0014     </td><td>93         </td></tr>\n",
       "\t<tr><td>rs79011024 </td><td>British    </td><td>0|0        </td><td>0.0018     </td><td>88         </td></tr>\n",
       "\t<tr><td>rs79011024 </td><td>Finnish    </td><td>0|0        </td><td>0.0018     </td><td>93         </td></tr>\n",
       "</tbody>\n",
       "</table>\n"
      ],
      "text/latex": [
       "\\begin{tabular}{r|lllll}\n",
       " VariantID & Species Or Strain & GT & AF & n\\\\\n",
       "\\hline\n",
       "\t rs10023024    & British       & 0\\textbar{}0 & 0.01          & 88           \\\\\n",
       "\t rs10023024    & Finnish       & 0\\textbar{}0 & 0.01          & 93           \\\\\n",
       "\t rs13147597    & British       & 0\\textbar{}0 & 0.0014        & 88           \\\\\n",
       "\t rs13147597    & Finnish       & 0\\textbar{}0 & 0.0014        & 93           \\\\\n",
       "\t rs146362755   & British       & 0\\textbar{}0 & 0.01          & 86           \\\\\n",
       "\t rs146362755   & British       & 0\\textbar{}1 & 0.01          &  1           \\\\\n",
       "\t rs146362755   & British       & 1\\textbar{}0 & 0.01          &  1           \\\\\n",
       "\t rs146362755   & Finnish       & 0\\textbar{}0 & 0.01          & 93           \\\\\n",
       "\t rs148317497   & British       & 0\\textbar{}0 & 0.0037        & 88           \\\\\n",
       "\t rs148317497   & Finnish       & 0\\textbar{}0 & 0.0037        & 93           \\\\\n",
       "\t rs17007017    & British       & 0\\textbar{}0 & 0.41          & 48           \\\\\n",
       "\t rs17007017    & British       & 0\\textbar{}1 & 0.41          & 19           \\\\\n",
       "\t rs17007017    & British       & 1\\textbar{}0 & 0.41          & 15           \\\\\n",
       "\t rs17007017    & British       & 1\\textbar{}1 & 0.41          &  6           \\\\\n",
       "\t rs17007017    & Finnish       & 0\\textbar{}0 & 0.41          & 61           \\\\\n",
       "\t rs17007017    & Finnish       & 0\\textbar{}1 & 0.41          & 14           \\\\\n",
       "\t rs17007017    & Finnish       & 1\\textbar{}0 & 0.41          & 14           \\\\\n",
       "\t rs17007017    & Finnish       & 1\\textbar{}1 & 0.41          &  4           \\\\\n",
       "\t rs188582973   & British       & 0\\textbar{}0 & 0.0014        & 88           \\\\\n",
       "\t rs188582973   & Finnish       & 0\\textbar{}0 & 0.0014        & 93           \\\\\n",
       "\t rs79011024    & British       & 0\\textbar{}0 & 0.0018        & 88           \\\\\n",
       "\t rs79011024    & Finnish       & 0\\textbar{}0 & 0.0018        & 93           \\\\\n",
       "\\end{tabular}\n"
      ],
      "text/markdown": [
       "\n",
       "| VariantID | Species Or Strain | GT | AF | n |\n",
       "|---|---|---|---|---|\n",
       "| rs10023024  | British     | 0|0         | 0.01        | 88          |\n",
       "| rs10023024  | Finnish     | 0|0         | 0.01        | 93          |\n",
       "| rs13147597  | British     | 0|0         | 0.0014      | 88          |\n",
       "| rs13147597  | Finnish     | 0|0         | 0.0014      | 93          |\n",
       "| rs146362755 | British     | 0|0         | 0.01        | 86          |\n",
       "| rs146362755 | British     | 0|1         | 0.01        |  1          |\n",
       "| rs146362755 | British     | 1|0         | 0.01        |  1          |\n",
       "| rs146362755 | Finnish     | 0|0         | 0.01        | 93          |\n",
       "| rs148317497 | British     | 0|0         | 0.0037      | 88          |\n",
       "| rs148317497 | Finnish     | 0|0         | 0.0037      | 93          |\n",
       "| rs17007017  | British     | 0|0         | 0.41        | 48          |\n",
       "| rs17007017  | British     | 0|1         | 0.41        | 19          |\n",
       "| rs17007017  | British     | 1|0         | 0.41        | 15          |\n",
       "| rs17007017  | British     | 1|1         | 0.41        |  6          |\n",
       "| rs17007017  | Finnish     | 0|0         | 0.41        | 61          |\n",
       "| rs17007017  | Finnish     | 0|1         | 0.41        | 14          |\n",
       "| rs17007017  | Finnish     | 1|0         | 0.41        | 14          |\n",
       "| rs17007017  | Finnish     | 1|1         | 0.41        |  4          |\n",
       "| rs188582973 | British     | 0|0         | 0.0014      | 88          |\n",
       "| rs188582973 | Finnish     | 0|0         | 0.0014      | 93          |\n",
       "| rs79011024  | British     | 0|0         | 0.0018      | 88          |\n",
       "| rs79011024  | Finnish     | 0|0         | 0.0018      | 93          |\n",
       "\n"
      ],
      "text/plain": [
       "   VariantID   Species Or Strain GT  AF     n \n",
       "1  rs10023024  British           0|0 0.01   88\n",
       "2  rs10023024  Finnish           0|0 0.01   93\n",
       "3  rs13147597  British           0|0 0.0014 88\n",
       "4  rs13147597  Finnish           0|0 0.0014 93\n",
       "5  rs146362755 British           0|0 0.01   86\n",
       "6  rs146362755 British           0|1 0.01    1\n",
       "7  rs146362755 British           1|0 0.01    1\n",
       "8  rs146362755 Finnish           0|0 0.01   93\n",
       "9  rs148317497 British           0|0 0.0037 88\n",
       "10 rs148317497 Finnish           0|0 0.0037 93\n",
       "11 rs17007017  British           0|0 0.41   48\n",
       "12 rs17007017  British           0|1 0.41   19\n",
       "13 rs17007017  British           1|0 0.41   15\n",
       "14 rs17007017  British           1|1 0.41    6\n",
       "15 rs17007017  Finnish           0|0 0.41   61\n",
       "16 rs17007017  Finnish           0|1 0.41   14\n",
       "17 rs17007017  Finnish           1|0 0.41   14\n",
       "18 rs17007017  Finnish           1|1 0.41    4\n",
       "19 rs188582973 British           0|0 0.0014 88\n",
       "20 rs188582973 Finnish           0|0 0.0014 93\n",
       "21 rs79011024  British           0|0 0.0018 88\n",
       "22 rs79011024  Finnish           0|0 0.0018 93"
      ]
     },
     "metadata": {},
     "output_type": "display_data"
    }
   ],
   "source": [
    "x = inner_join(samples, variants, by=c(\"genestack:accession\"=\"SampleID\"))\n",
    "x %>% group_by(VariantID, `Species Or Strain`, GT, AF) %>% tally()"
   ]
  },
  {
   "cell_type": "markdown",
   "metadata": {},
   "source": [
    "### Get samples with certain variants\n",
    "The query below will find samples with at least 1 alternative allele for variant rs17007017, i.e. samples with 0|1, 1|0, 1|1 genotypes"
   ]
  },
  {
   "cell_type": "code",
   "execution_count": 5,
   "metadata": {},
   "outputs": [
    {
     "name": "stdout",
     "output_type": "stream",
     "text": [
      "Time to get 72 samples: 0 seconds\n",
      "\n"
     ]
    },
    {
     "data": {
      "text/html": [
       "<table>\n",
       "<thead><tr><th scope=col>genestack:accession</th><th scope=col>Sample Source ID</th><th scope=col>Species Or Strain</th></tr></thead>\n",
       "<tbody>\n",
       "\t<tr><td>GSF536014</td><td>HG00312  </td><td>Finnish  </td></tr>\n",
       "\t<tr><td>GSF536004</td><td>HG00278  </td><td>Finnish  </td></tr>\n",
       "\t<tr><td>GSF536003</td><td>HG00277  </td><td>Finnish  </td></tr>\n",
       "\t<tr><td>GSF536000</td><td>HG00274  </td><td>Finnish  </td></tr>\n",
       "\t<tr><td>GSF535999</td><td>HG00273  </td><td>Finnish  </td></tr>\n",
       "\t<tr><td>GSF536001</td><td>HG00275  </td><td>Finnish  </td></tr>\n",
       "</tbody>\n",
       "</table>\n"
      ],
      "text/latex": [
       "\\begin{tabular}{r|lll}\n",
       " genestack:accession & Sample Source ID & Species Or Strain\\\\\n",
       "\\hline\n",
       "\t GSF536014 & HG00312   & Finnish  \\\\\n",
       "\t GSF536004 & HG00278   & Finnish  \\\\\n",
       "\t GSF536003 & HG00277   & Finnish  \\\\\n",
       "\t GSF536000 & HG00274   & Finnish  \\\\\n",
       "\t GSF535999 & HG00273   & Finnish  \\\\\n",
       "\t GSF536001 & HG00275   & Finnish  \\\\\n",
       "\\end{tabular}\n"
      ],
      "text/markdown": [
       "\n",
       "| genestack:accession | Sample Source ID | Species Or Strain |\n",
       "|---|---|---|\n",
       "| GSF536014 | HG00312   | Finnish   |\n",
       "| GSF536004 | HG00278   | Finnish   |\n",
       "| GSF536003 | HG00277   | Finnish   |\n",
       "| GSF536000 | HG00274   | Finnish   |\n",
       "| GSF535999 | HG00273   | Finnish   |\n",
       "| GSF536001 | HG00275   | Finnish   |\n",
       "\n"
      ],
      "text/plain": [
       "  genestack:accession Sample Source ID Species Or Strain\n",
       "1 GSF536014           HG00312          Finnish          \n",
       "2 GSF536004           HG00278          Finnish          \n",
       "3 GSF536003           HG00277          Finnish          \n",
       "4 GSF536000           HG00274          Finnish          \n",
       "5 GSF535999           HG00273          Finnish          \n",
       "6 GSF536001           HG00275          Finnish          "
      ]
     },
     "metadata": {},
     "output_type": "display_data"
    },
    {
     "data": {
      "text/html": [
       "<table>\n",
       "<thead><tr><th scope=col>Species Or Strain</th><th scope=col>n</th></tr></thead>\n",
       "<tbody>\n",
       "\t<tr><td>British</td><td>40     </td></tr>\n",
       "\t<tr><td>Finnish</td><td>32     </td></tr>\n",
       "</tbody>\n",
       "</table>\n"
      ],
      "text/latex": [
       "\\begin{tabular}{r|ll}\n",
       " Species Or Strain & n\\\\\n",
       "\\hline\n",
       "\t British & 40     \\\\\n",
       "\t Finnish & 32     \\\\\n",
       "\\end{tabular}\n"
      ],
      "text/markdown": [
       "\n",
       "| Species Or Strain | n |\n",
       "|---|---|\n",
       "| British | 40      |\n",
       "| Finnish | 32      |\n",
       "\n"
      ],
      "text/plain": [
       "  Species Or Strain n \n",
       "1 British           40\n",
       "2 Finnish           32"
      ]
     },
     "metadata": {},
     "output_type": "display_data"
    }
   ],
   "source": [
    "start = Sys.time()\n",
    "samples = OmicsQueriesApi_search_samples(\n",
    "    study_filter='genestack:accession=GSF535886',\n",
    "    sample_filter='\"Species Or Strain\"=\"British\" OR \"Species Or Strain\"=\"Finnish\"',\n",
    "    vx_query='VariationId=rs17007017 AllelesNumber=1',\n",
    "    page_limit=20000\n",
    ")$content$data[['metadata']]\n",
    "cat(sprintf('Time to get %s samples: %s seconds\\n\\n', nrow(samples), round(Sys.time()-start)))\n",
    "\n",
    "head(samples[,c('genestack:accession', 'Sample Source ID', 'Species Or Strain')])\n",
    "samples %>% group_by(`Species Or Strain`) %>% tally()"
   ]
  },
  {
   "cell_type": "code",
   "execution_count": null,
   "metadata": {},
   "outputs": [],
   "source": []
  }
 ],
 "metadata": {
  "kernelspec": {
   "display_name": "R",
   "language": "R",
   "name": "ir"
  },
  "language_info": {
   "codemirror_mode": "r",
   "file_extension": ".r",
   "mimetype": "text/x-r-source",
   "name": "R",
   "pygments_lexer": "r",
   "version": "3.6.1"
  }
 },
 "nbformat": 4,
 "nbformat_minor": 4
}
