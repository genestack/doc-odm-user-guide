{
 "cells": [
  {
   "cell_type": "markdown",
   "metadata": {},
   "source": [
    "# TCGA Multi-Omics API Demo"
   ]
  },
  {
   "cell_type": "markdown",
   "metadata": {},
   "source": [
    "### 1. Connect to the instance"
   ]
  },
  {
   "cell_type": "code",
   "execution_count": 2,
   "metadata": {},
   "outputs": [
    {
     "data": {
      "text/html": [
       "<ol>\n",
       "\t<li>TRUE</li>\n",
       "\t<li>TRUE</li>\n",
       "\t<li>TRUE</li>\n",
       "\t<li>TRUE</li>\n",
       "\t<li>TRUE</li>\n",
       "</ol>\n"
      ],
      "text/latex": [
       "\\begin{enumerate}\n",
       "\\item TRUE\n",
       "\\item TRUE\n",
       "\\item TRUE\n",
       "\\item TRUE\n",
       "\\item TRUE\n",
       "\\end{enumerate}\n"
      ],
      "text/markdown": [
       "1. TRUE\n",
       "2. TRUE\n",
       "3. TRUE\n",
       "4. TRUE\n",
       "5. TRUE\n",
       "\n",
       "\n"
      ],
      "text/plain": [
       "[[1]]\n",
       "[1] TRUE\n",
       "\n",
       "[[2]]\n",
       "[1] TRUE\n",
       "\n",
       "[[3]]\n",
       "[1] TRUE\n",
       "\n",
       "[[4]]\n",
       "[1] TRUE\n",
       "\n",
       "[[5]]\n",
       "[1] TRUE\n"
      ]
     },
     "metadata": {},
     "output_type": "display_data"
    }
   ],
   "source": [
    "lapply(X = c('tidyverse', 'magrittr', 'integrationCurator', 'survival', 'survminer'),\n",
    "       FUN = require, character.only = TRUE)\n",
    "\n",
    "Sys.setenv(PRED_SPOT_HOST = 'occam.genestack.com',\n",
    "           PRED_SPOT_TOKEN = '<token>', \n",
    "           PRED_SPOT_VERSION = 'default-released')"
   ]
  },
  {
   "cell_type": "markdown",
   "metadata": {},
   "source": [
    "### 2. Get individuals from TCGA LUAD project"
   ]
  },
  {
   "cell_type": "code",
   "execution_count": 3,
   "metadata": {},
   "outputs": [
    {
     "data": {
      "text/html": [
       "'Time taken to get 242 samples: 0.77 seconds.'"
      ],
      "text/latex": [
       "'Time taken to get 242 samples: 0.77 seconds.'"
      ],
      "text/markdown": [
       "'Time taken to get 242 samples: 0.77 seconds.'"
      ],
      "text/plain": [
       "[1] \"Time taken to get 242 samples: 0.77 seconds.\""
      ]
     },
     "metadata": {},
     "output_type": "display_data"
    },
    {
     "data": {
      "text/html": [
       "<table>\n",
       "<thead><tr><th scope=col>genestack:accession</th><th scope=col>Sample Source ID</th><th scope=col>smoking_status</th><th scope=col>gender</th><th scope=col>pack_years_smoked</th><th scope=col>days_to_last_follow_up</th><th scope=col>primary_diagnosis</th><th scope=col>case_id</th><th scope=col>race</th><th scope=col>vital_status</th><th scope=col>survival</th><th scope=col>age_at_index</th><th scope=col>Sample Source</th><th scope=col>days_to_death</th></tr></thead>\n",
       "<tbody>\n",
       "\t<tr><td>GSF994319                           </td><td>TCGA-38-4632                        </td><td>Yes                                 </td><td>male                                </td><td>10.0                                </td><td>NA                                  </td><td>Adenocarcinoma, NOS                 </td><td>875333ab-9048-462d-aaa2-693ad127e3cc</td><td>black or african american           </td><td>Dead                                </td><td>1357                                </td><td>42                                  </td><td>TCGA-LUAD                           </td><td>1357                                </td></tr>\n",
       "\t<tr><td>GSF994320                           </td><td>TCGA-95-8039                        </td><td>No                                  </td><td>male                                </td><td>NA                                  </td><td>830                                 </td><td>Acinar cell carcinoma               </td><td>87f1b3df-4bc7-4336-b658-f30ac1c5c796</td><td>white                               </td><td>Alive                               </td><td>830                                 </td><td>72                                  </td><td>TCGA-LUAD                           </td><td>NA                                  </td></tr>\n",
       "\t<tr><td>GSF994316                           </td><td>TCGA-86-8076                        </td><td>No                                  </td><td>male                                </td><td>NA                                  </td><td>993                                 </td><td>Papillary adenocarcinoma, NOS       </td><td>8609edfc-119d-4d63-9188-c86aabd5ca52</td><td>white                               </td><td>Alive                               </td><td>993                                 </td><td>42                                  </td><td>TCGA-LUAD                           </td><td>NA                                  </td></tr>\n",
       "\t<tr><td>GSF994327                           </td><td>TCGA-05-5420                        </td><td>Yes                                 </td><td>male                                </td><td>40.0                                </td><td>457                                 </td><td>Adenocarcinoma, NOS                 </td><td>8b119d1c-6d21-4bbd-8a00-12da7b97d6c4</td><td>not reported                        </td><td>Alive                               </td><td>457                                 </td><td>67                                  </td><td>TCGA-LUAD                           </td><td>NA                                  </td></tr>\n",
       "\t<tr><td>GSF994328                           </td><td>TCGA-97-8174                        </td><td>Yes                                 </td><td>male                                </td><td>40.0                                </td><td>NA                                  </td><td>Papillary adenocarcinoma, NOS       </td><td>8c695c24-e7f9-449a-9258-a1bc8a33bf9a</td><td>white                               </td><td>Dead                                </td><td>164                                 </td><td>67                                  </td><td>TCGA-LUAD                           </td><td>164                                 </td></tr>\n",
       "\t<tr><td>GSF994329                           </td><td>TCGA-MP-A4SY                        </td><td>Yes                                 </td><td>male                                </td><td>40.0                                </td><td>NA                                  </td><td>Adenocarcinoma, NOS                 </td><td>8cc6bcec-65df-46a9-a88c-09762a132857</td><td>white                               </td><td>Dead                                </td><td>1501                                </td><td>61                                  </td><td>TCGA-LUAD                           </td><td>1501                                </td></tr>\n",
       "</tbody>\n",
       "</table>\n"
      ],
      "text/latex": [
       "\\begin{tabular}{r|llllllllllllll}\n",
       " genestack:accession & Sample Source ID & smoking\\_status & gender & pack\\_years\\_smoked & days\\_to\\_last\\_follow\\_up & primary\\_diagnosis & case\\_id & race & vital\\_status & survival & age\\_at\\_index & Sample Source & days\\_to\\_death\\\\\n",
       "\\hline\n",
       "\t GSF994319                            & TCGA-38-4632                         & Yes                                  & male                                 & 10.0                                 & NA                                   & Adenocarcinoma, NOS                  & 875333ab-9048-462d-aaa2-693ad127e3cc & black or african american            & Dead                                 & 1357                                 & 42                                   & TCGA-LUAD                            & 1357                                \\\\\n",
       "\t GSF994320                            & TCGA-95-8039                         & No                                   & male                                 & NA                                   & 830                                  & Acinar cell carcinoma                & 87f1b3df-4bc7-4336-b658-f30ac1c5c796 & white                                & Alive                                & 830                                  & 72                                   & TCGA-LUAD                            & NA                                  \\\\\n",
       "\t GSF994316                            & TCGA-86-8076                         & No                                   & male                                 & NA                                   & 993                                  & Papillary adenocarcinoma, NOS        & 8609edfc-119d-4d63-9188-c86aabd5ca52 & white                                & Alive                                & 993                                  & 42                                   & TCGA-LUAD                            & NA                                  \\\\\n",
       "\t GSF994327                            & TCGA-05-5420                         & Yes                                  & male                                 & 40.0                                 & 457                                  & Adenocarcinoma, NOS                  & 8b119d1c-6d21-4bbd-8a00-12da7b97d6c4 & not reported                         & Alive                                & 457                                  & 67                                   & TCGA-LUAD                            & NA                                  \\\\\n",
       "\t GSF994328                            & TCGA-97-8174                         & Yes                                  & male                                 & 40.0                                 & NA                                   & Papillary adenocarcinoma, NOS        & 8c695c24-e7f9-449a-9258-a1bc8a33bf9a & white                                & Dead                                 & 164                                  & 67                                   & TCGA-LUAD                            & 164                                 \\\\\n",
       "\t GSF994329                            & TCGA-MP-A4SY                         & Yes                                  & male                                 & 40.0                                 & NA                                   & Adenocarcinoma, NOS                  & 8cc6bcec-65df-46a9-a88c-09762a132857 & white                                & Dead                                 & 1501                                 & 61                                   & TCGA-LUAD                            & 1501                                \\\\\n",
       "\\end{tabular}\n"
      ],
      "text/markdown": [
       "\n",
       "| genestack:accession | Sample Source ID | smoking_status | gender | pack_years_smoked | days_to_last_follow_up | primary_diagnosis | case_id | race | vital_status | survival | age_at_index | Sample Source | days_to_death |\n",
       "|---|---|---|---|---|---|---|---|---|---|---|---|---|---|\n",
       "| GSF994319                            | TCGA-38-4632                         | Yes                                  | male                                 | 10.0                                 | NA                                   | Adenocarcinoma, NOS                  | 875333ab-9048-462d-aaa2-693ad127e3cc | black or african american            | Dead                                 | 1357                                 | 42                                   | TCGA-LUAD                            | 1357                                 |\n",
       "| GSF994320                            | TCGA-95-8039                         | No                                   | male                                 | NA                                   | 830                                  | Acinar cell carcinoma                | 87f1b3df-4bc7-4336-b658-f30ac1c5c796 | white                                | Alive                                | 830                                  | 72                                   | TCGA-LUAD                            | NA                                   |\n",
       "| GSF994316                            | TCGA-86-8076                         | No                                   | male                                 | NA                                   | 993                                  | Papillary adenocarcinoma, NOS        | 8609edfc-119d-4d63-9188-c86aabd5ca52 | white                                | Alive                                | 993                                  | 42                                   | TCGA-LUAD                            | NA                                   |\n",
       "| GSF994327                            | TCGA-05-5420                         | Yes                                  | male                                 | 40.0                                 | 457                                  | Adenocarcinoma, NOS                  | 8b119d1c-6d21-4bbd-8a00-12da7b97d6c4 | not reported                         | Alive                                | 457                                  | 67                                   | TCGA-LUAD                            | NA                                   |\n",
       "| GSF994328                            | TCGA-97-8174                         | Yes                                  | male                                 | 40.0                                 | NA                                   | Papillary adenocarcinoma, NOS        | 8c695c24-e7f9-449a-9258-a1bc8a33bf9a | white                                | Dead                                 | 164                                  | 67                                   | TCGA-LUAD                            | 164                                  |\n",
       "| GSF994329                            | TCGA-MP-A4SY                         | Yes                                  | male                                 | 40.0                                 | NA                                   | Adenocarcinoma, NOS                  | 8cc6bcec-65df-46a9-a88c-09762a132857 | white                                | Dead                                 | 1501                                 | 61                                   | TCGA-LUAD                            | 1501                                 |\n",
       "\n"
      ],
      "text/plain": [
       "  genestack:accession Sample Source ID smoking_status gender pack_years_smoked\n",
       "1 GSF994319           TCGA-38-4632     Yes            male   10.0             \n",
       "2 GSF994320           TCGA-95-8039     No             male   NA               \n",
       "3 GSF994316           TCGA-86-8076     No             male   NA               \n",
       "4 GSF994327           TCGA-05-5420     Yes            male   40.0             \n",
       "5 GSF994328           TCGA-97-8174     Yes            male   40.0             \n",
       "6 GSF994329           TCGA-MP-A4SY     Yes            male   40.0             \n",
       "  days_to_last_follow_up primary_diagnosis            \n",
       "1 NA                     Adenocarcinoma, NOS          \n",
       "2 830                    Acinar cell carcinoma        \n",
       "3 993                    Papillary adenocarcinoma, NOS\n",
       "4 457                    Adenocarcinoma, NOS          \n",
       "5 NA                     Papillary adenocarcinoma, NOS\n",
       "6 NA                     Adenocarcinoma, NOS          \n",
       "  case_id                              race                      vital_status\n",
       "1 875333ab-9048-462d-aaa2-693ad127e3cc black or african american Dead        \n",
       "2 87f1b3df-4bc7-4336-b658-f30ac1c5c796 white                     Alive       \n",
       "3 8609edfc-119d-4d63-9188-c86aabd5ca52 white                     Alive       \n",
       "4 8b119d1c-6d21-4bbd-8a00-12da7b97d6c4 not reported              Alive       \n",
       "5 8c695c24-e7f9-449a-9258-a1bc8a33bf9a white                     Dead        \n",
       "6 8cc6bcec-65df-46a9-a88c-09762a132857 white                     Dead        \n",
       "  survival age_at_index Sample Source days_to_death\n",
       "1 1357     42           TCGA-LUAD     1357         \n",
       "2 830      72           TCGA-LUAD     NA           \n",
       "3 993      42           TCGA-LUAD     NA           \n",
       "4 457      67           TCGA-LUAD     NA           \n",
       "5 164      67           TCGA-LUAD     164          \n",
       "6 1501     61           TCGA-LUAD     1501         "
      ]
     },
     "metadata": {},
     "output_type": "display_data"
    }
   ],
   "source": [
    "system.time({\n",
    "  samples <-\n",
    "    OmicsQueriesApi_search_samples(\n",
    "      study_filter = '\"Study Title\"=\"TCGA-LUAD\"',\n",
    "      sample_filter = 'gender=male') %>%\n",
    "    extract2('content') %>%\n",
    "    extract2('data') %>%\n",
    "    extract2('metadata')\n",
    "    \n",
    "}) %>% extract('elapsed') %>% signif(digits = 2) %>% paste('Time taken to get', nrow(samples), 'samples:', ., 'seconds.')\n",
    "\n",
    "# Filter out NAs\n",
    "samples %<>%\n",
    "  as_tibble %>%\n",
    "  filter(survival != 'NA') %>%\n",
    "  filter(survival != 0) %>%\n",
    "  select_if(~sum(!is.na(.)) > 0)\n",
    "head(samples)"
   ]
  },
  {
   "cell_type": "markdown",
   "metadata": {},
   "source": [
    "### 3. Survival by smoking status"
   ]
  },
  {
   "cell_type": "code",
   "execution_count": 4,
   "metadata": {},
   "outputs": [
    {
     "name": "stderr",
     "output_type": "stream",
     "text": [
      "`summarise()` ungrouping output (override with `.groups` argument)\n"
     ]
    },
    {
     "data": {
      "text/html": [
       "<table>\n",
       "<thead><tr><th scope=col>Smoker</th><th scope=col>Mean Survival (Days)</th></tr></thead>\n",
       "<tbody>\n",
       "\t<tr><td>No      </td><td>933.1739</td></tr>\n",
       "\t<tr><td>Yes     </td><td>922.7771</td></tr>\n",
       "</tbody>\n",
       "</table>\n"
      ],
      "text/latex": [
       "\\begin{tabular}{r|ll}\n",
       " Smoker & Mean Survival (Days)\\\\\n",
       "\\hline\n",
       "\t No       & 933.1739\\\\\n",
       "\t Yes      & 922.7771\\\\\n",
       "\\end{tabular}\n"
      ],
      "text/markdown": [
       "\n",
       "| Smoker | Mean Survival (Days) |\n",
       "|---|---|\n",
       "| No       | 933.1739 |\n",
       "| Yes      | 922.7771 |\n",
       "\n"
      ],
      "text/plain": [
       "  Smoker Mean Survival (Days)\n",
       "1 No     933.1739            \n",
       "2 Yes    922.7771            "
      ]
     },
     "metadata": {},
     "output_type": "display_data"
    }
   ],
   "source": [
    "samples %>%\n",
    "  group_by(smoking_status) %>%\n",
    "  summarise(mean(as.numeric(survival))) %>%\n",
    "  set_colnames(c('Smoker', 'Mean Survival (Days)'))"
   ]
  },
  {
   "cell_type": "markdown",
   "metadata": {},
   "source": [
    "### 4. Get KRAS mutations"
   ]
  },
  {
   "cell_type": "code",
   "execution_count": 5,
   "metadata": {},
   "outputs": [
    {
     "data": {
      "text/html": [
       "'Time taken to get 2489 genotypes: 0.99 seconds.'"
      ],
      "text/latex": [
       "'Time taken to get 2489 genotypes: 0.99 seconds.'"
      ],
      "text/markdown": [
       "'Time taken to get 2489 genotypes: 0.99 seconds.'"
      ],
      "text/plain": [
       "[1] \"Time taken to get 2489 genotypes: 0.99 seconds.\""
      ]
     },
     "metadata": {},
     "output_type": "display_data"
    },
    {
     "name": "stdout",
     "output_type": "stream",
     "text": [
      "# A tibble: 2,489 x 10\n",
      "   itemId metadata$`Softw… contig  start reference alteration variationId\n",
      "   <chr>  <chr>            <chr>   <int> <chr>     <chr>      <chr>      \n",
      " 1 GSF99… VarScan          12     2.52e7 C         G          .          \n",
      " 2 GSF99… VarScan          12     2.52e7 C         G          .          \n",
      " 3 GSF99… VarScan          12     2.52e7 C         G          .          \n",
      " 4 GSF99… VarScan          12     2.52e7 C         G          .          \n",
      " 5 GSF99… VarScan          12     2.52e7 C         G          .          \n",
      " 6 GSF99… VarScan          12     2.52e7 C         G          .          \n",
      " 7 GSF99… VarScan          12     2.52e7 C         G          .          \n",
      " 8 GSF99… VarScan          12     2.52e7 C         G          .          \n",
      " 9 GSF99… VarScan          12     2.52e7 C         G          .          \n",
      "10 GSF99… VarScan          12     2.52e7 C         G          .          \n",
      "# … with 2,479 more rows, and 7 more variables: info$AC <list>, $AN <list>,\n",
      "#   genotype$AD <chr>, $sampleNames <chr>, $DP <chr>, $GT <chr>,\n",
      "#   relationships$sample <chr>\n"
     ]
    }
   ],
   "source": [
    "system.time({\n",
    "  \n",
    "  variants <-\n",
    "    OmicsQueriesApi_search_variant_data(\n",
    "      study_filter = '\"Study Title\"=\"TCGA-LUAD\"',\n",
    "      sample_filter = 'gender=male',\n",
    "      vx_query = 'Gene=KRAS', \n",
    "      page_limit = 10000) %>%\n",
    "    extract2('content') %>%\n",
    "    extract2('data') %>%\n",
    "    as_tibble\n",
    "  \n",
    "}) %>%\n",
    "  extract('elapsed') %>% signif(digits = 3) %>% paste('Time taken to get', nrow(variants), 'genotypes:', ., 'seconds.')\n",
    "\n",
    "variants %>% \n",
    "  mutate_at(c('alteration', 'variationId'), unlist) %>%\n",
    "  print"
   ]
  },
  {
   "cell_type": "markdown",
   "metadata": {},
   "source": [
    "### 5. Survival by KRAS mutation status"
   ]
  },
  {
   "cell_type": "code",
   "execution_count": 7,
   "metadata": {},
   "outputs": [
    {
     "name": "stderr",
     "output_type": "stream",
     "text": [
      "`summarise()` ungrouping output (override with `.groups` argument)\n"
     ]
    },
    {
     "data": {
      "text/html": [
       "<table>\n",
       "<thead><tr><th scope=col>SNP</th><th scope=col>Mean Survival (Days)</th></tr></thead>\n",
       "<tbody>\n",
       "\t<tr><td>No      </td><td>915.3689</td></tr>\n",
       "\t<tr><td>Yes     </td><td>816.7037</td></tr>\n",
       "</tbody>\n",
       "</table>\n"
      ],
      "text/latex": [
       "\\begin{tabular}{r|ll}\n",
       " SNP & Mean Survival (Days)\\\\\n",
       "\\hline\n",
       "\t No       & 915.3689\\\\\n",
       "\t Yes      & 816.7037\\\\\n",
       "\\end{tabular}\n"
      ],
      "text/markdown": [
       "\n",
       "| SNP | Mean Survival (Days) |\n",
       "|---|---|\n",
       "| No       | 915.3689 |\n",
       "| Yes      | 816.7037 |\n",
       "\n"
      ],
      "text/plain": [
       "  SNP Mean Survival (Days)\n",
       "1 No  915.3689            \n",
       "2 Yes 816.7037            "
      ]
     },
     "metadata": {},
     "output_type": "display_data"
    }
   ],
   "source": [
    "variants <- normaliseVariants(variants)\n",
    "\n",
    "samples <- inner_join(samples, variants, by = 'Sample Source ID') \n",
    "samples %>%\n",
    "  group_by(SNP) %>%\n",
    "  summarise(mean(as.numeric(survival))) %>%\n",
    "  set_colnames(c('SNP', 'Mean Survival (Days)'))"
   ]
  },
  {
   "cell_type": "markdown",
   "metadata": {},
   "source": [
    "### 6. Get KRAS expression values"
   ]
  },
  {
   "cell_type": "code",
   "execution_count": 8,
   "metadata": {},
   "outputs": [
    {
     "data": {
      "text/html": [
       "'Time taken to get 219 expression values: 0.274 seconds.'"
      ],
      "text/latex": [
       "'Time taken to get 219 expression values: 0.274 seconds.'"
      ],
      "text/markdown": [
       "'Time taken to get 219 expression values: 0.274 seconds.'"
      ],
      "text/plain": [
       "[1] \"Time taken to get 219 expression values: 0.274 seconds.\""
      ]
     },
     "metadata": {},
     "output_type": "display_data"
    },
    {
     "name": "stdout",
     "output_type": "stream",
     "text": [
      "# A tibble: 6 x 7\n",
      "  itemId metadata$Type $`Run Source ID` runId groupId gene  expression\n",
      "  <chr>  <chr>         <chr>            <chr> <chr>   <chr>      <dbl>\n",
      "1 GSF99… FPKM          TCGA-05-4244     GSF9… GSF994… KRAS       12.4 \n",
      "2 GSF99… FPKM          TCGA-05-4249     GSF9… GSF994… KRAS       31.6 \n",
      "3 GSF99… FPKM          TCGA-05-4382     GSF9… GSF994… KRAS       10.7 \n",
      "4 GSF99… FPKM          TCGA-05-4384     GSF9… GSF994… KRAS        9.37\n",
      "5 GSF99… FPKM          TCGA-05-4389     GSF9… GSF994… KRAS        9.07\n",
      "6 GSF99… FPKM          TCGA-05-4395     GSF9… GSF994… KRAS       17.1 \n",
      "# … with 1 more variable: relationships$sample <chr>\n"
     ]
    }
   ],
   "source": [
    "system.time({\n",
    "  \n",
    "  expression <-\n",
    "    OmicsQueriesApi_search_expression_data(\n",
    "      study_filter = '\"Study Title\"=\"TCGA-LUAD\"',\n",
    "      sample_filter = 'gender=male',\n",
    "      ex_query = 'Gene=KRAS MinValue=0',\n",
    "      ex_filter = 'Type=FPKM') %>%\n",
    "    extract2('content') %>%\n",
    "    extract2('data') %>%\n",
    "    as_tibble\n",
    "  \n",
    "}) %>% extract('elapsed') %>% signif(digits = 3) %>% paste('Time taken to get', nrow(expression), 'expression values:', ., 'seconds.')\n",
    "\n",
    "print(head(expression))"
   ]
  },
  {
   "cell_type": "markdown",
   "metadata": {},
   "source": [
    "### 7. Survival by KRAS over/under expression"
   ]
  },
  {
   "cell_type": "code",
   "execution_count": 9,
   "metadata": {},
   "outputs": [
    {
     "name": "stderr",
     "output_type": "stream",
     "text": [
      "`summarise()` ungrouping output (override with `.groups` argument)\n"
     ]
    },
    {
     "data": {
      "text/html": [
       "<table>\n",
       "<thead><tr><th scope=col>Expression</th><th scope=col>Mean Survival (Days)</th></tr></thead>\n",
       "<tbody>\n",
       "\t<tr><td>Over    </td><td>795.4699</td></tr>\n",
       "\t<tr><td>Under   </td><td>961.7711</td></tr>\n",
       "</tbody>\n",
       "</table>\n"
      ],
      "text/latex": [
       "\\begin{tabular}{r|ll}\n",
       " Expression & Mean Survival (Days)\\\\\n",
       "\\hline\n",
       "\t Over     & 795.4699\\\\\n",
       "\t Under    & 961.7711\\\\\n",
       "\\end{tabular}\n"
      ],
      "text/markdown": [
       "\n",
       "| Expression | Mean Survival (Days) |\n",
       "|---|---|\n",
       "| Over     | 795.4699 |\n",
       "| Under    | 961.7711 |\n",
       "\n"
      ],
      "text/plain": [
       "  Expression Mean Survival (Days)\n",
       "1 Over       795.4699            \n",
       "2 Under      961.7711            "
      ]
     },
     "metadata": {},
     "output_type": "display_data"
    }
   ],
   "source": [
    "expression[, 2] <- expression$metadata$`Run Source ID`\n",
    "colnames(expression)[2] <- 'Sample Source ID'\n",
    "\n",
    "# Divide patients into two expression groups.\n",
    "samples <- \n",
    "  inner_join(samples, expression, by = 'Sample Source ID') %>%\n",
    "  { cbind(., 'regulation' = ifelse(.$expression > median(.$expression), 'Over', 'Under')) }\n",
    "\n",
    "samples %>%\n",
    "  group_by(regulation) %>%\n",
    "  summarise(mean(as.numeric(survival))) %>%\n",
    "  set_colnames(c('Expression', 'Mean Survival (Days)'))"
   ]
  },
  {
   "cell_type": "markdown",
   "metadata": {},
   "source": [
    "### 8. Survival by KRAS copy number alterations"
   ]
  },
  {
   "cell_type": "code",
   "execution_count": 10,
   "metadata": {},
   "outputs": [
    {
     "data": {
      "text/html": [
       "'Time taken to get 217 copy number values: 0.246 seconds.'"
      ],
      "text/latex": [
       "'Time taken to get 217 copy number values: 0.246 seconds.'"
      ],
      "text/markdown": [
       "'Time taken to get 217 copy number values: 0.246 seconds.'"
      ],
      "text/plain": [
       "[1] \"Time taken to get 217 copy number values: 0.246 seconds.\""
      ]
     },
     "metadata": {},
     "output_type": "display_data"
    },
    {
     "name": "stderr",
     "output_type": "stream",
     "text": [
      "`summarise()` ungrouping output (override with `.groups` argument)\n"
     ]
    },
    {
     "data": {
      "text/html": [
       "<table>\n",
       "<thead><tr><th scope=col>Copy Number Abberation</th><th scope=col>Mean Survival (Days)</th></tr></thead>\n",
       "<tbody>\n",
       "\t<tr><td>High CNA</td><td>611.5556</td></tr>\n",
       "\t<tr><td>Low CNA </td><td>959.6032</td></tr>\n",
       "</tbody>\n",
       "</table>\n"
      ],
      "text/latex": [
       "\\begin{tabular}{r|ll}\n",
       " Copy Number Abberation & Mean Survival (Days)\\\\\n",
       "\\hline\n",
       "\t High CNA & 611.5556\\\\\n",
       "\t Low CNA  & 959.6032\\\\\n",
       "\\end{tabular}\n"
      ],
      "text/markdown": [
       "\n",
       "| Copy Number Abberation | Mean Survival (Days) |\n",
       "|---|---|\n",
       "| High CNA | 611.5556 |\n",
       "| Low CNA  | 959.6032 |\n",
       "\n"
      ],
      "text/plain": [
       "  Copy Number Abberation Mean Survival (Days)\n",
       "1 High CNA               611.5556            \n",
       "2 Low CNA                959.6032            "
      ]
     },
     "metadata": {},
     "output_type": "display_data"
    }
   ],
   "source": [
    "system.time({\n",
    "  \n",
    "  copy.number <-\n",
    "    OmicsQueriesApi_search_expression_data(\n",
    "      study_filter = '\"Study Title\"=\"TCGA-LUAD\"',\n",
    "      sample_filter = 'gender=male',\n",
    "      ex_query = 'Gene=KRAS MinValue=0',\n",
    "      ex_filter = 'Type=\"Copy Number\"') %>%\n",
    "    extract2('content') %>%\n",
    "    extract2('data') %>%\n",
    "    as_tibble\n",
    "  \n",
    "}) %>% extract('elapsed') %>% signif(digits = 3) %>% paste('Time taken to get', nrow(copy.number), 'copy number values:', ., 'seconds.')\n",
    "\n",
    "copy.number[, 2] <- copy.number$metadata$`Run Source ID`\n",
    "colnames(copy.number)[2] <- 'Sample Source ID'\n",
    "samples <-\n",
    "  inner_join(samples, copy.number, by = 'Sample Source ID') %>%\n",
    "  { cbind(., 'copies' = ifelse(.$expression.y >4, 'High CNA', 'Low CNA')) }\n",
    "\n",
    "samples %>%\n",
    "  group_by(copies) %>%\n",
    "  summarise(mean(as.numeric(survival))) %>%\n",
    "  set_colnames(c('Copy Number Abberation', 'Mean Survival (Days)'))"
   ]
  },
  {
   "cell_type": "markdown",
   "metadata": {},
   "source": [
    "### 6. Survival curve for based on smoking status and multi-omics marker "
   ]
  },
  {
   "cell_type": "code",
   "execution_count": 11,
   "metadata": {},
   "outputs": [
    {
     "data": {
      "image/png": "[encoded data removed]",
      "text/plain": [
       "plot without title"
      ]
     },
     "metadata": {},
     "output_type": "display_data"
    }
   ],
   "source": [
    "risk_group <-\n",
    "  apply(X = samples, MARGIN = 1, FUN = function(x) {\n",
    "    if ( sum(x['smoking_status'] == 'Yes', \n",
    "             x['SNP'] == 'Yes', \n",
    "             x['regulation'] == 'Over', \n",
    "             x['copies'] == 'High CNA') == 4 ) { 'High' } else { 'Low' }\n",
    "  })\n",
    "# Quick stratification of patients into high and low-risk groups.\n",
    "data <- {\n",
    "  samples %>%\n",
    "    { data.frame(as.numeric(.[, 'survival']),\n",
    "                 ifelse(.[, 'vital_status'] == 'Dead', 0, 1),\n",
    "                 risk_group) } %>%\n",
    "    `colnames<-`(c('Time', 'Status', 'Risk'))\n",
    "}\n",
    "fit <- { \n",
    "  survfit(formula = Surv(time = Time, event = Status) ~ Risk,\n",
    "                 data = data) }\n",
    "# Compute Kaplan-Meier curve data for binary risk groups.\n",
    "ggsurvplot(fit = fit,\n",
    "           data = data,\n",
    "           xscale = 'd_m',\n",
    "           break.x.by = 730.5,\n",
    "           xlab = 'Months',\n",
    "           legend = 'right',\n",
    "           legend.title = 'Test',\n",
    "           legend.labs = c('Higher Risk', 'Lower Risk'),\n",
    "           ggtheme = theme_minimal() +\n",
    "             theme(plot.title = element_text(hjust = 0.5), plot.margin = unit(c(0.5,0,10,0),\"cm\"),\n",
    "                   legend.title.align = 0.5)) +\n",
    "  labs(title = paste('Higher Risk: smoker + KRAS mutation, over-expression, high CNA'))\n",
    "# Plot survival curve for multi-omics stratification groups."
   ]
  },
  {
   "cell_type": "code",
   "execution_count": 6,
   "metadata": {},
   "outputs": [],
   "source": [
    "normaliseVariants <- function(variants) {\n",
    "  variants$genotype$GT %<>% { ifelse(test = . == './.', yes = '0/0', no = .) }\n",
    "    \n",
    "  # Assume genotype 0/0 for no information.\n",
    "  normalisedVariants = lapply(X = unique(variants$start), FUN = function(rs) {\n",
    "    \n",
    "    SNP <- dplyr::filter(variants, start == rs)\n",
    "    # Filter the table down to just one SNP at a time.\n",
    "    \n",
    "    if ( length(unique(SNP$genotype$sampleNames)) != nrow(SNP) ) {\n",
    "      # If the number of rows and number of unique sample IDs don't match:\n",
    "      \n",
    "      \n",
    "      lapply(X = unique(SNP$genotype$sampleNames), FUN = function(patient) {\n",
    "        \n",
    "        dplyr::filter(SNP$genotype, sampleNames == patient) %>%\n",
    "          dplyr::select(GT) %>%\n",
    "          table %>%\n",
    "          { if ( length(.) == 1 ) { return(c('SNP' = rs, 'sampleNames' = patient, 'GT' = '0/0')) }\n",
    "            else if ( length(.) == 2 ) { return(c('SNP' = rs, 'sampleNames' = patient, 'GT' = '0/1')) }\n",
    "            else if ( length(.) == 3 ) { return(c('SNP' = rs, 'sampleNames' = patient, 'GT' = '1/1')) }}\n",
    "        # Rough and ready way to compress multiple base variants for the same SNP.\n",
    "        \n",
    "      }) %>%\n",
    "        do.call('rbind', .)\n",
    "      \n",
    "    } else { \n",
    "      \n",
    "      cbind(rs, SNP$genotype[, c('sampleNames', 'GT')]) %>%\n",
    "        set_colnames(c('SNP', 'sampleNames', 'GT')) %>%\n",
    "        return\n",
    "      \n",
    "    }\n",
    "    \n",
    "  }) %>%\n",
    "  do.call('rbind', .) %>%\n",
    "  { lapply(X = unique(.$sampleNames), \n",
    "           FUN = function(patient) {\n",
    "             \n",
    "             dplyr::filter(., sampleNames == patient) %>%\n",
    "               dplyr::select(GT) %>%\n",
    "               unlist %>%\n",
    "               { if ( all(. == '0/0') ) { c('Sample Source ID' = patient, 'SNP' = 'No') } else { c('Sample Source ID' = patient, 'SNP' = 'Yes') } }\n",
    "               \n",
    "           }) } %>%\n",
    "  do.call('rbind', .) %>%\n",
    "  as_tibble\n",
    "    \n",
    "    return(normalisedVariants)\n",
    "}"
   ]
  },
  {
   "cell_type": "code",
   "execution_count": null,
   "metadata": {},
   "outputs": [],
   "source": []
  }
 ],
 "metadata": {
  "kernelspec": {
   "display_name": "R",
   "language": "R",
   "name": "ir"
  },
  "language_info": {
   "codemirror_mode": "r",
   "file_extension": ".r",
   "mimetype": "text/x-r-source",
   "name": "R",
   "pygments_lexer": "r",
   "version": "3.6.1"
  }
 },
 "nbformat": 4,
 "nbformat_minor": 4
}
