{
 "cells": [
  {
   "cell_type": "code",
   "execution_count": 40,
   "metadata": {},
   "outputs": [],
   "source": [
    "import base64\n",
    "import requests\n",
    "import json\n",
    "import os\n",
    "import pandas\n",
    "\n",
    "token = '<token>'\n",
    "instance = '<host>'\n",
    "\n",
    "rest_endpoint = 'https://%s/frontend/rs/genestack/' % instance\n",
    "app_endpoint = 'https://%s/frontend/endpoint/application/invoke/genestack/' % instance\n",
    "\n",
    "request_headers = {'Genestack-API-Token': token,\n",
    "                   'Accept': 'application/json',\n",
    "                   'Content-Type': 'application/json'}\n",
    "\n",
    "def get_samples(study):\n",
    "    url = rest_endpoint + 'integrationCurator/default-released/omics/samples?studyQuery=%s' % study\n",
    "    r = requests.get(url=url, headers=request_headers)\n",
    "    return r.json()['data']\n",
    "\n",
    "def update_sample(sample, data):\n",
    "    url = rest_endpoint + 'sampleCurator/default-released/samples/%s' % sample\n",
    "    r = requests.patch(url=url, headers=request_headers, data=json.dumps(data))"
   ]
  },
  {
   "cell_type": "code",
   "execution_count": 41,
   "metadata": {},
   "outputs": [
    {
     "name": "stdout",
     "output_type": "stream",
     "text": [
      "GSF000831\n"
     ]
    }
   ],
   "source": [
    "# Create a blank study with 4 samples (default)\n",
    "study_name = 'Biodesix test study'\n",
    "template_accession = 'GSF000065'\n",
    "number_of_initial_samples = 10\n",
    "\n",
    "url_authenticate = app_endpoint + 'signin/authenticateByApiToken'\n",
    "url_new_study = app_endpoint + 'study-metainfo-editor/createStudy'\n",
    "\n",
    "s = requests.Session()\n",
    "session = s.post(url_authenticate, json=[token])\n",
    "study = json.loads(s.post(url=url_new_study, json=[study_name, template_accession, number_of_initial_samples]).text)['result']\n",
    "print(study)"
   ]
  },
  {
   "cell_type": "code",
   "execution_count": 42,
   "metadata": {},
   "outputs": [
    {
     "name": "stdout",
     "output_type": "stream",
     "text": [
      "samples_parent= GSF000832\n",
      "https://qa.magnum.genestack.com/frontend/endpoint/application/invoke/genestack/study-metainfo-editor/addSamples\n",
      "sample_group_id_base64= c2FtcGxlR3JvdXA6R1NGMDAwODMy\n",
      "<Response [200]> {\"result\":null,\"log\":[]}\n"
     ]
    }
   ],
   "source": [
    "# add more samples\n",
    "number_of_new_blank_samples = 1001\n",
    "samples_parent = 'GSF' + str(int(study[3:]) + 1).zfill(6)\n",
    "print('samples_parent=', samples_parent)\n",
    "url_add_samples = app_endpoint + 'study-metainfo-editor/addSamples'\n",
    "print(url_add_samples)\n",
    "sample_group_id = 'sampleGroup:{}'.format(samples_parent)\n",
    "sample_group_id_base64 = base64.b64encode(sample_group_id.encode('ascii')).decode('ascii')\n",
    "print('sample_group_id_base64=', sample_group_id_base64)\n",
    "res=s.post(url=url_add_samples, json=[study, sample_group_id_base64, number_of_new_blank_samples])\n",
    "print(res, res.text)"
   ]
  },
  {
   "cell_type": "code",
   "execution_count": 45,
   "metadata": {},
   "outputs": [
    {
     "name": "stdout",
     "output_type": "stream",
     "text": [
      "1011 ['GSF000833', 'GSF000834', 'GSF000835', 'GSF000836', 'GSF000837', 'GSF000838', 'GSF000839', 'GSF000840', 'GSF000841', 'GSF000842', 'GSF000844', 'GSF000845', 'GSF000846', 'GSF000847', 'GSF000848', 'GSF000849', 'GSF000850', 'GSF000851', 'GSF000852', 'GSF000853'] ... ['GSF001825', 'GSF001826', 'GSF001827', 'GSF001828', 'GSF001829', 'GSF001830', 'GSF001831', 'GSF001832', 'GSF001833', 'GSF001834', 'GSF001835', 'GSF001836', 'GSF001837', 'GSF001838', 'GSF001839', 'GSF001840', 'GSF001841', 'GSF001842', 'GSF001843', 'GSF001844']\n"
     ]
    }
   ],
   "source": [
    "# Get samples in a study\n",
    "samples_metadata = get_samples(study)\n",
    "samples = [sample['metadata']['genestack:accession'] for sample in samples_metadata]\n",
    "print(len(samples), samples[0:20], '...', samples[-20:])"
   ]
  },
  {
   "cell_type": "code",
   "execution_count": null,
   "metadata": {},
   "outputs": [],
   "source": [
    "# Update sample metadata\n",
    "for sample in samples:\n",
    "    update_sample(sample, {'Organism':'Homo sapiens'})"
   ]
  }
 ],
 "metadata": {
  "kernelspec": {
   "display_name": "Python 3",
   "language": "python",
   "name": "python3"
  },
  "language_info": {
   "codemirror_mode": {
    "name": "ipython",
    "version": 3
   },
   "file_extension": ".py",
   "mimetype": "text/x-python",
   "name": "python",
   "nbconvert_exporter": "python",
   "pygments_lexer": "ipython3",
   "version": "3.7.6"
  }
 },
 "nbformat": 4,
 "nbformat_minor": 4
}
