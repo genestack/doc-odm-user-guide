{
 "cells": [
  {
   "cell_type": "markdown",
   "metadata": {},
   "source": [
    "<h1><b>Compare performance between omics/expression/data and omics/expression/streamed-data on GTEx dataset"
   ]
  },
  {
   "cell_type": "markdown",
   "metadata": {},
   "source": [
    "<h2><b>Set instance and token"
   ]
  },
  {
   "cell_type": "code",
   "execution_count": 3,
   "metadata": {},
   "outputs": [],
   "source": [
    "suppressMessages(library(tidyverse))\n",
    "library(httr)\n",
    "library(RJSONIO)\n",
    "library(integrationCurator) # Genestack client library\n",
    "\n",
    "Sys.setenv(PRED_SPOT_HOST = 'occam.genestack.com',\n",
    "           PRED_SPOT_TOKEN = 'bd7ebdc3ea0ac8be98ecad5a7570589513885a81',\n",
    "           PRED_SPOT_VERSION = 'default-released')"
   ]
  },
  {
   "cell_type": "markdown",
   "metadata": {},
   "source": [
    "<h2><b>Get parameters"
   ]
  },
  {
   "cell_type": "code",
   "execution_count": 4,
   "metadata": {},
   "outputs": [],
   "source": [
    "studyID <- 'GSF962829'\n",
    "study_filter <- sprintf('genestack:accession=%s', studyID)\n",
    "gene <-'ENSG00000014257'\n",
    "ex_query <- sprintf('Gene=%s MinValue=0', gene)"
   ]
  },
  {
   "cell_type": "markdown",
   "metadata": {},
   "source": [
    "<h2><b>Get expression data"
   ]
  },
  {
   "cell_type": "markdown",
   "metadata": {},
   "source": [
    "<h3><b>Non-stream data API"
   ]
  },
  {
   "cell_type": "code",
   "execution_count": 4,
   "metadata": {},
   "outputs": [
    {
     "name": "stdout",
     "output_type": "stream",
     "text": [
      "Time to get 11683 expression values: 21 seconds\n",
      "\n"
     ]
    },
    {
     "data": {
      "text/html": [
       "<table>\n",
       "<caption>A tibble: 6 × 13</caption>\n",
       "<thead>\n",
       "\t<tr><th scope=col>itemId</th><th scope=col>metadata.Experimental Platform</th><th scope=col>metadata.Source ID</th><th scope=col>metadata.Genome Version</th><th scope=col>metadata.Scale</th><th scope=col>metadata.Normalization Method</th><th scope=col>metadata.Transcriptomics Source</th><th scope=col>metadata.Run Source ID</th><th scope=col>runId</th><th scope=col>groupId</th><th scope=col>gene</th><th scope=col>expression</th><th scope=col>sample</th></tr>\n",
       "\t<tr><th scope=col>&lt;chr&gt;</th><th scope=col>&lt;list&gt;</th><th scope=col>&lt;chr&gt;</th><th scope=col>&lt;chr&gt;</th><th scope=col>&lt;chr&gt;</th><th scope=col>&lt;chr&gt;</th><th scope=col>&lt;chr&gt;</th><th scope=col>&lt;chr&gt;</th><th scope=col>&lt;chr&gt;</th><th scope=col>&lt;chr&gt;</th><th scope=col>&lt;chr&gt;</th><th scope=col>&lt;dbl&gt;</th><th scope=col>&lt;chr&gt;</th></tr>\n",
       "</thead>\n",
       "<tbody>\n",
       "\t<tr><td>225817-ENSG00000014257</td><td>Illumina TrueSeq.v1, HiSeq 2000         , HiSeq2500          </td><td>GTEx V7</td><td>GRCh37</td><td>Unknown</td><td>TPM</td><td>GTEx</td><td>GTEX-1117F-0226-SM-5GZZ7</td><td>225817</td><td>GSF976981</td><td>ENSG00000014257</td><td> 45</td><td>GSF962832</td></tr>\n",
       "\t<tr><td>225818-ENSG00000014257</td><td>Illumina TrueSeq.v1, HiSeq 2000         , HiSeq2500          </td><td>GTEx V7</td><td>GRCh37</td><td>Unknown</td><td>TPM</td><td>GTEx</td><td>GTEX-111CU-1826-SM-5GZYN</td><td>225818</td><td>GSF976981</td><td>ENSG00000014257</td><td>138</td><td>GSF962862</td></tr>\n",
       "\t<tr><td>225819-ENSG00000014257</td><td>Illumina TrueSeq.v1, HiSeq 2000         , HiSeq2500          </td><td>GTEx V7</td><td>GRCh37</td><td>Unknown</td><td>TPM</td><td>GTEx</td><td>GTEX-111FC-0226-SM-5N9B8</td><td>225819</td><td>GSF976981</td><td>ENSG00000014257</td><td> 33</td><td>GSF962868</td></tr>\n",
       "\t<tr><td>225820-ENSG00000014257</td><td>Illumina TrueSeq.v1, HiSeq 2000         , HiSeq2500          </td><td>GTEx V7</td><td>GRCh37</td><td>Unknown</td><td>TPM</td><td>GTEx</td><td>GTEX-111VG-2326-SM-5N9BK</td><td>225820</td><td>GSF976981</td><td>ENSG00000014257</td><td> 65</td><td>GSF962892</td></tr>\n",
       "\t<tr><td>225821-ENSG00000014257</td><td>Illumina TrueSeq.v1, HiSeq 2000         , HiSeq2500          </td><td>GTEx V7</td><td>GRCh37</td><td>Unknown</td><td>TPM</td><td>GTEx</td><td>GTEX-111YS-2426-SM-5GZZQ</td><td>225821</td><td>GSF976981</td><td>ENSG00000014257</td><td> 51</td><td>GSF962921</td></tr>\n",
       "\t<tr><td>225822-ENSG00000014257</td><td>Illumina TrueSeq.v1, HiSeq 2000         , HiSeq2500          </td><td>GTEx V7</td><td>GRCh37</td><td>Unknown</td><td>TPM</td><td>GTEx</td><td>GTEX-1122O-2026-SM-5NQ91</td><td>225822</td><td>GSF976981</td><td>ENSG00000014257</td><td> 19</td><td>GSF962944</td></tr>\n",
       "</tbody>\n",
       "</table>\n"
      ],
      "text/latex": [
       "A tibble: 6 × 13\n",
       "\\begin{tabular}{lllllllllllll}\n",
       " itemId & metadata.Experimental Platform & metadata.Source ID & metadata.Genome Version & metadata.Scale & metadata.Normalization Method & metadata.Transcriptomics Source & metadata.Run Source ID & runId & groupId & gene & expression & sample\\\\\n",
       " <chr> & <list> & <chr> & <chr> & <chr> & <chr> & <chr> & <chr> & <chr> & <chr> & <chr> & <dbl> & <chr>\\\\\n",
       "\\hline\n",
       "\t 225817-ENSG00000014257 & Illumina TrueSeq.v1, HiSeq 2000         , HiSeq2500           & GTEx V7 & GRCh37 & Unknown & TPM & GTEx & GTEX-1117F-0226-SM-5GZZ7 & 225817 & GSF976981 & ENSG00000014257 &  45 & GSF962832\\\\\n",
       "\t 225818-ENSG00000014257 & Illumina TrueSeq.v1, HiSeq 2000         , HiSeq2500           & GTEx V7 & GRCh37 & Unknown & TPM & GTEx & GTEX-111CU-1826-SM-5GZYN & 225818 & GSF976981 & ENSG00000014257 & 138 & GSF962862\\\\\n",
       "\t 225819-ENSG00000014257 & Illumina TrueSeq.v1, HiSeq 2000         , HiSeq2500           & GTEx V7 & GRCh37 & Unknown & TPM & GTEx & GTEX-111FC-0226-SM-5N9B8 & 225819 & GSF976981 & ENSG00000014257 &  33 & GSF962868\\\\\n",
       "\t 225820-ENSG00000014257 & Illumina TrueSeq.v1, HiSeq 2000         , HiSeq2500           & GTEx V7 & GRCh37 & Unknown & TPM & GTEx & GTEX-111VG-2326-SM-5N9BK & 225820 & GSF976981 & ENSG00000014257 &  65 & GSF962892\\\\\n",
       "\t 225821-ENSG00000014257 & Illumina TrueSeq.v1, HiSeq 2000         , HiSeq2500           & GTEx V7 & GRCh37 & Unknown & TPM & GTEx & GTEX-111YS-2426-SM-5GZZQ & 225821 & GSF976981 & ENSG00000014257 &  51 & GSF962921\\\\\n",
       "\t 225822-ENSG00000014257 & Illumina TrueSeq.v1, HiSeq 2000         , HiSeq2500           & GTEx V7 & GRCh37 & Unknown & TPM & GTEx & GTEX-1122O-2026-SM-5NQ91 & 225822 & GSF976981 & ENSG00000014257 &  19 & GSF962944\\\\\n",
       "\\end{tabular}\n"
      ],
      "text/markdown": [
       "\n",
       "A tibble: 6 × 13\n",
       "\n",
       "| itemId &lt;chr&gt; | metadata.Experimental Platform &lt;list&gt; | metadata.Source ID &lt;chr&gt; | metadata.Genome Version &lt;chr&gt; | metadata.Scale &lt;chr&gt; | metadata.Normalization Method &lt;chr&gt; | metadata.Transcriptomics Source &lt;chr&gt; | metadata.Run Source ID &lt;chr&gt; | runId &lt;chr&gt; | groupId &lt;chr&gt; | gene &lt;chr&gt; | expression &lt;dbl&gt; | sample &lt;chr&gt; |\n",
       "|---|---|---|---|---|---|---|---|---|---|---|---|---|\n",
       "| 225817-ENSG00000014257 | Illumina TrueSeq.v1, HiSeq 2000         , HiSeq2500           | GTEx V7 | GRCh37 | Unknown | TPM | GTEx | GTEX-1117F-0226-SM-5GZZ7 | 225817 | GSF976981 | ENSG00000014257 |  45 | GSF962832 |\n",
       "| 225818-ENSG00000014257 | Illumina TrueSeq.v1, HiSeq 2000         , HiSeq2500           | GTEx V7 | GRCh37 | Unknown | TPM | GTEx | GTEX-111CU-1826-SM-5GZYN | 225818 | GSF976981 | ENSG00000014257 | 138 | GSF962862 |\n",
       "| 225819-ENSG00000014257 | Illumina TrueSeq.v1, HiSeq 2000         , HiSeq2500           | GTEx V7 | GRCh37 | Unknown | TPM | GTEx | GTEX-111FC-0226-SM-5N9B8 | 225819 | GSF976981 | ENSG00000014257 |  33 | GSF962868 |\n",
       "| 225820-ENSG00000014257 | Illumina TrueSeq.v1, HiSeq 2000         , HiSeq2500           | GTEx V7 | GRCh37 | Unknown | TPM | GTEx | GTEX-111VG-2326-SM-5N9BK | 225820 | GSF976981 | ENSG00000014257 |  65 | GSF962892 |\n",
       "| 225821-ENSG00000014257 | Illumina TrueSeq.v1, HiSeq 2000         , HiSeq2500           | GTEx V7 | GRCh37 | Unknown | TPM | GTEx | GTEX-111YS-2426-SM-5GZZQ | 225821 | GSF976981 | ENSG00000014257 |  51 | GSF962921 |\n",
       "| 225822-ENSG00000014257 | Illumina TrueSeq.v1, HiSeq 2000         , HiSeq2500           | GTEx V7 | GRCh37 | Unknown | TPM | GTEx | GTEX-1122O-2026-SM-5NQ91 | 225822 | GSF976981 | ENSG00000014257 |  19 | GSF962944 |\n",
       "\n"
      ],
      "text/plain": [
       "  itemId                \n",
       "1 225817-ENSG00000014257\n",
       "2 225818-ENSG00000014257\n",
       "3 225819-ENSG00000014257\n",
       "4 225820-ENSG00000014257\n",
       "5 225821-ENSG00000014257\n",
       "6 225822-ENSG00000014257\n",
       "  metadata.Experimental Platform                               \n",
       "1 Illumina TrueSeq.v1, HiSeq 2000         , HiSeq2500          \n",
       "2 Illumina TrueSeq.v1, HiSeq 2000         , HiSeq2500          \n",
       "3 Illumina TrueSeq.v1, HiSeq 2000         , HiSeq2500          \n",
       "4 Illumina TrueSeq.v1, HiSeq 2000         , HiSeq2500          \n",
       "5 Illumina TrueSeq.v1, HiSeq 2000         , HiSeq2500          \n",
       "6 Illumina TrueSeq.v1, HiSeq 2000         , HiSeq2500          \n",
       "  metadata.Source ID metadata.Genome Version metadata.Scale\n",
       "1 GTEx V7            GRCh37                  Unknown       \n",
       "2 GTEx V7            GRCh37                  Unknown       \n",
       "3 GTEx V7            GRCh37                  Unknown       \n",
       "4 GTEx V7            GRCh37                  Unknown       \n",
       "5 GTEx V7            GRCh37                  Unknown       \n",
       "6 GTEx V7            GRCh37                  Unknown       \n",
       "  metadata.Normalization Method metadata.Transcriptomics Source\n",
       "1 TPM                           GTEx                           \n",
       "2 TPM                           GTEx                           \n",
       "3 TPM                           GTEx                           \n",
       "4 TPM                           GTEx                           \n",
       "5 TPM                           GTEx                           \n",
       "6 TPM                           GTEx                           \n",
       "  metadata.Run Source ID   runId  groupId   gene            expression\n",
       "1 GTEX-1117F-0226-SM-5GZZ7 225817 GSF976981 ENSG00000014257  45       \n",
       "2 GTEX-111CU-1826-SM-5GZYN 225818 GSF976981 ENSG00000014257 138       \n",
       "3 GTEX-111FC-0226-SM-5N9B8 225819 GSF976981 ENSG00000014257  33       \n",
       "4 GTEX-111VG-2326-SM-5N9BK 225820 GSF976981 ENSG00000014257  65       \n",
       "5 GTEX-111YS-2426-SM-5GZZQ 225821 GSF976981 ENSG00000014257  51       \n",
       "6 GTEX-1122O-2026-SM-5NQ91 225822 GSF976981 ENSG00000014257  19       \n",
       "  sample   \n",
       "1 GSF962832\n",
       "2 GSF962862\n",
       "3 GSF962868\n",
       "4 GSF962892\n",
       "5 GSF962921\n",
       "6 GSF962944"
      ]
     },
     "metadata": {},
     "output_type": "display_data"
    }
   ],
   "source": [
    "\n",
    "start <- Sys.time()\n",
    "\n",
    "res_ns <- OmicsQueriesApi_search_expression_data(\n",
    "        study_filter = study_filter,\n",
    "        ex_query = ex_query\n",
    ")$content\n",
    "\n",
    "expressions <- as_tibble(do.call(cbind, res_ns$data))\n",
    "cursor <- res_ns$cursor\n",
    "\n",
    "for (i in 1:7){\n",
    "    res_ns_a <- OmicsQueriesApi_search_expression_data(\n",
    "        study_filter = study_filter,\n",
    "        ex_query = ex_query,\n",
    "        cursor = cursor\n",
    "        )$content\n",
    "    expressions <- rbind(expressions, as_tibble(do.call(cbind, res_ns_a$data)))\n",
    "    cursor <- res_ns_a$cursor\n",
    "}\n",
    "\n",
    "cat(sprintf('Time to get %s expression values: %s seconds\\n\\n', \n",
    "    nrow(expressions), round(Sys.time()-start)))\n",
    "\n",
    "head(expressions)\n"
   ]
  },
  {
   "cell_type": "markdown",
   "metadata": {},
   "source": [
    "<h3><b>Streaming data API"
   ]
  },
  {
   "cell_type": "code",
   "execution_count": 6,
   "metadata": {},
   "outputs": [
    {
     "name": "stdout",
     "output_type": "stream",
     "text": [
      "Time to get 11688 expression values: 7 seconds\n",
      "\n"
     ]
    },
    {
     "data": {
      "text/html": [
       "<table>\n",
       "<caption>A tibble: 6 × 10</caption>\n",
       "<thead>\n",
       "\t<tr><th scope=col>gene</th><th scope=col>metadata.Run Source ID</th><th scope=col>expression</th><th scope=col>metadata.Experimental Platform</th><th scope=col>metadata.Source ID</th><th scope=col>metadata.Genome Version</th><th scope=col>metadata.Scale</th><th scope=col>metadata.Normalization Method</th><th scope=col>metadata.Transcriptomics Source</th><th scope=col>groupId</th></tr>\n",
       "\t<tr><th scope=col>&lt;chr&gt;</th><th scope=col>&lt;chr&gt;</th><th scope=col>&lt;dbl&gt;</th><th scope=col>&lt;list&gt;</th><th scope=col>&lt;chr&gt;</th><th scope=col>&lt;chr&gt;</th><th scope=col>&lt;chr&gt;</th><th scope=col>&lt;chr&gt;</th><th scope=col>&lt;chr&gt;</th><th scope=col>&lt;chr&gt;</th></tr>\n",
       "</thead>\n",
       "<tbody>\n",
       "\t<tr><td>ENSG00000014257</td><td>GTEX-1117F-0226-SM-5GZZ7</td><td>45</td><td>Illumina TrueSeq.v1, HiSeq 2000         , HiSeq2500          </td><td>GTEx V7</td><td>GRCh37</td><td>Unknown</td><td>TPM</td><td>GTEx</td><td>GSF976981</td></tr>\n",
       "\t<tr><td>ENSG00000014257</td><td>GTEX-1117F-0426-SM-5EGHI</td><td>15</td><td>Illumina TrueSeq.v1, HiSeq 2000         , HiSeq2500          </td><td>GTEx V7</td><td>GRCh37</td><td>Unknown</td><td>TPM</td><td>GTEx</td><td>GSF976981</td></tr>\n",
       "\t<tr><td>ENSG00000014257</td><td>GTEX-1117F-0526-SM-5EGHJ</td><td>23</td><td>Illumina TrueSeq.v1, HiSeq 2000         , HiSeq2500          </td><td>GTEx V7</td><td>GRCh37</td><td>Unknown</td><td>TPM</td><td>GTEx</td><td>GSF976981</td></tr>\n",
       "\t<tr><td>ENSG00000014257</td><td>GTEX-1117F-0626-SM-5N9CS</td><td>38</td><td>Illumina TrueSeq.v1, HiSeq 2000         , HiSeq2500          </td><td>GTEx V7</td><td>GRCh37</td><td>Unknown</td><td>TPM</td><td>GTEx</td><td>GSF976981</td></tr>\n",
       "\t<tr><td>ENSG00000014257</td><td>GTEX-1117F-0726-SM-5GIEN</td><td>27</td><td>Illumina TrueSeq.v1, HiSeq 2000         , HiSeq2500          </td><td>GTEx V7</td><td>GRCh37</td><td>Unknown</td><td>TPM</td><td>GTEx</td><td>GSF976981</td></tr>\n",
       "\t<tr><td>ENSG00000014257</td><td>GTEX-1117F-1326-SM-5EGHH</td><td>62</td><td>Illumina TrueSeq.v1, HiSeq 2000         , HiSeq2500          </td><td>GTEx V7</td><td>GRCh37</td><td>Unknown</td><td>TPM</td><td>GTEx</td><td>GSF976981</td></tr>\n",
       "</tbody>\n",
       "</table>\n"
      ],
      "text/latex": [
       "A tibble: 6 × 10\n",
       "\\begin{tabular}{llllllllll}\n",
       " gene & metadata.Run Source ID & expression & metadata.Experimental Platform & metadata.Source ID & metadata.Genome Version & metadata.Scale & metadata.Normalization Method & metadata.Transcriptomics Source & groupId\\\\\n",
       " <chr> & <chr> & <dbl> & <list> & <chr> & <chr> & <chr> & <chr> & <chr> & <chr>\\\\\n",
       "\\hline\n",
       "\t ENSG00000014257 & GTEX-1117F-0226-SM-5GZZ7 & 45 & Illumina TrueSeq.v1, HiSeq 2000         , HiSeq2500           & GTEx V7 & GRCh37 & Unknown & TPM & GTEx & GSF976981\\\\\n",
       "\t ENSG00000014257 & GTEX-1117F-0426-SM-5EGHI & 15 & Illumina TrueSeq.v1, HiSeq 2000         , HiSeq2500           & GTEx V7 & GRCh37 & Unknown & TPM & GTEx & GSF976981\\\\\n",
       "\t ENSG00000014257 & GTEX-1117F-0526-SM-5EGHJ & 23 & Illumina TrueSeq.v1, HiSeq 2000         , HiSeq2500           & GTEx V7 & GRCh37 & Unknown & TPM & GTEx & GSF976981\\\\\n",
       "\t ENSG00000014257 & GTEX-1117F-0626-SM-5N9CS & 38 & Illumina TrueSeq.v1, HiSeq 2000         , HiSeq2500           & GTEx V7 & GRCh37 & Unknown & TPM & GTEx & GSF976981\\\\\n",
       "\t ENSG00000014257 & GTEX-1117F-0726-SM-5GIEN & 27 & Illumina TrueSeq.v1, HiSeq 2000         , HiSeq2500           & GTEx V7 & GRCh37 & Unknown & TPM & GTEx & GSF976981\\\\\n",
       "\t ENSG00000014257 & GTEX-1117F-1326-SM-5EGHH & 62 & Illumina TrueSeq.v1, HiSeq 2000         , HiSeq2500           & GTEx V7 & GRCh37 & Unknown & TPM & GTEx & GSF976981\\\\\n",
       "\\end{tabular}\n"
      ],
      "text/markdown": [
       "\n",
       "A tibble: 6 × 10\n",
       "\n",
       "| gene &lt;chr&gt; | metadata.Run Source ID &lt;chr&gt; | expression &lt;dbl&gt; | metadata.Experimental Platform &lt;list&gt; | metadata.Source ID &lt;chr&gt; | metadata.Genome Version &lt;chr&gt; | metadata.Scale &lt;chr&gt; | metadata.Normalization Method &lt;chr&gt; | metadata.Transcriptomics Source &lt;chr&gt; | groupId &lt;chr&gt; |\n",
       "|---|---|---|---|---|---|---|---|---|---|\n",
       "| ENSG00000014257 | GTEX-1117F-0226-SM-5GZZ7 | 45 | Illumina TrueSeq.v1, HiSeq 2000         , HiSeq2500           | GTEx V7 | GRCh37 | Unknown | TPM | GTEx | GSF976981 |\n",
       "| ENSG00000014257 | GTEX-1117F-0426-SM-5EGHI | 15 | Illumina TrueSeq.v1, HiSeq 2000         , HiSeq2500           | GTEx V7 | GRCh37 | Unknown | TPM | GTEx | GSF976981 |\n",
       "| ENSG00000014257 | GTEX-1117F-0526-SM-5EGHJ | 23 | Illumina TrueSeq.v1, HiSeq 2000         , HiSeq2500           | GTEx V7 | GRCh37 | Unknown | TPM | GTEx | GSF976981 |\n",
       "| ENSG00000014257 | GTEX-1117F-0626-SM-5N9CS | 38 | Illumina TrueSeq.v1, HiSeq 2000         , HiSeq2500           | GTEx V7 | GRCh37 | Unknown | TPM | GTEx | GSF976981 |\n",
       "| ENSG00000014257 | GTEX-1117F-0726-SM-5GIEN | 27 | Illumina TrueSeq.v1, HiSeq 2000         , HiSeq2500           | GTEx V7 | GRCh37 | Unknown | TPM | GTEx | GSF976981 |\n",
       "| ENSG00000014257 | GTEX-1117F-1326-SM-5EGHH | 62 | Illumina TrueSeq.v1, HiSeq 2000         , HiSeq2500           | GTEx V7 | GRCh37 | Unknown | TPM | GTEx | GSF976981 |\n",
       "\n"
      ],
      "text/plain": [
       "  gene            metadata.Run Source ID   expression\n",
       "1 ENSG00000014257 GTEX-1117F-0226-SM-5GZZ7 45        \n",
       "2 ENSG00000014257 GTEX-1117F-0426-SM-5EGHI 15        \n",
       "3 ENSG00000014257 GTEX-1117F-0526-SM-5EGHJ 23        \n",
       "4 ENSG00000014257 GTEX-1117F-0626-SM-5N9CS 38        \n",
       "5 ENSG00000014257 GTEX-1117F-0726-SM-5GIEN 27        \n",
       "6 ENSG00000014257 GTEX-1117F-1326-SM-5EGHH 62        \n",
       "  metadata.Experimental Platform                               \n",
       "1 Illumina TrueSeq.v1, HiSeq 2000         , HiSeq2500          \n",
       "2 Illumina TrueSeq.v1, HiSeq 2000         , HiSeq2500          \n",
       "3 Illumina TrueSeq.v1, HiSeq 2000         , HiSeq2500          \n",
       "4 Illumina TrueSeq.v1, HiSeq 2000         , HiSeq2500          \n",
       "5 Illumina TrueSeq.v1, HiSeq 2000         , HiSeq2500          \n",
       "6 Illumina TrueSeq.v1, HiSeq 2000         , HiSeq2500          \n",
       "  metadata.Source ID metadata.Genome Version metadata.Scale\n",
       "1 GTEx V7            GRCh37                  Unknown       \n",
       "2 GTEx V7            GRCh37                  Unknown       \n",
       "3 GTEx V7            GRCh37                  Unknown       \n",
       "4 GTEx V7            GRCh37                  Unknown       \n",
       "5 GTEx V7            GRCh37                  Unknown       \n",
       "6 GTEx V7            GRCh37                  Unknown       \n",
       "  metadata.Normalization Method metadata.Transcriptomics Source groupId  \n",
       "1 TPM                           GTEx                            GSF976981\n",
       "2 TPM                           GTEx                            GSF976981\n",
       "3 TPM                           GTEx                            GSF976981\n",
       "4 TPM                           GTEx                            GSF976981\n",
       "5 TPM                           GTEx                            GSF976981\n",
       "6 TPM                           GTEx                            GSF976981"
      ]
     },
     "metadata": {},
     "output_type": "display_data"
    }
   ],
   "source": [
    "host = 'occam.genestack.com'\n",
    "BASE_URL='/frontend/rs/genestack/integrationCurator/default-released/'\n",
    "token = 'bd7ebdc3ea0ac8be98ecad5a7570589513885a81'\n",
    "\n",
    "start <- Sys.time()\n",
    "\n",
    "#Get group accession\n",
    "group_accession <- as_tibble(ExpressionIntegrationApi_get_parents_by_study(id=studyID)$content)$itemId\n",
    "\n",
    "group_meta <- as_tibble(ExpressionIntegrationApi_get_parents_by_study(id=studyID)$content)$metadata %>%\n",
    "              rename_all(function(x) paste0(\"metadata.\", x)) %>%\n",
    "              mutate(groupId = group_accession)\n",
    "                                                                     \n",
    "#Get expression data\n",
    "res <- httr::GET(sprintf('https://%s%somics/expression/streamed-data', host, BASE_URL),\n",
    "            add_headers(accept = \"gzip\", `Genestack-API-Token` = token), \n",
    "            query = list(\n",
    "                groupAccession = group_accession,\n",
    "                featureList = gene\n",
    "            ))\n",
    " \n",
    "streaming_data <- as_tibble(read.csv(text = rawToChar(res$content), header = T, stringsAsFactors = F))\n",
    "                         \n",
    "end <- round(Sys.time()-start)              \n",
    "                         \n",
    "                         \n",
    "streaming_data_processed <- streaming_data %>%\n",
    "               gather(key = \"source.ID\", value = \"expression\", -NAME) %>%\n",
    "               subset(expression>=0) %>%\n",
    "               add_column(group_meta) %>%\n",
    "               rename(`metadata.Run Source ID`= source.ID, gene=NAME) %>%\n",
    "               mutate(`metadata.Run Source ID`=gsub(\".\", \"-\",`metadata.Run Source ID`, fixed = T))\n",
    "\n",
    "cat(sprintf('Time to get %s expression values: %s seconds\\n\\n', \n",
    "    nrow(streaming_data_processed), end))      \n",
    "                                  \n",
    "head(streaming_data_processed)\n",
    "                         "
   ]
  },
  {
   "cell_type": "code",
   "execution_count": 7,
   "metadata": {},
   "outputs": [
    {
     "data": {
      "text/html": [
       "<table>\n",
       "<caption>A data.frame: 13 × 3</caption>\n",
       "<thead>\n",
       "\t<tr><th scope=col>column_name</th><th scope=col>expressions</th><th scope=col>streaming_data_processed</th></tr>\n",
       "\t<tr><th scope=col>&lt;chr&gt;</th><th scope=col>&lt;chr&gt;</th><th scope=col>&lt;chr&gt;</th></tr>\n",
       "</thead>\n",
       "<tbody>\n",
       "\t<tr><td>expression                     </td><td>numeric  </td><td>numeric  </td></tr>\n",
       "\t<tr><td>gene                           </td><td>character</td><td>character</td></tr>\n",
       "\t<tr><td>groupId                        </td><td>character</td><td>character</td></tr>\n",
       "\t<tr><td>itemId                         </td><td>character</td><td>NA       </td></tr>\n",
       "\t<tr><td>metadata.Experimental Platform </td><td>list     </td><td>list     </td></tr>\n",
       "\t<tr><td>metadata.Genome Version        </td><td>character</td><td>character</td></tr>\n",
       "\t<tr><td>metadata.Normalization Method  </td><td>character</td><td>character</td></tr>\n",
       "\t<tr><td>metadata.Run Source ID         </td><td>character</td><td>character</td></tr>\n",
       "\t<tr><td>metadata.Scale                 </td><td>character</td><td>character</td></tr>\n",
       "\t<tr><td>metadata.Source ID             </td><td>character</td><td>character</td></tr>\n",
       "\t<tr><td>metadata.Transcriptomics Source</td><td>character</td><td>character</td></tr>\n",
       "\t<tr><td>runId                          </td><td>character</td><td>NA       </td></tr>\n",
       "\t<tr><td>sample                         </td><td>character</td><td>NA       </td></tr>\n",
       "</tbody>\n",
       "</table>\n"
      ],
      "text/latex": [
       "A data.frame: 13 × 3\n",
       "\\begin{tabular}{lll}\n",
       " column\\_name & expressions & streaming\\_data\\_processed\\\\\n",
       " <chr> & <chr> & <chr>\\\\\n",
       "\\hline\n",
       "\t expression                      & numeric   & numeric  \\\\\n",
       "\t gene                            & character & character\\\\\n",
       "\t groupId                         & character & character\\\\\n",
       "\t itemId                          & character & NA       \\\\\n",
       "\t metadata.Experimental Platform  & list      & list     \\\\\n",
       "\t metadata.Genome Version         & character & character\\\\\n",
       "\t metadata.Normalization Method   & character & character\\\\\n",
       "\t metadata.Run Source ID          & character & character\\\\\n",
       "\t metadata.Scale                  & character & character\\\\\n",
       "\t metadata.Source ID              & character & character\\\\\n",
       "\t metadata.Transcriptomics Source & character & character\\\\\n",
       "\t runId                           & character & NA       \\\\\n",
       "\t sample                          & character & NA       \\\\\n",
       "\\end{tabular}\n"
      ],
      "text/markdown": [
       "\n",
       "A data.frame: 13 × 3\n",
       "\n",
       "| column_name &lt;chr&gt; | expressions &lt;chr&gt; | streaming_data_processed &lt;chr&gt; |\n",
       "|---|---|---|\n",
       "| expression                      | numeric   | numeric   |\n",
       "| gene                            | character | character |\n",
       "| groupId                         | character | character |\n",
       "| itemId                          | character | NA        |\n",
       "| metadata.Experimental Platform  | list      | list      |\n",
       "| metadata.Genome Version         | character | character |\n",
       "| metadata.Normalization Method   | character | character |\n",
       "| metadata.Run Source ID          | character | character |\n",
       "| metadata.Scale                  | character | character |\n",
       "| metadata.Source ID              | character | character |\n",
       "| metadata.Transcriptomics Source | character | character |\n",
       "| runId                           | character | NA        |\n",
       "| sample                          | character | NA        |\n",
       "\n"
      ],
      "text/plain": [
       "   column_name                     expressions streaming_data_processed\n",
       "1  expression                      numeric     numeric                 \n",
       "2  gene                            character   character               \n",
       "3  groupId                         character   character               \n",
       "4  itemId                          character   NA                      \n",
       "5  metadata.Experimental Platform  list        list                    \n",
       "6  metadata.Genome Version         character   character               \n",
       "7  metadata.Normalization Method   character   character               \n",
       "8  metadata.Run Source ID          character   character               \n",
       "9  metadata.Scale                  character   character               \n",
       "10 metadata.Source ID              character   character               \n",
       "11 metadata.Transcriptomics Source character   character               \n",
       "12 runId                           character   NA                      \n",
       "13 sample                          character   NA                      "
      ]
     },
     "metadata": {},
     "output_type": "display_data"
    },
    {
     "data": {
      "text/html": [
       "<table>\n",
       "<caption>A tibble: 5 × 10</caption>\n",
       "<thead>\n",
       "\t<tr><th scope=col>gene</th><th scope=col>metadata.Run Source ID</th><th scope=col>expression</th><th scope=col>metadata.Experimental Platform</th><th scope=col>metadata.Source ID</th><th scope=col>metadata.Genome Version</th><th scope=col>metadata.Scale</th><th scope=col>metadata.Normalization Method</th><th scope=col>metadata.Transcriptomics Source</th><th scope=col>groupId</th></tr>\n",
       "\t<tr><th scope=col>&lt;chr&gt;</th><th scope=col>&lt;chr&gt;</th><th scope=col>&lt;dbl&gt;</th><th scope=col>&lt;list&gt;</th><th scope=col>&lt;chr&gt;</th><th scope=col>&lt;chr&gt;</th><th scope=col>&lt;chr&gt;</th><th scope=col>&lt;chr&gt;</th><th scope=col>&lt;chr&gt;</th><th scope=col>&lt;chr&gt;</th></tr>\n",
       "</thead>\n",
       "<tbody>\n",
       "\t<tr><td>ENSG00000014257</td><td>GTEX-1399S-2326-SM-5K7YV</td><td>764</td><td>Illumina TrueSeq.v1, HiSeq 2000         , HiSeq2500          </td><td>GTEx V7</td><td>GRCh37</td><td>Unknown</td><td>TPM</td><td>GTEx</td><td>GSF976981</td></tr>\n",
       "\t<tr><td>ENSG00000014257</td><td>GTEX-1477Z-2826-SM-5SI9J</td><td> 19</td><td>Illumina TrueSeq.v1, HiSeq 2000         , HiSeq2500          </td><td>GTEx V7</td><td>GRCh37</td><td>Unknown</td><td>TPM</td><td>GTEx</td><td>GSF976981</td></tr>\n",
       "\t<tr><td>ENSG00000014257</td><td>GTEX-18A67-1326-SM-7LT8V</td><td> 83</td><td>Illumina TrueSeq.v1, HiSeq 2000         , HiSeq2500          </td><td>GTEx V7</td><td>GRCh37</td><td>Unknown</td><td>TPM</td><td>GTEx</td><td>GSF976981</td></tr>\n",
       "\t<tr><td>ENSG00000014257</td><td>GTEX-R55D-0006-SM-3GIJS </td><td>256</td><td>Illumina TrueSeq.v1, HiSeq 2000         , HiSeq2500          </td><td>GTEx V7</td><td>GRCh37</td><td>Unknown</td><td>TPM</td><td>GTEx</td><td>GSF976981</td></tr>\n",
       "\t<tr><td>ENSG00000014257</td><td>GTEX-XQ8I-1926-SM-4BOOK </td><td> 60</td><td>Illumina TrueSeq.v1, HiSeq 2000         , HiSeq2500          </td><td>GTEx V7</td><td>GRCh37</td><td>Unknown</td><td>TPM</td><td>GTEx</td><td>GSF976981</td></tr>\n",
       "</tbody>\n",
       "</table>\n"
      ],
      "text/latex": [
       "A tibble: 5 × 10\n",
       "\\begin{tabular}{llllllllll}\n",
       " gene & metadata.Run Source ID & expression & metadata.Experimental Platform & metadata.Source ID & metadata.Genome Version & metadata.Scale & metadata.Normalization Method & metadata.Transcriptomics Source & groupId\\\\\n",
       " <chr> & <chr> & <dbl> & <list> & <chr> & <chr> & <chr> & <chr> & <chr> & <chr>\\\\\n",
       "\\hline\n",
       "\t ENSG00000014257 & GTEX-1399S-2326-SM-5K7YV & 764 & Illumina TrueSeq.v1, HiSeq 2000         , HiSeq2500           & GTEx V7 & GRCh37 & Unknown & TPM & GTEx & GSF976981\\\\\n",
       "\t ENSG00000014257 & GTEX-1477Z-2826-SM-5SI9J &  19 & Illumina TrueSeq.v1, HiSeq 2000         , HiSeq2500           & GTEx V7 & GRCh37 & Unknown & TPM & GTEx & GSF976981\\\\\n",
       "\t ENSG00000014257 & GTEX-18A67-1326-SM-7LT8V &  83 & Illumina TrueSeq.v1, HiSeq 2000         , HiSeq2500           & GTEx V7 & GRCh37 & Unknown & TPM & GTEx & GSF976981\\\\\n",
       "\t ENSG00000014257 & GTEX-R55D-0006-SM-3GIJS  & 256 & Illumina TrueSeq.v1, HiSeq 2000         , HiSeq2500           & GTEx V7 & GRCh37 & Unknown & TPM & GTEx & GSF976981\\\\\n",
       "\t ENSG00000014257 & GTEX-XQ8I-1926-SM-4BOOK  &  60 & Illumina TrueSeq.v1, HiSeq 2000         , HiSeq2500           & GTEx V7 & GRCh37 & Unknown & TPM & GTEx & GSF976981\\\\\n",
       "\\end{tabular}\n"
      ],
      "text/markdown": [
       "\n",
       "A tibble: 5 × 10\n",
       "\n",
       "| gene &lt;chr&gt; | metadata.Run Source ID &lt;chr&gt; | expression &lt;dbl&gt; | metadata.Experimental Platform &lt;list&gt; | metadata.Source ID &lt;chr&gt; | metadata.Genome Version &lt;chr&gt; | metadata.Scale &lt;chr&gt; | metadata.Normalization Method &lt;chr&gt; | metadata.Transcriptomics Source &lt;chr&gt; | groupId &lt;chr&gt; |\n",
       "|---|---|---|---|---|---|---|---|---|---|\n",
       "| ENSG00000014257 | GTEX-1399S-2326-SM-5K7YV | 764 | Illumina TrueSeq.v1, HiSeq 2000         , HiSeq2500           | GTEx V7 | GRCh37 | Unknown | TPM | GTEx | GSF976981 |\n",
       "| ENSG00000014257 | GTEX-1477Z-2826-SM-5SI9J |  19 | Illumina TrueSeq.v1, HiSeq 2000         , HiSeq2500           | GTEx V7 | GRCh37 | Unknown | TPM | GTEx | GSF976981 |\n",
       "| ENSG00000014257 | GTEX-18A67-1326-SM-7LT8V |  83 | Illumina TrueSeq.v1, HiSeq 2000         , HiSeq2500           | GTEx V7 | GRCh37 | Unknown | TPM | GTEx | GSF976981 |\n",
       "| ENSG00000014257 | GTEX-R55D-0006-SM-3GIJS  | 256 | Illumina TrueSeq.v1, HiSeq 2000         , HiSeq2500           | GTEx V7 | GRCh37 | Unknown | TPM | GTEx | GSF976981 |\n",
       "| ENSG00000014257 | GTEX-XQ8I-1926-SM-4BOOK  |  60 | Illumina TrueSeq.v1, HiSeq 2000         , HiSeq2500           | GTEx V7 | GRCh37 | Unknown | TPM | GTEx | GSF976981 |\n",
       "\n"
      ],
      "text/plain": [
       "  gene            metadata.Run Source ID   expression\n",
       "1 ENSG00000014257 GTEX-1399S-2326-SM-5K7YV 764       \n",
       "2 ENSG00000014257 GTEX-1477Z-2826-SM-5SI9J  19       \n",
       "3 ENSG00000014257 GTEX-18A67-1326-SM-7LT8V  83       \n",
       "4 ENSG00000014257 GTEX-R55D-0006-SM-3GIJS  256       \n",
       "5 ENSG00000014257 GTEX-XQ8I-1926-SM-4BOOK   60       \n",
       "  metadata.Experimental Platform                               \n",
       "1 Illumina TrueSeq.v1, HiSeq 2000         , HiSeq2500          \n",
       "2 Illumina TrueSeq.v1, HiSeq 2000         , HiSeq2500          \n",
       "3 Illumina TrueSeq.v1, HiSeq 2000         , HiSeq2500          \n",
       "4 Illumina TrueSeq.v1, HiSeq 2000         , HiSeq2500          \n",
       "5 Illumina TrueSeq.v1, HiSeq 2000         , HiSeq2500          \n",
       "  metadata.Source ID metadata.Genome Version metadata.Scale\n",
       "1 GTEx V7            GRCh37                  Unknown       \n",
       "2 GTEx V7            GRCh37                  Unknown       \n",
       "3 GTEx V7            GRCh37                  Unknown       \n",
       "4 GTEx V7            GRCh37                  Unknown       \n",
       "5 GTEx V7            GRCh37                  Unknown       \n",
       "  metadata.Normalization Method metadata.Transcriptomics Source groupId  \n",
       "1 TPM                           GTEx                            GSF976981\n",
       "2 TPM                           GTEx                            GSF976981\n",
       "3 TPM                           GTEx                            GSF976981\n",
       "4 TPM                           GTEx                            GSF976981\n",
       "5 TPM                           GTEx                            GSF976981"
      ]
     },
     "metadata": {},
     "output_type": "display_data"
    }
   ],
   "source": [
    "suppressMessages(library(janitor))\n",
    "compare_df_cols(expressions, streaming_data_processed)\n",
    "dfSample <- intersect(expressions$`metadata.Run Source ID`, streaming_data_processed$`metadata.Run Source ID`)\n",
    "\n",
    "streaming_data_processed[!(streaming_data_processed$`metadata.Run Source ID` %in% expressions$`metadata.Run Source ID`),]"
   ]
  }
 ],
 "metadata": {
  "kernelspec": {
   "display_name": "R",
   "language": "R",
   "name": "ir"
  },
  "language_info": {
   "codemirror_mode": "r",
   "file_extension": ".r",
   "mimetype": "text/x-r-source",
   "name": "R",
   "pygments_lexer": "r",
   "version": "4.0.2"
  }
 },
 "nbformat": 4,
 "nbformat_minor": 4
}
