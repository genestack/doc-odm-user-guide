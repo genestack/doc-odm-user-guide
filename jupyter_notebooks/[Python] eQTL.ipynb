{
 "cells": [
  {
   "cell_type": "markdown",
   "metadata": {},
   "source": [
    "# Using Genestack Omics APIs for eQTL analysis"
   ]
  },
  {
   "cell_type": "markdown",
   "metadata": {},
   "source": [
    "### 1. Connect to the instance"
   ]
  },
  {
   "cell_type": "code",
   "execution_count": 1,
   "metadata": {},
   "outputs": [],
   "source": [
    "import pandas as pd\n",
    "import matplotlib.pyplot as plt\n",
    "import os\n",
    "# Genestack client library\n",
    "import integration_curator\n",
    "\n",
    "os.environ['PRED_SPOT_HOST'] = 'occam.genestack.com'\n",
    "os.environ['PRED_SPOT_TOKEN'] = '<your API token>'\n",
    "\n",
    "omics_api = integration_curator.OmicsQueriesApi()"
   ]
  },
  {
   "cell_type": "markdown",
   "metadata": {},
   "source": [
    "### 2. Get samples"
   ]
  },
  {
   "cell_type": "code",
   "execution_count": 2,
   "metadata": {},
   "outputs": [
    {
     "data": {
      "text/html": [
       "<div>\n",
       "<style scoped>\n",
       "    .dataframe tbody tr th:only-of-type {\n",
       "        vertical-align: middle;\n",
       "    }\n",
       "\n",
       "    .dataframe tbody tr th {\n",
       "        vertical-align: top;\n",
       "    }\n",
       "\n",
       "    .dataframe thead th {\n",
       "        text-align: right;\n",
       "    }\n",
       "</style>\n",
       "<table border=\"1\" class=\"dataframe\">\n",
       "  <thead>\n",
       "    <tr style=\"text-align: right;\">\n",
       "      <th></th>\n",
       "      <th>genestack:accession</th>\n",
       "      <th>Species or Strain</th>\n",
       "    </tr>\n",
       "  </thead>\n",
       "  <tbody>\n",
       "    <tr>\n",
       "      <th>0</th>\n",
       "      <td>GSF724749</td>\n",
       "      <td>British</td>\n",
       "    </tr>\n",
       "    <tr>\n",
       "      <th>1</th>\n",
       "      <td>GSF724750</td>\n",
       "      <td>British</td>\n",
       "    </tr>\n",
       "    <tr>\n",
       "      <th>2</th>\n",
       "      <td>GSF724751</td>\n",
       "      <td>Finnish</td>\n",
       "    </tr>\n",
       "    <tr>\n",
       "      <th>3</th>\n",
       "      <td>GSF724752</td>\n",
       "      <td>Finnish</td>\n",
       "    </tr>\n",
       "  </tbody>\n",
       "</table>\n",
       "</div>"
      ],
      "text/plain": [
       "  genestack:accession Species or Strain\n",
       "0           GSF724749           British\n",
       "1           GSF724750           British\n",
       "2           GSF724751           Finnish\n",
       "3           GSF724752           Finnish"
      ]
     },
     "execution_count": 2,
     "metadata": {},
     "output_type": "execute_result"
    }
   ],
   "source": [
    "study_name = 'Test_1000G'\n",
    "sample_field = 'Species or Strain'\n",
    "sample_values = ['British', 'Finnish']\n",
    "sample_filter = ' OR '.join(['\"%s\"=\"%s\"' % (sample_field, sample_value) \n",
    "                             for sample_value in sample_values])\n",
    "\n",
    "data = omics_api.search_samples(\n",
    "    study_filter='genestack:name=\"%s\"' % study_name, \n",
    "    sample_filter=sample_filter\n",
    ")\n",
    "# data\n",
    "samples = pd.DataFrame.from_dict([item['metadata'] for item in data.data])\n",
    "samples[['genestack:accession', sample_field]].head()"
   ]
  },
  {
   "cell_type": "markdown",
   "metadata": {},
   "source": [
    "### 3. Get expression data"
   ]
  },
  {
   "cell_type": "code",
   "execution_count": 3,
   "metadata": {},
   "outputs": [
    {
     "data": {
      "text/html": [
       "<div>\n",
       "<style scoped>\n",
       "    .dataframe tbody tr th:only-of-type {\n",
       "        vertical-align: middle;\n",
       "    }\n",
       "\n",
       "    .dataframe tbody tr th {\n",
       "        vertical-align: top;\n",
       "    }\n",
       "\n",
       "    .dataframe thead th {\n",
       "        text-align: right;\n",
       "    }\n",
       "</style>\n",
       "<table border=\"1\" class=\"dataframe\">\n",
       "  <thead>\n",
       "    <tr style=\"text-align: right;\">\n",
       "      <th></th>\n",
       "      <th>expression</th>\n",
       "      <th>genestack:accession</th>\n",
       "    </tr>\n",
       "  </thead>\n",
       "  <tbody>\n",
       "    <tr>\n",
       "      <th>0</th>\n",
       "      <td>14.74187</td>\n",
       "      <td>GSF724749</td>\n",
       "    </tr>\n",
       "    <tr>\n",
       "      <th>1</th>\n",
       "      <td>16.84732</td>\n",
       "      <td>GSF724750</td>\n",
       "    </tr>\n",
       "    <tr>\n",
       "      <th>2</th>\n",
       "      <td>17.21227</td>\n",
       "      <td>GSF724751</td>\n",
       "    </tr>\n",
       "    <tr>\n",
       "      <th>3</th>\n",
       "      <td>19.51897</td>\n",
       "      <td>GSF724752</td>\n",
       "    </tr>\n",
       "  </tbody>\n",
       "</table>\n",
       "</div>"
      ],
      "text/plain": [
       "   expression genestack:accession\n",
       "0    14.74187           GSF724749\n",
       "1    16.84732           GSF724750\n",
       "2    17.21227           GSF724751\n",
       "3    19.51897           GSF724752"
      ]
     },
     "execution_count": 3,
     "metadata": {},
     "output_type": "execute_result"
    }
   ],
   "source": [
    "gene = 'ENSG00000077044'\n",
    "\n",
    "data = omics_api.search_expression_data(\n",
    "    study_filter='genestack:name=\"%s\"' % study_name,\n",
    "    sample_filter=sample_filter,\n",
    "    ex_query='Gene=%s MinValue=0.0' % gene\n",
    ")\n",
    "expressions = pd.DataFrame.from_dict({'genestack:accession': item['relationships']['sample'], \n",
    "                                      'expression': item['expression']} for item in data.data)\n",
    "expressions.head()"
   ]
  },
  {
   "cell_type": "markdown",
   "metadata": {},
   "source": [
    "### 4. Get variation data"
   ]
  },
  {
   "cell_type": "code",
   "execution_count": 4,
   "metadata": {},
   "outputs": [
    {
     "data": {
      "text/html": [
       "<div>\n",
       "<style scoped>\n",
       "    .dataframe tbody tr th:only-of-type {\n",
       "        vertical-align: middle;\n",
       "    }\n",
       "\n",
       "    .dataframe tbody tr th {\n",
       "        vertical-align: top;\n",
       "    }\n",
       "\n",
       "    .dataframe thead th {\n",
       "        text-align: right;\n",
       "    }\n",
       "</style>\n",
       "<table border=\"1\" class=\"dataframe\">\n",
       "  <thead>\n",
       "    <tr style=\"text-align: right;\">\n",
       "      <th></th>\n",
       "      <th>genestack:accession</th>\n",
       "      <th>genotype</th>\n",
       "    </tr>\n",
       "  </thead>\n",
       "  <tbody>\n",
       "    <tr>\n",
       "      <th>0</th>\n",
       "      <td>GSF724749</td>\n",
       "      <td>0|0</td>\n",
       "    </tr>\n",
       "    <tr>\n",
       "      <th>1</th>\n",
       "      <td>GSF724750</td>\n",
       "      <td>1|0</td>\n",
       "    </tr>\n",
       "    <tr>\n",
       "      <th>2</th>\n",
       "      <td>GSF724751</td>\n",
       "      <td>1|0</td>\n",
       "    </tr>\n",
       "    <tr>\n",
       "      <th>3</th>\n",
       "      <td>GSF724752</td>\n",
       "      <td>1|1</td>\n",
       "    </tr>\n",
       "  </tbody>\n",
       "</table>\n",
       "</div>"
      ],
      "text/plain": [
       "  genestack:accession genotype\n",
       "0           GSF724749      0|0\n",
       "1           GSF724750      1|0\n",
       "2           GSF724751      1|0\n",
       "3           GSF724752      1|1"
      ]
     },
     "execution_count": 4,
     "metadata": {},
     "output_type": "execute_result"
    }
   ],
   "source": [
    "variant = 'rs838705'\n",
    "data = omics_api.search_variant_data(\n",
    "    study_filter='genestack:name=\"%s\"' % study_name,\n",
    "    sample_filter=sample_filter,\n",
    "    vx_query='VariationId=%s' % variant\n",
    ")\n",
    "def normalise_genotype(gt): return '1|0' if gt == '0|1' else gt\n",
    "genotypes = pd.DataFrame.from_dict({'genestack:accession': item['relationships']['sample'], \n",
    "                                      'genotype': normalise_genotype(item['genotype']['GT'])} \n",
    "                                   for item in data.data)\n",
    "genotypes.head()"
   ]
  },
  {
   "cell_type": "markdown",
   "metadata": {},
   "source": [
    "### 5. eQTL plot"
   ]
  },
  {
   "cell_type": "code",
   "execution_count": 5,
   "metadata": {},
   "outputs": [
    {
     "data": {
      "text/plain": [
       "Text(0.5,0,'Genotype')"
      ]
     },
     "execution_count": 5,
     "metadata": {},
     "output_type": "execute_result"
    },
    {
     "data": {
      "image/png": "[encoded data removed]",
      "text/plain": [
       "<Figure size 720x360 with 1 Axes>"
      ]
     },
     "metadata": {},
     "output_type": "display_data"
    }
   ],
   "source": [
    "combined_data = pd.merge(samples, pd.merge(genotypes, expressions))\n",
    "combined_data.boxplot('expression', 'genotype', rot=0, figsize=(10,5))\n",
    "plt.suptitle('')\n",
    "plt.title('Expression of gene %s' % gene)\n",
    "plt.ylabel('RPKM')\n",
    "plt.xlabel('Genotype')"
   ]
  }
 ],
 "metadata": {
  "kernelspec": {
   "display_name": "Python 2",
   "language": "python",
   "name": "python2"
  },
  "language_info": {
   "codemirror_mode": {
    "name": "ipython",
    "version": 2
   },
   "file_extension": ".py",
   "mimetype": "text/x-python",
   "name": "python",
   "nbconvert_exporter": "python",
   "pygments_lexer": "ipython2",
   "version": "2.7.15"
  }
 },
 "nbformat": 4,
 "nbformat_minor": 2
}
