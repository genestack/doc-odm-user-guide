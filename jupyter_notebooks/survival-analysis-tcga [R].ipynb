{
 "cells": [
  {
   "cell_type": "markdown",
   "metadata": {},
   "source": [
    "# Survival analysis on TCGA dataset"
   ]
  },
  {
   "cell_type": "markdown",
   "metadata": {},
   "source": [
    "### Set instance and token"
   ]
  },
  {
   "cell_type": "code",
   "execution_count": 9,
   "metadata": {},
   "outputs": [
    {
     "data": {
      "text/html": [
       "<ol>\n",
       "\t<li>TRUE</li>\n",
       "\t<li>TRUE</li>\n",
       "\t<li>TRUE</li>\n",
       "\t<li>TRUE</li>\n",
       "\t<li>TRUE</li>\n",
       "</ol>\n"
      ],
      "text/latex": [
       "\\begin{enumerate}\n",
       "\\item TRUE\n",
       "\\item TRUE\n",
       "\\item TRUE\n",
       "\\item TRUE\n",
       "\\item TRUE\n",
       "\\end{enumerate}\n"
      ],
      "text/markdown": [
       "1. TRUE\n",
       "2. TRUE\n",
       "3. TRUE\n",
       "4. TRUE\n",
       "5. TRUE\n",
       "\n",
       "\n"
      ],
      "text/plain": [
       "[[1]]\n",
       "[1] TRUE\n",
       "\n",
       "[[2]]\n",
       "[1] TRUE\n",
       "\n",
       "[[3]]\n",
       "[1] TRUE\n",
       "\n",
       "[[4]]\n",
       "[1] TRUE\n",
       "\n",
       "[[5]]\n",
       "[1] TRUE\n"
      ]
     },
     "metadata": {},
     "output_type": "display_data"
    }
   ],
   "source": [
    "lapply(X = c('tidyverse', 'magrittr', 'integrationCurator', 'survival', 'survminer'),\n",
    "       FUN = require, character.only = TRUE)\n",
    "\n",
    "Sys.setenv(PRED_SPOT_HOST = 'odm-demos.genestack.com',\n",
    "           PRED_SPOT_TOKEN = '<your token>', \n",
    "           PRED_SPOT_VERSION = 'default-released')"
   ]
  },
  {
   "cell_type": "markdown",
   "metadata": {},
   "source": [
    "### Get individuals from TCGA LUAD project"
   ]
  },
  {
   "cell_type": "code",
   "execution_count": 10,
   "metadata": {},
   "outputs": [
    {
     "data": {
      "text/html": [
       "'Time taken to get 242 samples: 0.28 seconds.'"
      ],
      "text/latex": [
       "'Time taken to get 242 samples: 0.28 seconds.'"
      ],
      "text/markdown": [
       "'Time taken to get 242 samples: 0.28 seconds.'"
      ],
      "text/plain": [
       "[1] \"Time taken to get 242 samples: 0.28 seconds.\""
      ]
     },
     "metadata": {},
     "output_type": "display_data"
    },
    {
     "data": {
      "text/html": [
       "<table>\n",
       "<caption>A tibble: 6 × 17</caption>\n",
       "<thead>\n",
       "\t<tr><th scope=col>genestack:accession</th><th scope=col>Name</th><th scope=col>Sample Source ID</th><th scope=col>Organism</th><th scope=col>Sex</th><th scope=col>Disease</th><th scope=col>pack_years_smoked</th><th scope=col>Smoking Status</th><th scope=col>days_to_last_follow_up</th><th scope=col>primary_diagnosis</th><th scope=col>Race</th><th scope=col>case_id</th><th scope=col>Survival</th><th scope=col>Sample Source</th><th scope=col>Vital Status</th><th scope=col>Age at Index</th><th scope=col>days_to_death</th></tr>\n",
       "\t<tr><th scope=col>&lt;chr&gt;</th><th scope=col>&lt;chr&gt;</th><th scope=col>&lt;chr&gt;</th><th scope=col>&lt;chr&gt;</th><th scope=col>&lt;chr&gt;</th><th scope=col>&lt;chr&gt;</th><th scope=col>&lt;chr&gt;</th><th scope=col>&lt;chr&gt;</th><th scope=col>&lt;chr&gt;</th><th scope=col>&lt;chr&gt;</th><th scope=col>&lt;chr&gt;</th><th scope=col>&lt;chr&gt;</th><th scope=col>&lt;chr&gt;</th><th scope=col>&lt;chr&gt;</th><th scope=col>&lt;chr&gt;</th><th scope=col>&lt;chr&gt;</th><th scope=col>&lt;chr&gt;</th></tr>\n",
       "</thead>\n",
       "<tbody>\n",
       "\t<tr><td>GSF1061290</td><td>TCGA-NJ-A4YG</td><td>TCGA-NJ-A4YG</td><td>Homo sapiens</td><td>male</td><td>Adenocarcinoma with mixed subtypes</td><td>104</td><td>Yes</td><td>2261</td><td>Adenocarcinoma with mixed subtypes</td><td>white</td><td>7fd03220-531e-4ef8-beca-e9703e8c0ae1</td><td>2261</td><td>TCGA-LUAD</td><td>Alive</td><td>65</td><td>NA </td></tr>\n",
       "\t<tr><td>GSF1061291</td><td>TCGA-55-8302</td><td>TCGA-55-8302</td><td>Homo sapiens</td><td>male</td><td>adenocarcinoma                    </td><td>59 </td><td>Yes</td><td>478 </td><td>Adenocarcinoma, NOS               </td><td>white</td><td>807cc7d2-6e3b-4f2d-9531-0da994eeeada</td><td>478 </td><td>TCGA-LUAD</td><td>Alive</td><td>54</td><td>NA </td></tr>\n",
       "\t<tr><td>GSF1061286</td><td>TCGA-86-8359</td><td>TCGA-86-8359</td><td>Homo sapiens</td><td>male</td><td>adenocarcinoma                    </td><td>36 </td><td>Yes</td><td>26  </td><td>Adenocarcinoma, NOS               </td><td>white</td><td>7e7f089c-25f7-4e14-aed5-d741047b9e42</td><td>444 </td><td>TCGA-LUAD</td><td>Dead </td><td>52</td><td>444</td></tr>\n",
       "\t<tr><td>GSF1061288</td><td>TCGA-50-7109</td><td>TCGA-50-7109</td><td>Homo sapiens</td><td>male</td><td>adenocarcinoma                    </td><td>120</td><td>Yes</td><td>255 </td><td>Adenocarcinoma, NOS               </td><td>white</td><td>7eb540b4-8dd3-4382-a488-e48b1c7213b3</td><td>308 </td><td>TCGA-LUAD</td><td>Dead </td><td>60</td><td>308</td></tr>\n",
       "\t<tr><td>GSF1061287</td><td>TCGA-99-8032</td><td>TCGA-99-8032</td><td>Homo sapiens</td><td>male</td><td>adenocarcinoma                    </td><td>90 </td><td>Yes</td><td>44  </td><td>Adenocarcinoma, NOS               </td><td>white</td><td>7e83f9dd-b038-497b-a113-a55605398b7b</td><td>44  </td><td>TCGA-LUAD</td><td>Alive</td><td>61</td><td>NA </td></tr>\n",
       "\t<tr><td>GSF1061300</td><td>TCGA-86-8076</td><td>TCGA-86-8076</td><td>Homo sapiens</td><td>male</td><td>papillary adenocarcinoma          </td><td>NA </td><td>No </td><td>993 </td><td>Papillary adenocarcinoma, NOS     </td><td>white</td><td>8609edfc-119d-4d63-9188-c86aabd5ca52</td><td>993 </td><td>TCGA-LUAD</td><td>Alive</td><td>42</td><td>NA </td></tr>\n",
       "</tbody>\n",
       "</table>\n"
      ],
      "text/latex": [
       "A tibble: 6 × 17\n",
       "\\begin{tabular}{lllllllllllllllll}\n",
       " genestack:accession & Name & Sample Source ID & Organism & Sex & Disease & pack\\_years\\_smoked & Smoking Status & days\\_to\\_last\\_follow\\_up & primary\\_diagnosis & Race & case\\_id & Survival & Sample Source & Vital Status & Age at Index & days\\_to\\_death\\\\\n",
       " <chr> & <chr> & <chr> & <chr> & <chr> & <chr> & <chr> & <chr> & <chr> & <chr> & <chr> & <chr> & <chr> & <chr> & <chr> & <chr> & <chr>\\\\\n",
       "\\hline\n",
       "\t GSF1061290 & TCGA-NJ-A4YG & TCGA-NJ-A4YG & Homo sapiens & male & Adenocarcinoma with mixed subtypes & 104 & Yes & 2261 & Adenocarcinoma with mixed subtypes & white & 7fd03220-531e-4ef8-beca-e9703e8c0ae1 & 2261 & TCGA-LUAD & Alive & 65 & NA \\\\\n",
       "\t GSF1061291 & TCGA-55-8302 & TCGA-55-8302 & Homo sapiens & male & adenocarcinoma                     & 59  & Yes & 478  & Adenocarcinoma, NOS                & white & 807cc7d2-6e3b-4f2d-9531-0da994eeeada & 478  & TCGA-LUAD & Alive & 54 & NA \\\\\n",
       "\t GSF1061286 & TCGA-86-8359 & TCGA-86-8359 & Homo sapiens & male & adenocarcinoma                     & 36  & Yes & 26   & Adenocarcinoma, NOS                & white & 7e7f089c-25f7-4e14-aed5-d741047b9e42 & 444  & TCGA-LUAD & Dead  & 52 & 444\\\\\n",
       "\t GSF1061288 & TCGA-50-7109 & TCGA-50-7109 & Homo sapiens & male & adenocarcinoma                     & 120 & Yes & 255  & Adenocarcinoma, NOS                & white & 7eb540b4-8dd3-4382-a488-e48b1c7213b3 & 308  & TCGA-LUAD & Dead  & 60 & 308\\\\\n",
       "\t GSF1061287 & TCGA-99-8032 & TCGA-99-8032 & Homo sapiens & male & adenocarcinoma                     & 90  & Yes & 44   & Adenocarcinoma, NOS                & white & 7e83f9dd-b038-497b-a113-a55605398b7b & 44   & TCGA-LUAD & Alive & 61 & NA \\\\\n",
       "\t GSF1061300 & TCGA-86-8076 & TCGA-86-8076 & Homo sapiens & male & papillary adenocarcinoma           & NA  & No  & 993  & Papillary adenocarcinoma, NOS      & white & 8609edfc-119d-4d63-9188-c86aabd5ca52 & 993  & TCGA-LUAD & Alive & 42 & NA \\\\\n",
       "\\end{tabular}\n"
      ],
      "text/markdown": [
       "\n",
       "A tibble: 6 × 17\n",
       "\n",
       "| genestack:accession &lt;chr&gt; | Name &lt;chr&gt; | Sample Source ID &lt;chr&gt; | Organism &lt;chr&gt; | Sex &lt;chr&gt; | Disease &lt;chr&gt; | pack_years_smoked &lt;chr&gt; | Smoking Status &lt;chr&gt; | days_to_last_follow_up &lt;chr&gt; | primary_diagnosis &lt;chr&gt; | Race &lt;chr&gt; | case_id &lt;chr&gt; | Survival &lt;chr&gt; | Sample Source &lt;chr&gt; | Vital Status &lt;chr&gt; | Age at Index &lt;chr&gt; | days_to_death &lt;chr&gt; |\n",
       "|---|---|---|---|---|---|---|---|---|---|---|---|---|---|---|---|---|\n",
       "| GSF1061290 | TCGA-NJ-A4YG | TCGA-NJ-A4YG | Homo sapiens | male | Adenocarcinoma with mixed subtypes | 104 | Yes | 2261 | Adenocarcinoma with mixed subtypes | white | 7fd03220-531e-4ef8-beca-e9703e8c0ae1 | 2261 | TCGA-LUAD | Alive | 65 | NA  |\n",
       "| GSF1061291 | TCGA-55-8302 | TCGA-55-8302 | Homo sapiens | male | adenocarcinoma                     | 59  | Yes | 478  | Adenocarcinoma, NOS                | white | 807cc7d2-6e3b-4f2d-9531-0da994eeeada | 478  | TCGA-LUAD | Alive | 54 | NA  |\n",
       "| GSF1061286 | TCGA-86-8359 | TCGA-86-8359 | Homo sapiens | male | adenocarcinoma                     | 36  | Yes | 26   | Adenocarcinoma, NOS                | white | 7e7f089c-25f7-4e14-aed5-d741047b9e42 | 444  | TCGA-LUAD | Dead  | 52 | 444 |\n",
       "| GSF1061288 | TCGA-50-7109 | TCGA-50-7109 | Homo sapiens | male | adenocarcinoma                     | 120 | Yes | 255  | Adenocarcinoma, NOS                | white | 7eb540b4-8dd3-4382-a488-e48b1c7213b3 | 308  | TCGA-LUAD | Dead  | 60 | 308 |\n",
       "| GSF1061287 | TCGA-99-8032 | TCGA-99-8032 | Homo sapiens | male | adenocarcinoma                     | 90  | Yes | 44   | Adenocarcinoma, NOS                | white | 7e83f9dd-b038-497b-a113-a55605398b7b | 44   | TCGA-LUAD | Alive | 61 | NA  |\n",
       "| GSF1061300 | TCGA-86-8076 | TCGA-86-8076 | Homo sapiens | male | papillary adenocarcinoma           | NA  | No  | 993  | Papillary adenocarcinoma, NOS      | white | 8609edfc-119d-4d63-9188-c86aabd5ca52 | 993  | TCGA-LUAD | Alive | 42 | NA  |\n",
       "\n"
      ],
      "text/plain": [
       "  genestack:accession Name         Sample Source ID Organism     Sex \n",
       "1 GSF1061290          TCGA-NJ-A4YG TCGA-NJ-A4YG     Homo sapiens male\n",
       "2 GSF1061291          TCGA-55-8302 TCGA-55-8302     Homo sapiens male\n",
       "3 GSF1061286          TCGA-86-8359 TCGA-86-8359     Homo sapiens male\n",
       "4 GSF1061288          TCGA-50-7109 TCGA-50-7109     Homo sapiens male\n",
       "5 GSF1061287          TCGA-99-8032 TCGA-99-8032     Homo sapiens male\n",
       "6 GSF1061300          TCGA-86-8076 TCGA-86-8076     Homo sapiens male\n",
       "  Disease                            pack_years_smoked Smoking Status\n",
       "1 Adenocarcinoma with mixed subtypes 104               Yes           \n",
       "2 adenocarcinoma                     59                Yes           \n",
       "3 adenocarcinoma                     36                Yes           \n",
       "4 adenocarcinoma                     120               Yes           \n",
       "5 adenocarcinoma                     90                Yes           \n",
       "6 papillary adenocarcinoma           NA                No            \n",
       "  days_to_last_follow_up primary_diagnosis                  Race \n",
       "1 2261                   Adenocarcinoma with mixed subtypes white\n",
       "2 478                    Adenocarcinoma, NOS                white\n",
       "3 26                     Adenocarcinoma, NOS                white\n",
       "4 255                    Adenocarcinoma, NOS                white\n",
       "5 44                     Adenocarcinoma, NOS                white\n",
       "6 993                    Papillary adenocarcinoma, NOS      white\n",
       "  case_id                              Survival Sample Source Vital Status\n",
       "1 7fd03220-531e-4ef8-beca-e9703e8c0ae1 2261     TCGA-LUAD     Alive       \n",
       "2 807cc7d2-6e3b-4f2d-9531-0da994eeeada 478      TCGA-LUAD     Alive       \n",
       "3 7e7f089c-25f7-4e14-aed5-d741047b9e42 444      TCGA-LUAD     Dead        \n",
       "4 7eb540b4-8dd3-4382-a488-e48b1c7213b3 308      TCGA-LUAD     Dead        \n",
       "5 7e83f9dd-b038-497b-a113-a55605398b7b 44       TCGA-LUAD     Alive       \n",
       "6 8609edfc-119d-4d63-9188-c86aabd5ca52 993      TCGA-LUAD     Alive       \n",
       "  Age at Index days_to_death\n",
       "1 65           NA           \n",
       "2 54           NA           \n",
       "3 52           444          \n",
       "4 60           308          \n",
       "5 61           NA           \n",
       "6 42           NA           "
      ]
     },
     "metadata": {},
     "output_type": "display_data"
    }
   ],
   "source": [
    "system.time({\n",
    "  samples <-\n",
    "    OmicsQueriesApi_search_samples(\n",
    "      study_filter = '\"genestack:accession\"=\"GSF1061023\"',\n",
    "      sample_filter = 'Sex=male') %>%\n",
    "    extract2('content') %>%\n",
    "    extract2('data') %>%\n",
    "    extract2('metadata')\n",
    "    \n",
    "}) %>% extract('elapsed') %>% signif(digits = 2) %>% paste('Time taken to get', nrow(samples), 'samples:', ., 'seconds.')\n",
    "\n",
    "# Filter out NAs\n",
    "samples %<>%\n",
    "  as_tibble %>%\n",
    "  filter(Survival != 'NA') %>%\n",
    "  filter(Survival != 0) %>%\n",
    "  select_if(~sum(!is.na(.)) > 0)\n",
    "head(samples)"
   ]
  },
  {
   "cell_type": "markdown",
   "metadata": {},
   "source": [
    "### Survival by smoking status"
   ]
  },
  {
   "cell_type": "code",
   "execution_count": 11,
   "metadata": {},
   "outputs": [
    {
     "name": "stderr",
     "output_type": "stream",
     "text": [
      "`summarise()` ungrouping output (override with `.groups` argument)\n",
      "\n"
     ]
    },
    {
     "data": {
      "text/html": [
       "<table>\n",
       "<caption>A tibble: 2 × 2</caption>\n",
       "<thead>\n",
       "\t<tr><th scope=col>Smoker</th><th scope=col>Mean Survival (Days)</th></tr>\n",
       "\t<tr><th scope=col>&lt;chr&gt;</th><th scope=col>&lt;dbl&gt;</th></tr>\n",
       "</thead>\n",
       "<tbody>\n",
       "\t<tr><td>No </td><td>933.1739</td></tr>\n",
       "\t<tr><td>Yes</td><td>922.7771</td></tr>\n",
       "</tbody>\n",
       "</table>\n"
      ],
      "text/latex": [
       "A tibble: 2 × 2\n",
       "\\begin{tabular}{ll}\n",
       " Smoker & Mean Survival (Days)\\\\\n",
       " <chr> & <dbl>\\\\\n",
       "\\hline\n",
       "\t No  & 933.1739\\\\\n",
       "\t Yes & 922.7771\\\\\n",
       "\\end{tabular}\n"
      ],
      "text/markdown": [
       "\n",
       "A tibble: 2 × 2\n",
       "\n",
       "| Smoker &lt;chr&gt; | Mean Survival (Days) &lt;dbl&gt; |\n",
       "|---|---|\n",
       "| No  | 933.1739 |\n",
       "| Yes | 922.7771 |\n",
       "\n"
      ],
      "text/plain": [
       "  Smoker Mean Survival (Days)\n",
       "1 No     933.1739            \n",
       "2 Yes    922.7771            "
      ]
     },
     "metadata": {},
     "output_type": "display_data"
    }
   ],
   "source": [
    "samples %>%\n",
    "  group_by(`Smoking Status`) %>%\n",
    "  summarise(mean(as.numeric(Survival))) %>%\n",
    "  set_colnames(c('Smoker', 'Mean Survival (Days)'))"
   ]
  },
  {
   "cell_type": "markdown",
   "metadata": {},
   "source": [
    "### Get KRAS mutations"
   ]
  },
  {
   "cell_type": "code",
   "execution_count": 12,
   "metadata": {},
   "outputs": [
    {
     "data": {
      "text/html": [
       "'Time taken to get 2534 genotypes: 3.98 seconds.'"
      ],
      "text/latex": [
       "'Time taken to get 2534 genotypes: 3.98 seconds.'"
      ],
      "text/markdown": [
       "'Time taken to get 2534 genotypes: 3.98 seconds.'"
      ],
      "text/plain": [
       "[1] \"Time taken to get 2534 genotypes: 3.98 seconds.\""
      ]
     },
     "metadata": {},
     "output_type": "display_data"
    },
    {
     "name": "stdout",
     "output_type": "stream",
     "text": [
      "\u001b[38;5;246m# A tibble: 2,534 x 12\u001b[39m\n",
      "   itemId metadata$`Exper… $`Data Processi… $`Genome Versio… $`Run Source ID`\n",
      "   \u001b[3m\u001b[38;5;246m<chr>\u001b[39m\u001b[23m  \u001b[3m\u001b[38;5;246m<chr>\u001b[39m\u001b[23m            \u001b[3m\u001b[38;5;246m<chr>\u001b[39m\u001b[23m            \u001b[3m\u001b[38;5;246m<chr>\u001b[39m\u001b[23m            \u001b[3m\u001b[38;5;246m<chr>\u001b[39m\u001b[23m           \n",
      "\u001b[38;5;250m 1\u001b[39m 66602… Illumina Genome… VarScan          GRCh38           TCGA-05-4244    \n",
      "\u001b[38;5;250m 2\u001b[39m 66602… Illumina Genome… VarScan          GRCh38           TCGA-05-4249    \n",
      "\u001b[38;5;250m 3\u001b[39m 66602… Illumina Genome… VarScan          GRCh38           TCGA-05-4382    \n",
      "\u001b[38;5;250m 4\u001b[39m 66602… Illumina Genome… VarScan          GRCh38           TCGA-05-4389    \n",
      "\u001b[38;5;250m 5\u001b[39m 66602… Illumina Genome… VarScan          GRCh38           TCGA-05-4395    \n",
      "\u001b[38;5;250m 6\u001b[39m 66602… Illumina Genome… VarScan          GRCh38           TCGA-05-4396    \n",
      "\u001b[38;5;250m 7\u001b[39m 66602… Illumina Genome… VarScan          GRCh38           TCGA-05-4397    \n",
      "\u001b[38;5;250m 8\u001b[39m 66603… Illumina Genome… VarScan          GRCh38           TCGA-05-4420    \n",
      "\u001b[38;5;250m 9\u001b[39m 66603… Illumina Genome… VarScan          GRCh38           TCGA-05-4424    \n",
      "\u001b[38;5;250m10\u001b[39m 66604… Illumina Genome… VarScan          GRCh38           TCGA-05-4433    \n",
      "\u001b[38;5;246m# … with 2,524 more rows, and 14 more variables: runId \u001b[3m\u001b[38;5;246m<chr>\u001b[38;5;246m\u001b[23m, groupId \u001b[3m\u001b[38;5;246m<chr>\u001b[38;5;246m\u001b[23m,\u001b[39m\n",
      "\u001b[38;5;246m#   contig \u001b[3m\u001b[38;5;246m<chr>\u001b[38;5;246m\u001b[23m, start \u001b[3m\u001b[38;5;246m<int>\u001b[38;5;246m\u001b[23m, reference \u001b[3m\u001b[38;5;246m<chr>\u001b[38;5;246m\u001b[23m, alteration \u001b[3m\u001b[38;5;246m<chr>\u001b[38;5;246m\u001b[23m,\u001b[39m\n",
      "\u001b[38;5;246m#   variationId \u001b[3m\u001b[38;5;246m<chr>\u001b[38;5;246m\u001b[23m, info$AC \u001b[3m\u001b[38;5;246m<list>\u001b[38;5;246m\u001b[23m, $AN \u001b[3m\u001b[38;5;246m<list>\u001b[38;5;246m\u001b[23m, genotype$AD \u001b[3m\u001b[38;5;246m<chr>\u001b[38;5;246m\u001b[23m,\u001b[39m\n",
      "\u001b[38;5;246m#   $sampleNames \u001b[3m\u001b[38;5;246m<chr>\u001b[38;5;246m\u001b[23m, $DP \u001b[3m\u001b[38;5;246m<chr>\u001b[38;5;246m\u001b[23m, $GT \u001b[3m\u001b[38;5;246m<chr>\u001b[38;5;246m\u001b[23m, relationships$sample \u001b[3m\u001b[38;5;246m<chr>\u001b[38;5;246m\u001b[23m\u001b[39m\n"
     ]
    }
   ],
   "source": [
    "system.time({\n",
    "  \n",
    "  variants <-\n",
    "    OmicsQueriesApi_search_variant_data(\n",
    "      study_filter = '\"genestack:accession\"=\"GSF1061023\"',\n",
    "      sample_filter = 'Sex=male',\n",
    "      vx_query = 'Gene=KRAS', \n",
    "      page_limit = 10000) %>%\n",
    "    extract2('content') %>%\n",
    "    extract2('data') %>%\n",
    "    as_tibble\n",
    "  \n",
    "}) %>%\n",
    "  extract('elapsed') %>% signif(digits = 3) %>% paste('Time taken to get', nrow(variants), 'genotypes:', ., 'seconds.')\n",
    "\n",
    "variants %>% \n",
    "  mutate_at(c('alteration', 'variationId'), unlist) %>%\n",
    "  print"
   ]
  },
  {
   "cell_type": "markdown",
   "metadata": {},
   "source": [
    "### Survival by KRAS mutation status"
   ]
  },
  {
   "cell_type": "code",
   "execution_count": 13,
   "metadata": {},
   "outputs": [
    {
     "name": "stderr",
     "output_type": "stream",
     "text": [
      "`summarise()` ungrouping output (override with `.groups` argument)\n",
      "\n"
     ]
    },
    {
     "data": {
      "text/html": [
       "<table>\n",
       "<caption>A tibble: 2 × 2</caption>\n",
       "<thead>\n",
       "\t<tr><th scope=col>SNP</th><th scope=col>Mean Survival (Days)</th></tr>\n",
       "\t<tr><th scope=col>&lt;chr&gt;</th><th scope=col>&lt;dbl&gt;</th></tr>\n",
       "</thead>\n",
       "<tbody>\n",
       "\t<tr><td>No </td><td>949.1739</td></tr>\n",
       "\t<tr><td>Yes</td><td>764.2951</td></tr>\n",
       "</tbody>\n",
       "</table>\n"
      ],
      "text/latex": [
       "A tibble: 2 × 2\n",
       "\\begin{tabular}{ll}\n",
       " SNP & Mean Survival (Days)\\\\\n",
       " <chr> & <dbl>\\\\\n",
       "\\hline\n",
       "\t No  & 949.1739\\\\\n",
       "\t Yes & 764.2951\\\\\n",
       "\\end{tabular}\n"
      ],
      "text/markdown": [
       "\n",
       "A tibble: 2 × 2\n",
       "\n",
       "| SNP &lt;chr&gt; | Mean Survival (Days) &lt;dbl&gt; |\n",
       "|---|---|\n",
       "| No  | 949.1739 |\n",
       "| Yes | 764.2951 |\n",
       "\n"
      ],
      "text/plain": [
       "  SNP Mean Survival (Days)\n",
       "1 No  949.1739            \n",
       "2 Yes 764.2951            "
      ]
     },
     "metadata": {},
     "output_type": "display_data"
    }
   ],
   "source": [
    "variants <- normaliseVariants(variants)\n",
    "\n",
    "samples <- inner_join(samples, variants, by = 'Sample Source ID') \n",
    "samples %>%\n",
    "  group_by(SNP) %>%\n",
    "  summarise(mean(as.numeric(Survival))) %>%\n",
    "  set_colnames(c('SNP', 'Mean Survival (Days)'))"
   ]
  },
  {
   "cell_type": "markdown",
   "metadata": {},
   "source": [
    "### Get KRAS expression values"
   ]
  },
  {
   "cell_type": "code",
   "execution_count": 14,
   "metadata": {},
   "outputs": [
    {
     "data": {
      "text/html": [
       "'Time taken to get 219 expression values: 3.14 seconds.'"
      ],
      "text/latex": [
       "'Time taken to get 219 expression values: 3.14 seconds.'"
      ],
      "text/markdown": [
       "'Time taken to get 219 expression values: 3.14 seconds.'"
      ],
      "text/plain": [
       "[1] \"Time taken to get 219 expression values: 3.14 seconds.\""
      ]
     },
     "metadata": {},
     "output_type": "display_data"
    },
    {
     "name": "stdout",
     "output_type": "stream",
     "text": [
      "\u001b[38;5;246m# A tibble: 6 x 7\u001b[39m\n",
      "  itemId metadata$Type $`Run Source ID` runId groupId gene  expression\n",
      "  \u001b[3m\u001b[38;5;246m<chr>\u001b[39m\u001b[23m  \u001b[3m\u001b[38;5;246m<chr>\u001b[39m\u001b[23m         \u001b[3m\u001b[38;5;246m<chr>\u001b[39m\u001b[23m            \u001b[3m\u001b[38;5;246m<chr>\u001b[39m\u001b[23m \u001b[3m\u001b[38;5;246m<chr>\u001b[39m\u001b[23m   \u001b[3m\u001b[38;5;246m<chr>\u001b[39m\u001b[23m      \u001b[3m\u001b[38;5;246m<dbl>\u001b[39m\u001b[23m\n",
      "\u001b[38;5;250m1\u001b[39m 66554… FPKM          TCGA-05-4244     6655… GSF106… KRAS       12.4 \n",
      "\u001b[38;5;250m2\u001b[39m 66554… FPKM          TCGA-05-4249     6655… GSF106… KRAS       31.6 \n",
      "\u001b[38;5;250m3\u001b[39m 66554… FPKM          TCGA-05-4382     6655… GSF106… KRAS       10.7 \n",
      "\u001b[38;5;250m4\u001b[39m 66554… FPKM          TCGA-05-4384     6655… GSF106… KRAS        9.37\n",
      "\u001b[38;5;250m5\u001b[39m 66554… FPKM          TCGA-05-4389     6655… GSF106… KRAS        9.07\n",
      "\u001b[38;5;250m6\u001b[39m 66554… FPKM          TCGA-05-4395     6655… GSF106… KRAS       17.1 \n",
      "\u001b[38;5;246m# … with 1 more variable: relationships$sample \u001b[3m\u001b[38;5;246m<chr>\u001b[38;5;246m\u001b[23m\u001b[39m\n"
     ]
    }
   ],
   "source": [
    "system.time({\n",
    "  \n",
    "  expression <-\n",
    "    OmicsQueriesApi_search_expression_data(\n",
    "      study_filter = '\"genestack:accession\"=\"GSF1061023\"',\n",
    "      sample_filter = 'Sex=male',\n",
    "      ex_query = 'Gene=KRAS MinValue=0',\n",
    "      ex_filter = 'Type=FPKM') %>%\n",
    "    extract2('content') %>%\n",
    "    extract2('data') %>%\n",
    "    as_tibble\n",
    "  \n",
    "}) %>% extract('elapsed') %>% signif(digits = 3) %>% paste('Time taken to get', nrow(expression), 'expression values:', ., 'seconds.')\n",
    "\n",
    "print(head(expression))"
   ]
  },
  {
   "cell_type": "markdown",
   "metadata": {},
   "source": [
    "### Survival by KRAS over/under expression"
   ]
  },
  {
   "cell_type": "code",
   "execution_count": 15,
   "metadata": {},
   "outputs": [
    {
     "name": "stderr",
     "output_type": "stream",
     "text": [
      "`summarise()` ungrouping output (override with `.groups` argument)\n",
      "\n"
     ]
    },
    {
     "data": {
      "text/html": [
       "<table>\n",
       "<caption>A tibble: 2 × 2</caption>\n",
       "<thead>\n",
       "\t<tr><th scope=col>Expression</th><th scope=col>Mean Survival (Days)</th></tr>\n",
       "\t<tr><th scope=col>&lt;chr&gt;</th><th scope=col>&lt;dbl&gt;</th></tr>\n",
       "</thead>\n",
       "<tbody>\n",
       "\t<tr><td>Over </td><td>795.4699</td></tr>\n",
       "\t<tr><td>Under</td><td>961.7711</td></tr>\n",
       "</tbody>\n",
       "</table>\n"
      ],
      "text/latex": [
       "A tibble: 2 × 2\n",
       "\\begin{tabular}{ll}\n",
       " Expression & Mean Survival (Days)\\\\\n",
       " <chr> & <dbl>\\\\\n",
       "\\hline\n",
       "\t Over  & 795.4699\\\\\n",
       "\t Under & 961.7711\\\\\n",
       "\\end{tabular}\n"
      ],
      "text/markdown": [
       "\n",
       "A tibble: 2 × 2\n",
       "\n",
       "| Expression &lt;chr&gt; | Mean Survival (Days) &lt;dbl&gt; |\n",
       "|---|---|\n",
       "| Over  | 795.4699 |\n",
       "| Under | 961.7711 |\n",
       "\n"
      ],
      "text/plain": [
       "  Expression Mean Survival (Days)\n",
       "1 Over       795.4699            \n",
       "2 Under      961.7711            "
      ]
     },
     "metadata": {},
     "output_type": "display_data"
    }
   ],
   "source": [
    "expression[, 2] <- expression$metadata$`Run Source ID`\n",
    "colnames(expression)[2] <- 'Sample Source ID'\n",
    "\n",
    "# Divide patients into two expression groups.\n",
    "samples <- \n",
    "  inner_join(samples, expression, by = 'Sample Source ID') %>%\n",
    "  { cbind(., 'regulation' = ifelse(.$expression > median(.$expression), 'Over', 'Under')) }\n",
    "\n",
    "samples %>%\n",
    "  group_by(regulation) %>%\n",
    "  summarise(mean(as.numeric(Survival))) %>%\n",
    "  set_colnames(c('Expression', 'Mean Survival (Days)'))"
   ]
  },
  {
   "cell_type": "markdown",
   "metadata": {},
   "source": [
    "### Survival by KRAS copy number alterations"
   ]
  },
  {
   "cell_type": "code",
   "execution_count": 16,
   "metadata": {},
   "outputs": [
    {
     "data": {
      "text/html": [
       "'Time taken to get 217 copy number values: 3.27 seconds.'"
      ],
      "text/latex": [
       "'Time taken to get 217 copy number values: 3.27 seconds.'"
      ],
      "text/markdown": [
       "'Time taken to get 217 copy number values: 3.27 seconds.'"
      ],
      "text/plain": [
       "[1] \"Time taken to get 217 copy number values: 3.27 seconds.\""
      ]
     },
     "metadata": {},
     "output_type": "display_data"
    },
    {
     "name": "stderr",
     "output_type": "stream",
     "text": [
      "`summarise()` ungrouping output (override with `.groups` argument)\n",
      "\n"
     ]
    },
    {
     "data": {
      "text/html": [
       "<table>\n",
       "<caption>A tibble: 2 × 2</caption>\n",
       "<thead>\n",
       "\t<tr><th scope=col>Copy Number Abberation</th><th scope=col>Mean Survival (Days)</th></tr>\n",
       "\t<tr><th scope=col>&lt;chr&gt;</th><th scope=col>&lt;dbl&gt;</th></tr>\n",
       "</thead>\n",
       "<tbody>\n",
       "\t<tr><td>High CNA</td><td>611.5556</td></tr>\n",
       "\t<tr><td>Low CNA </td><td>959.6032</td></tr>\n",
       "</tbody>\n",
       "</table>\n"
      ],
      "text/latex": [
       "A tibble: 2 × 2\n",
       "\\begin{tabular}{ll}\n",
       " Copy Number Abberation & Mean Survival (Days)\\\\\n",
       " <chr> & <dbl>\\\\\n",
       "\\hline\n",
       "\t High CNA & 611.5556\\\\\n",
       "\t Low CNA  & 959.6032\\\\\n",
       "\\end{tabular}\n"
      ],
      "text/markdown": [
       "\n",
       "A tibble: 2 × 2\n",
       "\n",
       "| Copy Number Abberation &lt;chr&gt; | Mean Survival (Days) &lt;dbl&gt; |\n",
       "|---|---|\n",
       "| High CNA | 611.5556 |\n",
       "| Low CNA  | 959.6032 |\n",
       "\n"
      ],
      "text/plain": [
       "  Copy Number Abberation Mean Survival (Days)\n",
       "1 High CNA               611.5556            \n",
       "2 Low CNA                959.6032            "
      ]
     },
     "metadata": {},
     "output_type": "display_data"
    }
   ],
   "source": [
    "system.time({\n",
    "  \n",
    "  copy.number <-\n",
    "    OmicsQueriesApi_search_expression_data(\n",
    "      study_filter = '\"genestack:accession\"=\"GSF1061023\"',\n",
    "      sample_filter = 'Sex=male',\n",
    "      ex_query = 'Gene=KRAS MinValue=0',\n",
    "      ex_filter = 'Type=\"Copy Number\"') %>%\n",
    "    extract2('content') %>%\n",
    "    extract2('data') %>%\n",
    "    as_tibble\n",
    "  \n",
    "}) %>% extract('elapsed') %>% signif(digits = 3) %>% paste('Time taken to get', nrow(copy.number), 'copy number values:', ., 'seconds.')\n",
    "\n",
    "copy.number[, 2] <- copy.number$metadata$`Run Source ID`\n",
    "colnames(copy.number)[2] <- 'Sample Source ID'\n",
    "samples <-\n",
    "  inner_join(samples, copy.number, by = 'Sample Source ID') %>%\n",
    "  { cbind(., 'copies' = ifelse(.$expression.y >4, 'High CNA', 'Low CNA')) }\n",
    "\n",
    "samples %>%\n",
    "  group_by(copies) %>%\n",
    "  summarise(mean(as.numeric(Survival))) %>%\n",
    "  set_colnames(c('Copy Number Abberation', 'Mean Survival (Days)'))"
   ]
  },
  {
   "cell_type": "markdown",
   "metadata": {},
   "source": [
    "### Survival curve for based on smoking status and multi-omics marker "
   ]
  },
  {
   "cell_type": "code",
   "execution_count": 17,
   "metadata": {},
   "outputs": [
    {
     "data": {
      "image/png": "[encoded data removed]",
      "text/plain": [
       "plot without title"
      ]
     },
     "metadata": {
      "image/png": {
       "height": 420,
       "width": 420
      }
     },
     "output_type": "display_data"
    }
   ],
   "source": [
    "risk_group <-\n",
    "  apply(X = samples, MARGIN = 1, FUN = function(x) {\n",
    "    if ( sum(x['Smoking Status'] == 'Yes', \n",
    "             x['SNP'] == 'Yes', \n",
    "             x['regulation'] == 'Over', \n",
    "             x['copies'] == 'High CNA') == 4 ) { 'High' } else { 'Low' }\n",
    "  })\n",
    "# Quick stratification of patients into high and low-risk groups.\n",
    "data <- {\n",
    "  samples %>%\n",
    "    { data.frame(as.numeric(.[, 'Survival']),\n",
    "                 ifelse(.[, 'Vital Status'] == 'Dead', 0, 1),\n",
    "                 risk_group) } %>%\n",
    "    `colnames<-`(c('Time', 'Status', 'Risk'))\n",
    "}\n",
    "fit <- { \n",
    "  survfit(formula = Surv(time = Time, event = Status) ~ Risk,\n",
    "                 data = data) }\n",
    "# Compute Kaplan-Meier curve data for binary risk groups.\n",
    "ggsurvplot(fit = fit,\n",
    "           data = data,\n",
    "           xscale = 'd_m',\n",
    "           break.x.by = 730.5,\n",
    "           xlab = 'Months',\n",
    "           legend = 'right',\n",
    "           legend.title = 'Test',\n",
    "           legend.labs = c('High Risk', 'Low Risk'),\n",
    "           ggtheme = theme_minimal() +\n",
    "             theme(plot.title = element_text(hjust = 0.5), plot.margin = unit(c(0.5,0,10,0),\"cm\"),\n",
    "                   legend.title.align = 0.5)) +\n",
    "  labs(title = paste('High Risk Group: Smoker + KRAS mutation, amplification, over-expression'))\n",
    "# Plot survival curve for multi-omics stratification groups."
   ]
  },
  {
   "cell_type": "code",
   "execution_count": 18,
   "metadata": {},
   "outputs": [],
   "source": [
    "normaliseVariants <- function(variants) {\n",
    "  variants$genotype$GT %<>% { ifelse(test = . == './.', yes = '0/0', no = .) }\n",
    "    \n",
    "  # Assume genotype 0/0 for no information.\n",
    "  normalisedVariants = lapply(X = unique(variants$start), FUN = function(rs) {\n",
    "    \n",
    "    SNP <- dplyr::filter(variants, start == rs)\n",
    "    # Filter the table down to just one SNP at a time.\n",
    "    \n",
    "    if ( length(unique(SNP$genotype$sampleNames)) != nrow(SNP) ) {\n",
    "      # If the number of rows and number of unique sample IDs don't match:\n",
    "      \n",
    "      \n",
    "      lapply(X = unique(SNP$genotype$sampleNames), FUN = function(patient) {\n",
    "        \n",
    "        dplyr::filter(SNP$genotype, sampleNames == patient) %>%\n",
    "          dplyr::select(GT) %>%\n",
    "          table %>%\n",
    "          { if ( length(.) == 1 ) { return(c('SNP' = rs, 'sampleNames' = patient, 'GT' = '0/0')) }\n",
    "            else if ( length(.) == 2 ) { return(c('SNP' = rs, 'sampleNames' = patient, 'GT' = '0/1')) }\n",
    "            else if ( length(.) == 3 ) { return(c('SNP' = rs, 'sampleNames' = patient, 'GT' = '1/1')) }}\n",
    "        # Rough and ready way to compress multiple base variants for the same SNP.\n",
    "        \n",
    "      }) %>%\n",
    "        do.call('rbind', .)\n",
    "      \n",
    "    } else { \n",
    "      \n",
    "      cbind(rs, SNP$genotype[, c('sampleNames', 'GT')]) %>%\n",
    "        set_colnames(c('SNP', 'sampleNames', 'GT')) %>%\n",
    "        return\n",
    "      \n",
    "    }\n",
    "    \n",
    "  }) %>%\n",
    "  do.call('rbind', .) %>%\n",
    "  { lapply(X = unique(.$sampleNames), \n",
    "           FUN = function(patient) {\n",
    "             \n",
    "             dplyr::filter(., sampleNames == patient) %>%\n",
    "               dplyr::select(GT) %>%\n",
    "               unlist %>%\n",
    "               { if ( all(. == '0/0') ) { c('Sample Source ID' = patient, 'SNP' = 'No') } else { c('Sample Source ID' = patient, 'SNP' = 'Yes') } }\n",
    "               \n",
    "           }) } %>%\n",
    "  do.call('rbind', .) %>%\n",
    "  as_tibble\n",
    "    \n",
    "    return(normalisedVariants)\n",
    "}"
   ]
  },
  {
   "cell_type": "code",
   "execution_count": null,
   "metadata": {},
   "outputs": [],
   "source": []
  }
 ],
 "metadata": {
  "kernelspec": {
   "display_name": "R",
   "language": "R",
   "name": "ir"
  },
  "language_info": {
   "codemirror_mode": "r",
   "file_extension": ".r",
   "mimetype": "text/x-r-source",
   "name": "R",
   "pygments_lexer": "r",
   "version": "4.0.2"
  }
 },
 "nbformat": 4,
 "nbformat_minor": 4
}
