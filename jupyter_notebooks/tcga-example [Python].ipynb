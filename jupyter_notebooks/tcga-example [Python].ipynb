{
 "cells": [
  {
   "cell_type": "markdown",
   "metadata": {},
   "source": [
    "# API Examples on TCGA"
   ]
  },
  {
   "cell_type": "markdown",
   "metadata": {},
   "source": [
    "### 1. Connect to the instance"
   ]
  },
  {
   "cell_type": "code",
   "execution_count": 1,
   "metadata": {},
   "outputs": [],
   "source": [
    "import pandas as pd\n",
    "import matplotlib.pyplot as plt\n",
    "import os, time\n",
    "import integration_curator # Genestack client library\n",
    "\n",
    "os.environ['PRED_SPOT_HOST'] = 'occam.genestack.com'\n",
    "os.environ['PRED_SPOT_TOKEN'] = '<your token>'\n",
    "os.environ['PRED_SPOT_VERSION'] = 'default-released'\n",
    "\n",
    "omics_api = integration_curator.OmicsQueriesApi()"
   ]
  },
  {
   "cell_type": "markdown",
   "metadata": {},
   "source": [
    "### 2. Get samples"
   ]
  },
  {
   "cell_type": "code",
   "execution_count": 2,
   "metadata": {},
   "outputs": [
    {
     "name": "stdout",
     "output_type": "stream",
     "text": [
      "Time to get 486 samples: 1 seconds\n",
      "\n"
     ]
    },
    {
     "data": {
      "text/html": [
       "<div>\n",
       "<style scoped>\n",
       "    .dataframe tbody tr th:only-of-type {\n",
       "        vertical-align: middle;\n",
       "    }\n",
       "\n",
       "    .dataframe tbody tr th {\n",
       "        vertical-align: top;\n",
       "    }\n",
       "\n",
       "    .dataframe thead th {\n",
       "        text-align: right;\n",
       "    }\n",
       "</style>\n",
       "<table border=\"1\" class=\"dataframe\">\n",
       "  <thead>\n",
       "    <tr style=\"text-align: right;\">\n",
       "      <th></th>\n",
       "      <th>genestack:accession</th>\n",
       "      <th>Sample Source ID</th>\n",
       "      <th>Sample Name</th>\n",
       "      <th>Organism</th>\n",
       "      <th>Disease</th>\n",
       "      <th>Tissue</th>\n",
       "      <th>Cell Type</th>\n",
       "      <th>Cell Line</th>\n",
       "      <th>Sampling Site</th>\n",
       "      <th>Age</th>\n",
       "      <th>...</th>\n",
       "      <th>tissue_or_organ_of_origin</th>\n",
       "      <th>primary_diagnosis</th>\n",
       "      <th>case_id</th>\n",
       "      <th>case_submitter_id</th>\n",
       "      <th>race</th>\n",
       "      <th>vital_status</th>\n",
       "      <th>age_at_index</th>\n",
       "      <th>days_to_birth</th>\n",
       "      <th>Sample Source</th>\n",
       "      <th>days_to_death</th>\n",
       "    </tr>\n",
       "  </thead>\n",
       "  <tbody>\n",
       "    <tr>\n",
       "      <th>0</th>\n",
       "      <td>GSF960940</td>\n",
       "      <td>TCGA-55-A490</td>\n",
       "      <td>None</td>\n",
       "      <td>None</td>\n",
       "      <td>None</td>\n",
       "      <td>None</td>\n",
       "      <td>None</td>\n",
       "      <td>None</td>\n",
       "      <td>None</td>\n",
       "      <td>None</td>\n",
       "      <td>...</td>\n",
       "      <td>Upper lobe, lung</td>\n",
       "      <td>Adenocarcinoma, NOS</td>\n",
       "      <td>b89de053-d253-447f-952e-9a2edcf6bca5</td>\n",
       "      <td>TCGA-55-A490</td>\n",
       "      <td>white</td>\n",
       "      <td>Dead</td>\n",
       "      <td>78</td>\n",
       "      <td>-28728</td>\n",
       "      <td>TCGA</td>\n",
       "      <td>99</td>\n",
       "    </tr>\n",
       "    <tr>\n",
       "      <th>1</th>\n",
       "      <td>GSF960939</td>\n",
       "      <td>TCGA-49-AARE</td>\n",
       "      <td>None</td>\n",
       "      <td>None</td>\n",
       "      <td>None</td>\n",
       "      <td>None</td>\n",
       "      <td>None</td>\n",
       "      <td>None</td>\n",
       "      <td>None</td>\n",
       "      <td>None</td>\n",
       "      <td>...</td>\n",
       "      <td>Upper lobe, lung</td>\n",
       "      <td>Adenocarcinoma, NOS</td>\n",
       "      <td>cd9e70e4-8622-4a07-8646-63f8275c1737</td>\n",
       "      <td>TCGA-49-AARE</td>\n",
       "      <td>black or african american</td>\n",
       "      <td>Dead</td>\n",
       "      <td>51</td>\n",
       "      <td>-18893</td>\n",
       "      <td>TCGA</td>\n",
       "      <td>1229</td>\n",
       "    </tr>\n",
       "    <tr>\n",
       "      <th>2</th>\n",
       "      <td>GSF960938</td>\n",
       "      <td>TCGA-55-7994</td>\n",
       "      <td>None</td>\n",
       "      <td>None</td>\n",
       "      <td>None</td>\n",
       "      <td>None</td>\n",
       "      <td>None</td>\n",
       "      <td>None</td>\n",
       "      <td>None</td>\n",
       "      <td>None</td>\n",
       "      <td>...</td>\n",
       "      <td>Upper lobe, lung</td>\n",
       "      <td>Adenocarcinoma, NOS</td>\n",
       "      <td>67dbe286-edb3-4d07-8f74-9e5254f01945</td>\n",
       "      <td>TCGA-55-7994</td>\n",
       "      <td>white</td>\n",
       "      <td>Alive</td>\n",
       "      <td>81</td>\n",
       "      <td>-29858</td>\n",
       "      <td>TCGA</td>\n",
       "      <td>NaN</td>\n",
       "    </tr>\n",
       "    <tr>\n",
       "      <th>3</th>\n",
       "      <td>GSF960937</td>\n",
       "      <td>TCGA-J2-8192</td>\n",
       "      <td>None</td>\n",
       "      <td>None</td>\n",
       "      <td>None</td>\n",
       "      <td>None</td>\n",
       "      <td>None</td>\n",
       "      <td>None</td>\n",
       "      <td>None</td>\n",
       "      <td>None</td>\n",
       "      <td>...</td>\n",
       "      <td>Upper lobe, lung</td>\n",
       "      <td>Adenocarcinoma, NOS</td>\n",
       "      <td>369f14c4-2191-4962-a309-3e23ddc4e5fc</td>\n",
       "      <td>TCGA-J2-8192</td>\n",
       "      <td>white</td>\n",
       "      <td>Alive</td>\n",
       "      <td>65</td>\n",
       "      <td>-23892</td>\n",
       "      <td>TCGA</td>\n",
       "      <td>NaN</td>\n",
       "    </tr>\n",
       "    <tr>\n",
       "      <th>4</th>\n",
       "      <td>GSF960944</td>\n",
       "      <td>TCGA-55-1592</td>\n",
       "      <td>None</td>\n",
       "      <td>None</td>\n",
       "      <td>None</td>\n",
       "      <td>None</td>\n",
       "      <td>None</td>\n",
       "      <td>None</td>\n",
       "      <td>None</td>\n",
       "      <td>None</td>\n",
       "      <td>...</td>\n",
       "      <td>Upper lobe, lung</td>\n",
       "      <td>Adenocarcinoma, NOS</td>\n",
       "      <td>a41c46da-7ed4-4192-bd16-b3cbb94a5133</td>\n",
       "      <td>TCGA-55-1592</td>\n",
       "      <td>white</td>\n",
       "      <td>Dead</td>\n",
       "      <td>65</td>\n",
       "      <td>NaN</td>\n",
       "      <td>TCGA</td>\n",
       "      <td>701</td>\n",
       "    </tr>\n",
       "  </tbody>\n",
       "</table>\n",
       "<p>5 rows × 29 columns</p>\n",
       "</div>"
      ],
      "text/plain": [
       "  genestack:accession Sample Source ID Sample Name Organism Disease Tissue  \\\n",
       "0           GSF960940     TCGA-55-A490        None     None    None   None   \n",
       "1           GSF960939     TCGA-49-AARE        None     None    None   None   \n",
       "2           GSF960938     TCGA-55-7994        None     None    None   None   \n",
       "3           GSF960937     TCGA-J2-8192        None     None    None   None   \n",
       "4           GSF960944     TCGA-55-1592        None     None    None   None   \n",
       "\n",
       "  Cell Type Cell Line Sampling Site   Age  ... tissue_or_organ_of_origin  \\\n",
       "0      None      None          None  None  ...          Upper lobe, lung   \n",
       "1      None      None          None  None  ...          Upper lobe, lung   \n",
       "2      None      None          None  None  ...          Upper lobe, lung   \n",
       "3      None      None          None  None  ...          Upper lobe, lung   \n",
       "4      None      None          None  None  ...          Upper lobe, lung   \n",
       "\n",
       "     primary_diagnosis                               case_id  \\\n",
       "0  Adenocarcinoma, NOS  b89de053-d253-447f-952e-9a2edcf6bca5   \n",
       "1  Adenocarcinoma, NOS  cd9e70e4-8622-4a07-8646-63f8275c1737   \n",
       "2  Adenocarcinoma, NOS  67dbe286-edb3-4d07-8f74-9e5254f01945   \n",
       "3  Adenocarcinoma, NOS  369f14c4-2191-4962-a309-3e23ddc4e5fc   \n",
       "4  Adenocarcinoma, NOS  a41c46da-7ed4-4192-bd16-b3cbb94a5133   \n",
       "\n",
       "  case_submitter_id                       race vital_status age_at_index  \\\n",
       "0      TCGA-55-A490                      white         Dead           78   \n",
       "1      TCGA-49-AARE  black or african american         Dead           51   \n",
       "2      TCGA-55-7994                      white        Alive           81   \n",
       "3      TCGA-J2-8192                      white        Alive           65   \n",
       "4      TCGA-55-1592                      white         Dead           65   \n",
       "\n",
       "  days_to_birth Sample Source days_to_death  \n",
       "0        -28728          TCGA            99  \n",
       "1        -18893          TCGA          1229  \n",
       "2        -29858          TCGA           NaN  \n",
       "3        -23892          TCGA           NaN  \n",
       "4           NaN          TCGA           701  \n",
       "\n",
       "[5 rows x 29 columns]"
      ]
     },
     "execution_count": 2,
     "metadata": {},
     "output_type": "execute_result"
    }
   ],
   "source": [
    "study_filter = 'genestack:accession=GSF960537'\n",
    "\n",
    "start = time.time()\n",
    "data = omics_api.search_samples(\n",
    "    study_filter=study_filter\n",
    ")\n",
    "samples = pd.DataFrame.from_dict([item['metadata'] for item in data.data])\n",
    "print('Time to get %s samples: %i seconds\\n' % (samples.shape[0], time.time()-start))\n",
    "\n",
    "samples.head()"
   ]
  },
  {
   "cell_type": "markdown",
   "metadata": {},
   "source": [
    "### 3. Get germline mutations"
   ]
  },
  {
   "cell_type": "code",
   "execution_count": 3,
   "metadata": {},
   "outputs": [
    {
     "data": {
      "text/plain": [
       "[{'itemId': 'GSF962405-26817',\n",
       "  'metadata': {'Type': 'Normal'},\n",
       "  'contig': '12',\n",
       "  'start': 25225628,\n",
       "  'reference': 'C',\n",
       "  'alteration': ['G'],\n",
       "  'variationId': ['.'],\n",
       "  'info': {'AC': ['0'], 'AN': ['2']},\n",
       "  'genotype': {'AD': '.',\n",
       "   'sampleNames': 'TCGA-05-4249',\n",
       "   'DP': '.',\n",
       "   'GT': './.'},\n",
       "  'relationships': {'sample': 'GSF960698'}},\n",
       " {'itemId': 'GSF962408-26820',\n",
       "  'metadata': {'Type': 'Normal'},\n",
       "  'contig': '12',\n",
       "  'start': 25225628,\n",
       "  'reference': 'C',\n",
       "  'alteration': ['G'],\n",
       "  'variationId': ['.'],\n",
       "  'info': {'AC': ['0'], 'AN': ['2']},\n",
       "  'genotype': {'AD': '.',\n",
       "   'sampleNames': 'TCGA-05-4389',\n",
       "   'DP': '.',\n",
       "   'GT': './.'},\n",
       "  'relationships': {'sample': 'GSF960558'}}]"
      ]
     },
     "execution_count": 3,
     "metadata": {},
     "output_type": "execute_result"
    }
   ],
   "source": [
    "vx_query = 'Gene=KRAS'\n",
    "vx_filter = 'Type=Normal'\n",
    "\n",
    "start = time.time()\n",
    "data = omics_api.search_variant_data(\n",
    "    study_filter=study_filter,\n",
    "    vx_query=vx_query,\n",
    "    vx_filter=vx_filter,\n",
    "    page_limit=2\n",
    ").data\n",
    "\n",
    "data"
   ]
  },
  {
   "cell_type": "markdown",
   "metadata": {},
   "source": [
    "### 4. Get somatic mutations"
   ]
  },
  {
   "cell_type": "code",
   "execution_count": 4,
   "metadata": {},
   "outputs": [
    {
     "data": {
      "text/plain": [
       "[{'itemId': 'GSF961984-26817',\n",
       "  'metadata': {'Type': 'Tumor'},\n",
       "  'contig': '12',\n",
       "  'start': 25225628,\n",
       "  'reference': 'C',\n",
       "  'alteration': ['G'],\n",
       "  'variationId': ['.'],\n",
       "  'info': {'AC': ['1'], 'AN': ['2']},\n",
       "  'genotype': {'AD': '.',\n",
       "   'sampleNames': 'TCGA-05-4249',\n",
       "   'DP': '.',\n",
       "   'GT': './.'},\n",
       "  'relationships': {'sample': 'GSF960698'}},\n",
       " {'itemId': 'GSF961987-26820',\n",
       "  'metadata': {'Type': 'Tumor'},\n",
       "  'contig': '12',\n",
       "  'start': 25225628,\n",
       "  'reference': 'C',\n",
       "  'alteration': ['G'],\n",
       "  'variationId': ['.'],\n",
       "  'info': {'AC': ['1'], 'AN': ['2']},\n",
       "  'genotype': {'AD': '.',\n",
       "   'sampleNames': 'TCGA-05-4389',\n",
       "   'DP': '.',\n",
       "   'GT': './.'},\n",
       "  'relationships': {'sample': 'GSF960558'}}]"
      ]
     },
     "execution_count": 4,
     "metadata": {},
     "output_type": "execute_result"
    }
   ],
   "source": [
    "vx_query = 'Gene=KRAS'\n",
    "vx_filter = 'Type=Tumor'\n",
    "\n",
    "start = time.time()\n",
    "data = omics_api.search_variant_data(\n",
    "    study_filter=study_filter,\n",
    "    vx_query=vx_query,\n",
    "    vx_filter=vx_filter,\n",
    "    page_limit=2\n",
    ").data\n",
    "\n",
    "data"
   ]
  },
  {
   "cell_type": "markdown",
   "metadata": {},
   "source": [
    "### 5. Get expression data"
   ]
  },
  {
   "cell_type": "code",
   "execution_count": 5,
   "metadata": {},
   "outputs": [
    {
     "data": {
      "text/plain": [
       "[{'itemId': 'GSF961853-KRAS',\n",
       "  'metadata': {'Type': 'FPKM', 'Run Source ID': 'TCGA-05-4249'},\n",
       "  'runId': 'GSF961853',\n",
       "  'groupId': 'GSF961501',\n",
       "  'gene': 'KRAS',\n",
       "  'expression': 31.5975727207,\n",
       "  'relationships': {'sample': 'GSF960698'}},\n",
       " {'itemId': 'GSF961791-KRAS',\n",
       "  'metadata': {'Type': 'FPKM', 'Run Source ID': 'TCGA-05-4389'},\n",
       "  'runId': 'GSF961791',\n",
       "  'groupId': 'GSF961501',\n",
       "  'gene': 'KRAS',\n",
       "  'expression': 9.06548155284,\n",
       "  'relationships': {'sample': 'GSF960558'}}]"
      ]
     },
     "execution_count": 5,
     "metadata": {},
     "output_type": "execute_result"
    }
   ],
   "source": [
    "gene = 'KRAS'\n",
    "ex_query = 'Gene=%s MinValue=0.0' % gene\n",
    "ex_filter = 'Type=FPKM'\n",
    "\n",
    "start = time.time()\n",
    "data = omics_api.search_expression_data(\n",
    "    study_filter=study_filter,\n",
    "    ex_query=ex_query,\n",
    "    ex_filter=ex_filter,\n",
    "    page_limit=2\n",
    ").data\n",
    "\n",
    "data"
   ]
  },
  {
   "cell_type": "markdown",
   "metadata": {},
   "source": [
    "### 6. Get copy number data"
   ]
  },
  {
   "cell_type": "code",
   "execution_count": 6,
   "metadata": {},
   "outputs": [
    {
     "data": {
      "text/plain": [
       "[{'itemId': 'GSF961100-KRAS',\n",
       "  'metadata': {'Type': 'Copy Number', 'Run Source ID': 'TCGA-05-4249'},\n",
       "  'runId': 'GSF961100',\n",
       "  'groupId': 'GSF961027',\n",
       "  'gene': 'KRAS',\n",
       "  'expression': 4.0,\n",
       "  'relationships': {'sample': 'GSF960698'}},\n",
       " {'itemId': 'GSF961424-KRAS',\n",
       "  'metadata': {'Type': 'Copy Number', 'Run Source ID': 'TCGA-05-4389'},\n",
       "  'runId': 'GSF961424',\n",
       "  'groupId': 'GSF961027',\n",
       "  'gene': 'KRAS',\n",
       "  'expression': 4.0,\n",
       "  'relationships': {'sample': 'GSF960558'}}]"
      ]
     },
     "execution_count": 6,
     "metadata": {},
     "output_type": "execute_result"
    }
   ],
   "source": [
    "gene = 'KRAS'\n",
    "ex_query = 'Gene=%s MinValue=0.0' % gene\n",
    "ex_filter = 'Type=\"Copy Number\"'\n",
    "\n",
    "start = time.time()\n",
    "data = omics_api.search_expression_data(\n",
    "    study_filter=study_filter,\n",
    "    ex_query=ex_query,\n",
    "    ex_filter=ex_filter,\n",
    "    page_limit=2\n",
    ").data\n",
    "\n",
    "data"
   ]
  }
 ],
 "metadata": {
  "kernelspec": {
   "display_name": "Python 3",
   "language": "python",
   "name": "python3"
  },
  "language_info": {
   "codemirror_mode": {
    "name": "ipython",
    "version": 3
   },
   "file_extension": ".py",
   "mimetype": "text/x-python",
   "name": "python",
   "nbconvert_exporter": "python",
   "pygments_lexer": "ipython3",
   "version": "3.7.5"
  }
 },
 "nbformat": 4,
 "nbformat_minor": 4
}
