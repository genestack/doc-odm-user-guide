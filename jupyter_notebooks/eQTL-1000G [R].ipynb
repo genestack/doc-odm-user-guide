{
 "cells": [
  {
   "cell_type": "markdown",
   "metadata": {},
   "source": [
    "# eQTL Analysis on 1000 Genomes dataset"
   ]
  },
  {
   "cell_type": "markdown",
   "metadata": {},
   "source": [
    "### Set instance and token"
   ]
  },
  {
   "cell_type": "code",
   "execution_count": 85,
   "metadata": {},
   "outputs": [],
   "source": [
    "suppressMessages(library(tidyverse))\n",
    "library(integrationCurator) # Genestack client library\n",
    "\n",
    "Sys.setenv(PRED_SPOT_HOST = 'occam.genestack.com',\n",
    "           PRED_SPOT_TOKEN = '<token>',\n",
    "           PRED_SPOT_VERSION = 'default-released')"
   ]
  },
  {
   "cell_type": "markdown",
   "metadata": {},
   "source": [
    "### Get samples"
   ]
  },
  {
   "cell_type": "code",
   "execution_count": 86,
   "metadata": {},
   "outputs": [
    {
     "name": "stdout",
     "output_type": "stream",
     "text": [
      "Time to get 182 samples: 0 seconds\n",
      "\n"
     ]
    },
    {
     "data": {
      "text/html": [
       "<table>\n",
       "<thead><tr><th scope=col>genestack:accession</th><th scope=col>Species Or Strain</th></tr></thead>\n",
       "<tbody>\n",
       "\t<tr><td>GSF535900</td><td>British  </td></tr>\n",
       "\t<tr><td>GSF535899</td><td>British  </td></tr>\n",
       "\t<tr><td>GSF535902</td><td>British  </td></tr>\n",
       "\t<tr><td>GSF535901</td><td>British  </td></tr>\n",
       "\t<tr><td>GSF535896</td><td>British  </td></tr>\n",
       "\t<tr><td>GSF535895</td><td>British  </td></tr>\n",
       "</tbody>\n",
       "</table>\n"
      ],
      "text/latex": [
       "\\begin{tabular}{r|ll}\n",
       " genestack:accession & Species Or Strain\\\\\n",
       "\\hline\n",
       "\t GSF535900 & British  \\\\\n",
       "\t GSF535899 & British  \\\\\n",
       "\t GSF535902 & British  \\\\\n",
       "\t GSF535901 & British  \\\\\n",
       "\t GSF535896 & British  \\\\\n",
       "\t GSF535895 & British  \\\\\n",
       "\\end{tabular}\n"
      ],
      "text/markdown": [
       "\n",
       "| genestack:accession | Species Or Strain |\n",
       "|---|---|\n",
       "| GSF535900 | British   |\n",
       "| GSF535899 | British   |\n",
       "| GSF535902 | British   |\n",
       "| GSF535901 | British   |\n",
       "| GSF535896 | British   |\n",
       "| GSF535895 | British   |\n",
       "\n"
      ],
      "text/plain": [
       "  genestack:accession Species Or Strain\n",
       "1 GSF535900           British          \n",
       "2 GSF535899           British          \n",
       "3 GSF535902           British          \n",
       "4 GSF535901           British          \n",
       "5 GSF535896           British          \n",
       "6 GSF535895           British          "
      ]
     },
     "metadata": {},
     "output_type": "display_data"
    }
   ],
   "source": [
    "study_filter <- 'genestack:accession=GSF535886'\n",
    "sample_filter <- paste(sprintf('\"Species Or Strain\"=\"%s\"', c('British', 'Finnish')),collapse=\" OR \")\n",
    "\n",
    "start <- Sys.time()\n",
    "samples <- as_tibble(OmicsQueriesApi_search_samples(\n",
    "    study_filter=study_filter,\n",
    "    sample_filter=sample_filter\n",
    ")$content$data[['metadata']])\n",
    "cat(sprintf('Time to get %s samples: %s seconds\\n\\n', nrow(samples), round(Sys.time() - start)))\n",
    "\n",
    "samples <- samples[, c('genestack:accession', 'Species Or Strain')]\n",
    "head(samples)"
   ]
  },
  {
   "cell_type": "markdown",
   "metadata": {},
   "source": [
    "### Get genotypes"
   ]
  },
  {
   "cell_type": "code",
   "execution_count": 87,
   "metadata": {},
   "outputs": [
    {
     "name": "stdout",
     "output_type": "stream",
     "text": [
      "Time to get 181 genotypes: 10 seconds\n",
      "\n"
     ]
    },
    {
     "data": {
      "text/html": [
       "<table>\n",
       "<thead><tr><th scope=col>genestack:accession</th><th scope=col>genotype</th></tr></thead>\n",
       "<tbody>\n",
       "\t<tr><td>GSF535888</td><td>1|0      </td></tr>\n",
       "\t<tr><td>GSF535889</td><td>0|0      </td></tr>\n",
       "\t<tr><td>GSF535890</td><td>1|0      </td></tr>\n",
       "\t<tr><td>GSF535891</td><td>1|0      </td></tr>\n",
       "\t<tr><td>GSF535892</td><td>0|0      </td></tr>\n",
       "\t<tr><td>GSF535893</td><td>0|0      </td></tr>\n",
       "</tbody>\n",
       "</table>\n"
      ],
      "text/latex": [
       "\\begin{tabular}{r|ll}\n",
       " genestack:accession & genotype\\\\\n",
       "\\hline\n",
       "\t GSF535888     & 1\\textbar{}0\\\\\n",
       "\t GSF535889     & 0\\textbar{}0\\\\\n",
       "\t GSF535890     & 1\\textbar{}0\\\\\n",
       "\t GSF535891     & 1\\textbar{}0\\\\\n",
       "\t GSF535892     & 0\\textbar{}0\\\\\n",
       "\t GSF535893     & 0\\textbar{}0\\\\\n",
       "\\end{tabular}\n"
      ],
      "text/markdown": [
       "\n",
       "| genestack:accession | genotype |\n",
       "|---|---|\n",
       "| GSF535888 | 1|0       |\n",
       "| GSF535889 | 0|0       |\n",
       "| GSF535890 | 1|0       |\n",
       "| GSF535891 | 1|0       |\n",
       "| GSF535892 | 0|0       |\n",
       "| GSF535893 | 0|0       |\n",
       "\n"
      ],
      "text/plain": [
       "  genestack:accession genotype\n",
       "1 GSF535888           1|0     \n",
       "2 GSF535889           0|0     \n",
       "3 GSF535890           1|0     \n",
       "4 GSF535891           1|0     \n",
       "5 GSF535892           0|0     \n",
       "6 GSF535893           0|0     "
      ]
     },
     "metadata": {},
     "output_type": "display_data"
    }
   ],
   "source": [
    "variant <- 'rs17007017'\n",
    "vx_query <- sprintf('VariationId=%s', variant)\n",
    "\n",
    "start <- Sys.time()\n",
    "data <- OmicsQueriesApi_search_variant_data(\n",
    "    study_filter=study_filter,\n",
    "    sample_filter=sample_filter,\n",
    "    vx_query=vx_query\n",
    ")$content$data\n",
    "cat(sprintf('Time to get %s genotypes: %s seconds\\n\\n', nrow(data), round(Sys.time() - start)))\n",
    "\n",
    "genotypes = cbind(\n",
    "    'genestack:accession'=data$relationships$sample,\n",
    "    'genotype'=data$genotype$GT\n",
    ") %>% as_tibble %>% mutate(genotype = if_else(genotype == '0|1', '1|0', genotype))\n",
    "\n",
    "head(genotypes)"
   ]
  },
  {
   "cell_type": "markdown",
   "metadata": {},
   "source": [
    "### Get expression data"
   ]
  },
  {
   "cell_type": "code",
   "execution_count": 95,
   "metadata": {},
   "outputs": [
    {
     "name": "stdout",
     "output_type": "stream",
     "text": [
      "Time to get 174 expression values: 6 seconds\n",
      "\n"
     ]
    },
    {
     "data": {
      "text/html": [
       "<table>\n",
       "<thead><tr><th scope=col>genestack:accession</th><th scope=col>expression</th></tr></thead>\n",
       "<tbody>\n",
       "\t<tr><td>GSF535888</td><td>49.42040 </td></tr>\n",
       "\t<tr><td>GSF535889</td><td>40.24165 </td></tr>\n",
       "\t<tr><td>GSF535890</td><td>34.08621 </td></tr>\n",
       "\t<tr><td>GSF535891</td><td>50.21921 </td></tr>\n",
       "\t<tr><td>GSF535892</td><td>59.59322 </td></tr>\n",
       "\t<tr><td>GSF535893</td><td>54.31705 </td></tr>\n",
       "</tbody>\n",
       "</table>\n"
      ],
      "text/latex": [
       "\\begin{tabular}{r|ll}\n",
       " genestack:accession & expression\\\\\n",
       "\\hline\n",
       "\t GSF535888 & 49.42040 \\\\\n",
       "\t GSF535889 & 40.24165 \\\\\n",
       "\t GSF535890 & 34.08621 \\\\\n",
       "\t GSF535891 & 50.21921 \\\\\n",
       "\t GSF535892 & 59.59322 \\\\\n",
       "\t GSF535893 & 54.31705 \\\\\n",
       "\\end{tabular}\n"
      ],
      "text/markdown": [
       "\n",
       "| genestack:accession | expression |\n",
       "|---|---|\n",
       "| GSF535888 | 49.42040  |\n",
       "| GSF535889 | 40.24165  |\n",
       "| GSF535890 | 34.08621  |\n",
       "| GSF535891 | 50.21921  |\n",
       "| GSF535892 | 59.59322  |\n",
       "| GSF535893 | 54.31705  |\n",
       "\n"
      ],
      "text/plain": [
       "  genestack:accession expression\n",
       "1 GSF535888           49.42040  \n",
       "2 GSF535889           40.24165  \n",
       "3 GSF535890           34.08621  \n",
       "4 GSF535891           50.21921  \n",
       "5 GSF535892           59.59322  \n",
       "6 GSF535893           54.31705  "
      ]
     },
     "metadata": {},
     "output_type": "display_data"
    }
   ],
   "source": [
    "gene <- 'ENSG00000109445'\n",
    "ex_query <- sprintf('Gene=%s MinValue=0.0', gene)\n",
    "\n",
    "start <- Sys.time()\n",
    "data <- OmicsQueriesApi_search_expression_data(\n",
    "    study_filter=study_filter,\n",
    "    sample_filter=sample_filter,\n",
    "    ex_query=ex_query\n",
    ")$content$data\n",
    "cat(sprintf('Time to get %s expression values: %s seconds\\n\\n', nrow(data), round(Sys.time() - start)))\n",
    "\n",
    "expressions <- cbind.data.frame(\n",
    "    'genestack:accession'=data$relationships$sample,\n",
    "    'expression'=data$expression\n",
    ")\n",
    "\n",
    "head(expressions)"
   ]
  },
  {
   "cell_type": "markdown",
   "metadata": {},
   "source": [
    "### eQTL plot"
   ]
  },
  {
   "cell_type": "code",
   "execution_count": 96,
   "metadata": {},
   "outputs": [
    {
     "data": {
      "image/png": "[encoded data removed]",
      "text/plain": [
       "plot without title"
      ]
     },
     "metadata": {},
     "output_type": "display_data"
    }
   ],
   "source": [
    "combined_data <- inner_join(\n",
    "    samples,\n",
    "    inner_join(genotypes, expressions, by='genestack:accession'),\n",
    "    by='genestack:accession'\n",
    ")\n",
    "\n",
    "ggplot(combined_data,\n",
    "    mapping=aes(x=genotype, y=expression)) +\n",
    "    geom_boxplot() + ggtitle(sprintf('Expression of gene %s', gene)) +\n",
    "    theme(plot.title = element_text(hjust = 0.5, size=10))"
   ]
  }
 ],
 "metadata": {
  "kernelspec": {
   "display_name": "R",
   "language": "R",
   "name": "ir"
  },
  "language_info": {
   "codemirror_mode": "r",
   "file_extension": ".r",
   "mimetype": "text/x-r-source",
   "name": "R",
   "pygments_lexer": "r",
   "version": "3.5.1"
  }
 },
 "nbformat": 4,
 "nbformat_minor": 4
}
