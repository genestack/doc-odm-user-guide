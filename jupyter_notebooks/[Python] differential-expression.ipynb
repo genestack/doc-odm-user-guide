{
 "cells": [
  {
   "cell_type": "markdown",
   "metadata": {},
   "source": [
    "# Using Genestack Omics APIs for differential expression analysis"
   ]
  },
  {
   "cell_type": "markdown",
   "metadata": {},
   "source": [
    "### 1. Connect to the instance"
   ]
  },
  {
   "cell_type": "code",
   "execution_count": 1,
   "metadata": {},
   "outputs": [],
   "source": [
    "import pandas as pd\n",
    "import matplotlib.pyplot as plt\n",
    "import os\n",
    "# Genestack client library\n",
    "import integration_curator\n",
    "\n",
    "os.environ['PRED_SPOT_HOST'] = 'occam.genestack.com'\n",
    "os.environ['PRED_SPOT_TOKEN'] = '<your API token>'\n",
    "\n",
    "omics_api = integration_curator.OmicsQueriesApi()"
   ]
  },
  {
   "cell_type": "markdown",
   "metadata": {},
   "source": [
    "### 2. Get samples"
   ]
  },
  {
   "cell_type": "code",
   "execution_count": 2,
   "metadata": {},
   "outputs": [
    {
     "data": {
      "text/html": [
       "<div>\n",
       "<style scoped>\n",
       "    .dataframe tbody tr th:only-of-type {\n",
       "        vertical-align: middle;\n",
       "    }\n",
       "\n",
       "    .dataframe tbody tr th {\n",
       "        vertical-align: top;\n",
       "    }\n",
       "\n",
       "    .dataframe thead th {\n",
       "        text-align: right;\n",
       "    }\n",
       "</style>\n",
       "<table border=\"1\" class=\"dataframe\">\n",
       "  <thead>\n",
       "    <tr style=\"text-align: right;\">\n",
       "      <th></th>\n",
       "      <th>genestack:accession</th>\n",
       "      <th>GTEX original SMTS</th>\n",
       "    </tr>\n",
       "  </thead>\n",
       "  <tbody>\n",
       "    <tr>\n",
       "      <th>0</th>\n",
       "      <td>GSF496314</td>\n",
       "      <td>Prostate</td>\n",
       "    </tr>\n",
       "    <tr>\n",
       "      <th>1</th>\n",
       "      <td>GSF497076</td>\n",
       "      <td>Breast</td>\n",
       "    </tr>\n",
       "    <tr>\n",
       "      <th>2</th>\n",
       "      <td>GSF495280</td>\n",
       "      <td>Breast</td>\n",
       "    </tr>\n",
       "    <tr>\n",
       "      <th>3</th>\n",
       "      <td>GSF495050</td>\n",
       "      <td>Salivary Gland</td>\n",
       "    </tr>\n",
       "    <tr>\n",
       "      <th>4</th>\n",
       "      <td>GSF495820</td>\n",
       "      <td>Breast</td>\n",
       "    </tr>\n",
       "  </tbody>\n",
       "</table>\n",
       "</div>"
      ],
      "text/plain": [
       "  genestack:accession GTEX original SMTS\n",
       "0           GSF496314           Prostate\n",
       "1           GSF497076             Breast\n",
       "2           GSF495280             Breast\n",
       "3           GSF495050     Salivary Gland\n",
       "4           GSF495820             Breast"
      ]
     },
     "execution_count": 2,
     "metadata": {},
     "output_type": "execute_result"
    }
   ],
   "source": [
    "study_name = 'GTEXv7'\n",
    "sample_field = 'GTEX original SMTS'\n",
    "sample_values = ['Prostate', 'Breast', 'Salivary Gland']\n",
    "sample_filter = ' OR '.join(['\"%s\"=\"%s\"' % (sample_field, sample_value) \n",
    "                             for sample_value in sample_values])\n",
    "\n",
    "data = omics_api.search_samples(\n",
    "    study_filter='genestack:name=\"%s\"' % study_name, \n",
    "    sample_filter=sample_filter\n",
    ")\n",
    "samples = pd.DataFrame.from_dict([item['metadata'] for item in data.data])\n",
    "samples[['genestack:accession', sample_field]].head()"
   ]
  },
  {
   "cell_type": "markdown",
   "metadata": {},
   "source": [
    "### 3. Get expression data"
   ]
  },
  {
   "cell_type": "code",
   "execution_count": 3,
   "metadata": {},
   "outputs": [
    {
     "data": {
      "text/html": [
       "<div>\n",
       "<style scoped>\n",
       "    .dataframe tbody tr th:only-of-type {\n",
       "        vertical-align: middle;\n",
       "    }\n",
       "\n",
       "    .dataframe tbody tr th {\n",
       "        vertical-align: top;\n",
       "    }\n",
       "\n",
       "    .dataframe thead th {\n",
       "        text-align: right;\n",
       "    }\n",
       "</style>\n",
       "<table border=\"1\" class=\"dataframe\">\n",
       "  <thead>\n",
       "    <tr style=\"text-align: right;\">\n",
       "      <th></th>\n",
       "      <th>expression</th>\n",
       "      <th>genestack:accession</th>\n",
       "    </tr>\n",
       "  </thead>\n",
       "  <tbody>\n",
       "    <tr>\n",
       "      <th>0</th>\n",
       "      <td>71.0</td>\n",
       "      <td>GSF495048</td>\n",
       "    </tr>\n",
       "    <tr>\n",
       "      <th>1</th>\n",
       "      <td>399.0</td>\n",
       "      <td>GSF495050</td>\n",
       "    </tr>\n",
       "    <tr>\n",
       "      <th>2</th>\n",
       "      <td>92804.0</td>\n",
       "      <td>GSF495067</td>\n",
       "    </tr>\n",
       "    <tr>\n",
       "      <th>3</th>\n",
       "      <td>273103.0</td>\n",
       "      <td>GSF495086</td>\n",
       "    </tr>\n",
       "    <tr>\n",
       "      <th>4</th>\n",
       "      <td>1038.0</td>\n",
       "      <td>GSF495088</td>\n",
       "    </tr>\n",
       "  </tbody>\n",
       "</table>\n",
       "</div>"
      ],
      "text/plain": [
       "   expression genestack:accession\n",
       "0        71.0           GSF495048\n",
       "1       399.0           GSF495050\n",
       "2     92804.0           GSF495067\n",
       "3    273103.0           GSF495086\n",
       "4      1038.0           GSF495088"
      ]
     },
     "execution_count": 3,
     "metadata": {},
     "output_type": "execute_result"
    }
   ],
   "source": [
    "gene = 'ENSG00000014257.11'\n",
    "\n",
    "data = omics_api.search_expression_data(\n",
    "    study_filter='genestack:name=\"%s\"' % study_name,\n",
    "    sample_filter=sample_filter,\n",
    "    ex_query='Gene=%s MinValue=0.0' % gene\n",
    ")\n",
    "expressions = pd.DataFrame.from_dict({'genestack:accession': item['relationships']['sample'], \n",
    "                                      'expression': item['expression']} for item in data.data)\n",
    "expressions.head()"
   ]
  },
  {
   "cell_type": "markdown",
   "metadata": {},
   "source": [
    "### 4. Differential expression plot"
   ]
  },
  {
   "cell_type": "code",
   "execution_count": 4,
   "metadata": {},
   "outputs": [
    {
     "data": {
      "text/plain": [
       "Text(0.5,0,'Tissue')"
      ]
     },
     "execution_count": 4,
     "metadata": {},
     "output_type": "execute_result"
    },
    {
     "data": {
      "image/png": "[encoded data removed]",
      "text/plain": [
       "<Figure size 720x360 with 1 Axes>"
      ]
     },
     "metadata": {},
     "output_type": "display_data"
    }
   ],
   "source": [
    "samples_expressions = pd.merge(samples, expressions)\n",
    "samples_expressions.boxplot('expression', sample_field, rot=0, figsize=(10,5))\n",
    "plt.suptitle('')\n",
    "plt.title('Expression of gene %s' % gene)\n",
    "plt.ylabel('RPKM')\n",
    "plt.xlabel('Tissue')"
   ]
  }
 ],
 "metadata": {
  "kernelspec": {
   "display_name": "Python 2",
   "language": "python",
   "name": "python2"
  },
  "language_info": {
   "codemirror_mode": {
    "name": "ipython",
    "version": 2
   },
   "file_extension": ".py",
   "mimetype": "text/x-python",
   "name": "python",
   "nbconvert_exporter": "python",
   "pygments_lexer": "ipython2",
   "version": "2.7.15"
  }
 },
 "nbformat": 4,
 "nbformat_minor": 2
}
