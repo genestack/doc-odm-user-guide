{
 "cells": [
  {
   "cell_type": "markdown",
   "metadata": {},
   "source": [
    "# Adding samples to an existing study\n",
    "This example shows how you can add new samples to an existing study and sample group.\n",
    "- The new samples will have no metadata. Their metadata can be updated using the REST API, as usual.\n",
    "- If you want to edit the samples' `Sample Source ID` field, which, by default, is set as `Read-only` in the metadata template, make sure that it's not set as such."
   ]
  },
  {
   "cell_type": "code",
   "execution_count": 1,
   "metadata": {},
   "outputs": [],
   "source": [
    "import base64\n",
    "import requests\n",
    "\n",
    "token = '<token>'\n",
    "instance = '<instance>'\n",
    "\n",
    "app_endpoint = 'https://%s/frontend/endpoint/application/invoke/genestack/' % instance\n",
    "url_authenticate = app_endpoint + 'signin/authenticateByApiToken'\n",
    "url_add_samples = app_endpoint + 'study-metainfo-editor/addSamples'\n",
    "\n",
    "request_headers = {'Genestack-API-Token': token,\n",
    "                   'Accept': 'application/json',\n",
    "                   'Content-Type': 'application/json'}"
   ]
  },
  {
   "cell_type": "code",
   "execution_count": 2,
   "metadata": {},
   "outputs": [],
   "source": [
    "study_accession = 'GSF002857'\n",
    "sample_group_accession = 'GSF002858'\n",
    "number_of_new_samples = 10"
   ]
  },
  {
   "cell_type": "code",
   "execution_count": 3,
   "metadata": {},
   "outputs": [
    {
     "name": "stdout",
     "output_type": "stream",
     "text": [
      "<Response [200]> {\"result\":null,\"log\":[]}\n"
     ]
    }
   ],
   "source": [
    "sample_group_base64 = base64.b64encode('sampleGroup:{}'.format(sample_group_accession).encode('ascii')).decode('ascii')\n",
    "\n",
    "s = requests.Session()\n",
    "session = s.post(url_authenticate, json=[token])\n",
    "res=s.post(url=url_add_samples, json=[study_accession, sample_group_base64, number_of_new_samples])\n",
    "print(res, res.text)"
   ]
  },
  {
   "cell_type": "code",
   "execution_count": null,
   "metadata": {},
   "outputs": [],
   "source": []
  }
 ],
 "metadata": {
  "kernelspec": {
   "display_name": "Python 3",
   "language": "python",
   "name": "python3"
  },
  "language_info": {
   "codemirror_mode": {
    "name": "ipython",
    "version": 3
   },
   "file_extension": ".py",
   "mimetype": "text/x-python",
   "name": "python",
   "nbconvert_exporter": "python",
   "pygments_lexer": "ipython3",
   "version": "3.7.7"
  }
 },
 "nbformat": 4,
 "nbformat_minor": 4
}
