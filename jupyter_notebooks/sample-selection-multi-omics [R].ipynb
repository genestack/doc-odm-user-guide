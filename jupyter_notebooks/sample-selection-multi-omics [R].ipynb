{
 "cells": [
  {
   "cell_type": "markdown",
   "metadata": {},
   "source": [
    "# Sample selection based on multi-omics data"
   ]
  },
  {
   "cell_type": "markdown",
   "metadata": {},
   "source": [
    "### Set instance and token"
   ]
  },
  {
   "cell_type": "code",
   "execution_count": 1,
   "metadata": {},
   "outputs": [
    {
     "name": "stderr",
     "output_type": "stream",
     "text": [
      "Warning message:\n",
      "“package ‘tibble’ was built under R version 3.6.3”Warning message:\n",
      "“package ‘tidyr’ was built under R version 3.6.3”Warning message:\n",
      "“package ‘dplyr’ was built under R version 3.6.3”"
     ]
    }
   ],
   "source": [
    "suppressMessages(library(tidyverse))\n",
    "library(integrationCurator) # Genestack client library\n",
    "\n",
    "Sys.setenv(PRED_SPOT_HOST = 'occam.genestack.com',\n",
    "           PRED_SPOT_TOKEN = '<token>',\n",
    "           PRED_SPOT_VERSION = 'default-released')"
   ]
  },
  {
   "cell_type": "markdown",
   "metadata": {},
   "source": [
    "### Get individuals"
   ]
  },
  {
   "cell_type": "code",
   "execution_count": 2,
   "metadata": {},
   "outputs": [
    {
     "name": "stdout",
     "output_type": "stream",
     "text": [
      "Time to get 182 samples: 1 seconds\n",
      "\n"
     ]
    },
    {
     "data": {
      "text/html": [
       "<table>\n",
       "<thead><tr><th scope=col>genestack:accession</th><th scope=col>Sample Source ID</th><th scope=col>Species Or Strain</th></tr></thead>\n",
       "<tbody>\n",
       "\t<tr><td>GSF535900</td><td>HG00111  </td><td>British  </td></tr>\n",
       "\t<tr><td>GSF535899</td><td>HG00110  </td><td>British  </td></tr>\n",
       "\t<tr><td>GSF535902</td><td>HG00113  </td><td>British  </td></tr>\n",
       "\t<tr><td>GSF535901</td><td>HG00112  </td><td>British  </td></tr>\n",
       "\t<tr><td>GSF535896</td><td>HG00106  </td><td>British  </td></tr>\n",
       "\t<tr><td>GSF535895</td><td>HG00104  </td><td>British  </td></tr>\n",
       "</tbody>\n",
       "</table>\n"
      ],
      "text/latex": [
       "\\begin{tabular}{r|lll}\n",
       " genestack:accession & Sample Source ID & Species Or Strain\\\\\n",
       "\\hline\n",
       "\t GSF535900 & HG00111   & British  \\\\\n",
       "\t GSF535899 & HG00110   & British  \\\\\n",
       "\t GSF535902 & HG00113   & British  \\\\\n",
       "\t GSF535901 & HG00112   & British  \\\\\n",
       "\t GSF535896 & HG00106   & British  \\\\\n",
       "\t GSF535895 & HG00104   & British  \\\\\n",
       "\\end{tabular}\n"
      ],
      "text/markdown": [
       "\n",
       "| genestack:accession | Sample Source ID | Species Or Strain |\n",
       "|---|---|---|\n",
       "| GSF535900 | HG00111   | British   |\n",
       "| GSF535899 | HG00110   | British   |\n",
       "| GSF535902 | HG00113   | British   |\n",
       "| GSF535901 | HG00112   | British   |\n",
       "| GSF535896 | HG00106   | British   |\n",
       "| GSF535895 | HG00104   | British   |\n",
       "\n"
      ],
      "text/plain": [
       "  genestack:accession Sample Source ID Species Or Strain\n",
       "1 GSF535900           HG00111          British          \n",
       "2 GSF535899           HG00110          British          \n",
       "3 GSF535902           HG00113          British          \n",
       "4 GSF535901           HG00112          British          \n",
       "5 GSF535896           HG00106          British          \n",
       "6 GSF535895           HG00104          British          "
      ]
     },
     "metadata": {},
     "output_type": "display_data"
    }
   ],
   "source": [
    "start = Sys.time()\n",
    "samples <- as_tibble(integrationCurator::OmicsQueriesApi_search_samples(\n",
    "    study_filter='genestack:accession=GSF535886',\n",
    "    sample_filter='\"Species Or Strain\"=\"British\" OR \"Species Or Strain\"=\"Finnish\"'\n",
    ")$content$data[['metadata']])\n",
    "cat(sprintf('Time to get %s samples: %s seconds\\n\\n', nrow(samples), round(Sys.time()-start)))\n",
    "\n",
    "head(samples[,c('genestack:accession', 'Sample Source ID', 'Species Or Strain')])"
   ]
  },
  {
   "cell_type": "markdown",
   "metadata": {},
   "source": [
    "### Get individuals filtered by genotypes"
   ]
  },
  {
   "cell_type": "code",
   "execution_count": 3,
   "metadata": {},
   "outputs": [
    {
     "name": "stdout",
     "output_type": "stream",
     "text": [
      "Time to get 72 samples: 1 seconds\n",
      "\n"
     ]
    },
    {
     "data": {
      "text/html": [
       "<table>\n",
       "<thead><tr><th scope=col>genestack:accession</th><th scope=col>Sample Source ID</th><th scope=col>Species Or Strain</th></tr></thead>\n",
       "<tbody>\n",
       "\t<tr><td>GSF536014</td><td>HG00312  </td><td>Finnish  </td></tr>\n",
       "\t<tr><td>GSF536004</td><td>HG00278  </td><td>Finnish  </td></tr>\n",
       "\t<tr><td>GSF536003</td><td>HG00277  </td><td>Finnish  </td></tr>\n",
       "\t<tr><td>GSF536000</td><td>HG00274  </td><td>Finnish  </td></tr>\n",
       "\t<tr><td>GSF535999</td><td>HG00273  </td><td>Finnish  </td></tr>\n",
       "\t<tr><td>GSF536001</td><td>HG00275  </td><td>Finnish  </td></tr>\n",
       "</tbody>\n",
       "</table>\n"
      ],
      "text/latex": [
       "\\begin{tabular}{r|lll}\n",
       " genestack:accession & Sample Source ID & Species Or Strain\\\\\n",
       "\\hline\n",
       "\t GSF536014 & HG00312   & Finnish  \\\\\n",
       "\t GSF536004 & HG00278   & Finnish  \\\\\n",
       "\t GSF536003 & HG00277   & Finnish  \\\\\n",
       "\t GSF536000 & HG00274   & Finnish  \\\\\n",
       "\t GSF535999 & HG00273   & Finnish  \\\\\n",
       "\t GSF536001 & HG00275   & Finnish  \\\\\n",
       "\\end{tabular}\n"
      ],
      "text/markdown": [
       "\n",
       "| genestack:accession | Sample Source ID | Species Or Strain |\n",
       "|---|---|---|\n",
       "| GSF536014 | HG00312   | Finnish   |\n",
       "| GSF536004 | HG00278   | Finnish   |\n",
       "| GSF536003 | HG00277   | Finnish   |\n",
       "| GSF536000 | HG00274   | Finnish   |\n",
       "| GSF535999 | HG00273   | Finnish   |\n",
       "| GSF536001 | HG00275   | Finnish   |\n",
       "\n"
      ],
      "text/plain": [
       "  genestack:accession Sample Source ID Species Or Strain\n",
       "1 GSF536014           HG00312          Finnish          \n",
       "2 GSF536004           HG00278          Finnish          \n",
       "3 GSF536003           HG00277          Finnish          \n",
       "4 GSF536000           HG00274          Finnish          \n",
       "5 GSF535999           HG00273          Finnish          \n",
       "6 GSF536001           HG00275          Finnish          "
      ]
     },
     "metadata": {},
     "output_type": "display_data"
    }
   ],
   "source": [
    "start = Sys.time()\n",
    "samples <- as_tibble(integrationCurator::OmicsQueriesApi_search_samples(\n",
    "    study_filter='genestack:accession=GSF535886',\n",
    "    sample_filter='\"Species Or Strain\"=\"British\" OR \"Species Or Strain\"=\"Finnish\"',\n",
    "    vx_query='VariationId=rs17007017 AllelesNumber=1'\n",
    ")$content$data[['metadata']])\n",
    "cat(sprintf('Time to get %s samples: %s seconds\\n\\n', nrow(samples), round(Sys.time()-start)))\n",
    "\n",
    "head(samples[,c('genestack:accession', 'Sample Source ID', 'Species Or Strain')])"
   ]
  },
  {
   "cell_type": "markdown",
   "metadata": {},
   "source": [
    "### Get individuals filtered by expression values"
   ]
  },
  {
   "cell_type": "code",
   "execution_count": 4,
   "metadata": {},
   "outputs": [
    {
     "name": "stdout",
     "output_type": "stream",
     "text": [
      "Time to get 157 samples: 0 seconds\n",
      "\n"
     ]
    },
    {
     "data": {
      "text/html": [
       "<table>\n",
       "<thead><tr><th scope=col>genestack:accession</th><th scope=col>Sample Source ID</th><th scope=col>Species Or Strain</th></tr></thead>\n",
       "<tbody>\n",
       "\t<tr><td>GSF535900</td><td>HG00111  </td><td>British  </td></tr>\n",
       "\t<tr><td>GSF535899</td><td>HG00110  </td><td>British  </td></tr>\n",
       "\t<tr><td>GSF535901</td><td>HG00112  </td><td>British  </td></tr>\n",
       "\t<tr><td>GSF535896</td><td>HG00106  </td><td>British  </td></tr>\n",
       "\t<tr><td>GSF535895</td><td>HG00104  </td><td>British  </td></tr>\n",
       "\t<tr><td>GSF535898</td><td>HG00109  </td><td>British  </td></tr>\n",
       "</tbody>\n",
       "</table>\n"
      ],
      "text/latex": [
       "\\begin{tabular}{r|lll}\n",
       " genestack:accession & Sample Source ID & Species Or Strain\\\\\n",
       "\\hline\n",
       "\t GSF535900 & HG00111   & British  \\\\\n",
       "\t GSF535899 & HG00110   & British  \\\\\n",
       "\t GSF535901 & HG00112   & British  \\\\\n",
       "\t GSF535896 & HG00106   & British  \\\\\n",
       "\t GSF535895 & HG00104   & British  \\\\\n",
       "\t GSF535898 & HG00109   & British  \\\\\n",
       "\\end{tabular}\n"
      ],
      "text/markdown": [
       "\n",
       "| genestack:accession | Sample Source ID | Species Or Strain |\n",
       "|---|---|---|\n",
       "| GSF535900 | HG00111   | British   |\n",
       "| GSF535899 | HG00110   | British   |\n",
       "| GSF535901 | HG00112   | British   |\n",
       "| GSF535896 | HG00106   | British   |\n",
       "| GSF535895 | HG00104   | British   |\n",
       "| GSF535898 | HG00109   | British   |\n",
       "\n"
      ],
      "text/plain": [
       "  genestack:accession Sample Source ID Species Or Strain\n",
       "1 GSF535900           HG00111          British          \n",
       "2 GSF535899           HG00110          British          \n",
       "3 GSF535901           HG00112          British          \n",
       "4 GSF535896           HG00106          British          \n",
       "5 GSF535895           HG00104          British          \n",
       "6 GSF535898           HG00109          British          "
      ]
     },
     "metadata": {},
     "output_type": "display_data"
    }
   ],
   "source": [
    "start = Sys.time()\n",
    "samples <- as_tibble(integrationCurator::OmicsQueriesApi_search_samples(\n",
    "    study_filter='genestack:accession=GSF535886',\n",
    "    sample_filter='\"Species Or Strain\"=\"British\" OR \"Species Or Strain\"=\"Finnish\"',\n",
    "    ex_query='Gene=ENSG00000109445 MinValue=40'\n",
    ")$content$data[['metadata']])\n",
    "cat(sprintf('Time to get %s samples: %s seconds\\n\\n', nrow(samples), round(Sys.time()-start)))\n",
    "\n",
    "head(samples[,c('genestack:accession', 'Sample Source ID', 'Species Or Strain')])"
   ]
  },
  {
   "cell_type": "markdown",
   "metadata": {},
   "source": [
    "### Get individuals filtered by genotypes and expression values"
   ]
  },
  {
   "cell_type": "code",
   "execution_count": 5,
   "metadata": {},
   "outputs": [
    {
     "name": "stdout",
     "output_type": "stream",
     "text": [
      "Time to get 61 samples: 0 seconds\n",
      "\n"
     ]
    },
    {
     "data": {
      "text/html": [
       "<table>\n",
       "<thead><tr><th scope=col>genestack:accession</th><th scope=col>Sample Source ID</th><th scope=col>Species Or Strain</th></tr></thead>\n",
       "<tbody>\n",
       "\t<tr><td>GSF536014</td><td>HG00312  </td><td>Finnish  </td></tr>\n",
       "\t<tr><td>GSF536004</td><td>HG00278  </td><td>Finnish  </td></tr>\n",
       "\t<tr><td>GSF536003</td><td>HG00277  </td><td>Finnish  </td></tr>\n",
       "\t<tr><td>GSF536000</td><td>HG00274  </td><td>Finnish  </td></tr>\n",
       "\t<tr><td>GSF536001</td><td>HG00275  </td><td>Finnish  </td></tr>\n",
       "\t<tr><td>GSF535900</td><td>HG00111  </td><td>British  </td></tr>\n",
       "</tbody>\n",
       "</table>\n"
      ],
      "text/latex": [
       "\\begin{tabular}{r|lll}\n",
       " genestack:accession & Sample Source ID & Species Or Strain\\\\\n",
       "\\hline\n",
       "\t GSF536014 & HG00312   & Finnish  \\\\\n",
       "\t GSF536004 & HG00278   & Finnish  \\\\\n",
       "\t GSF536003 & HG00277   & Finnish  \\\\\n",
       "\t GSF536000 & HG00274   & Finnish  \\\\\n",
       "\t GSF536001 & HG00275   & Finnish  \\\\\n",
       "\t GSF535900 & HG00111   & British  \\\\\n",
       "\\end{tabular}\n"
      ],
      "text/markdown": [
       "\n",
       "| genestack:accession | Sample Source ID | Species Or Strain |\n",
       "|---|---|---|\n",
       "| GSF536014 | HG00312   | Finnish   |\n",
       "| GSF536004 | HG00278   | Finnish   |\n",
       "| GSF536003 | HG00277   | Finnish   |\n",
       "| GSF536000 | HG00274   | Finnish   |\n",
       "| GSF536001 | HG00275   | Finnish   |\n",
       "| GSF535900 | HG00111   | British   |\n",
       "\n"
      ],
      "text/plain": [
       "  genestack:accession Sample Source ID Species Or Strain\n",
       "1 GSF536014           HG00312          Finnish          \n",
       "2 GSF536004           HG00278          Finnish          \n",
       "3 GSF536003           HG00277          Finnish          \n",
       "4 GSF536000           HG00274          Finnish          \n",
       "5 GSF536001           HG00275          Finnish          \n",
       "6 GSF535900           HG00111          British          "
      ]
     },
     "metadata": {},
     "output_type": "display_data"
    }
   ],
   "source": [
    "start = Sys.time()\n",
    "samples <- as_tibble(integrationCurator::OmicsQueriesApi_search_samples(\n",
    "    study_filter='genestack:accession=GSF535886',\n",
    "    sample_filter='\"Species Or Strain\"=\"British\" OR \"Species Or Strain\"=\"Finnish\"',\n",
    "    vx_query='VariationId=rs17007017 AllelesNumber=1',\n",
    "    ex_query='Gene=ENSG00000109445 MinValue=40'\n",
    ")$content$data[['metadata']])\n",
    "cat(sprintf('Time to get %s samples: %s seconds\\n\\n', nrow(samples), round(Sys.time()-start)))\n",
    "\n",
    "head(samples[,c('genestack:accession', 'Sample Source ID', 'Species Or Strain')])"
   ]
  },
  {
   "cell_type": "code",
   "execution_count": null,
   "metadata": {},
   "outputs": [],
   "source": []
  }
 ],
 "metadata": {
  "kernelspec": {
   "display_name": "R",
   "language": "R",
   "name": "ir"
  },
  "language_info": {
   "codemirror_mode": "r",
   "file_extension": ".r",
   "mimetype": "text/x-r-source",
   "name": "R",
   "pygments_lexer": "r",
   "version": "3.6.1"
  }
 },
 "nbformat": 4,
 "nbformat_minor": 4
}
