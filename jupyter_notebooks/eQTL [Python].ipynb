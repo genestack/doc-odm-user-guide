{
 "cells": [
  {
   "cell_type": "markdown",
   "metadata": {},
   "source": [
    "# Using Genestack Omics APIs for eQTL analysis"
   ]
  },
  {
   "cell_type": "markdown",
   "metadata": {},
   "source": [
    "### 1. Connect to the instance"
   ]
  },
  {
   "cell_type": "code",
   "execution_count": 1,
   "metadata": {},
   "outputs": [],
   "source": [
    "import pandas as pd\n",
    "import matplotlib.pyplot as plt\n",
    "import os, time\n",
    "import integration_curator # Genestack client library\n",
    "\n",
    "os.environ['PRED_SPOT_HOST'] = 'occam.genestack.com'\n",
    "os.environ['PRED_SPOT_TOKEN'] = '<token>'\n",
    "os.environ['PRED_SPOT_VERSION'] = 'default-released'\n",
    "\n",
    "omics_api = integration_curator.OmicsQueriesApi()"
   ]
  },
  {
   "cell_type": "markdown",
   "metadata": {},
   "source": [
    "### 2. Get samples"
   ]
  },
  {
   "cell_type": "code",
   "execution_count": 2,
   "metadata": {},
   "outputs": [
    {
     "name": "stdout",
     "output_type": "stream",
     "text": [
      "Time to get 182 samples: 0 seconds\n",
      "\n"
     ]
    },
    {
     "data": {
      "text/html": [
       "<div>\n",
       "<style scoped>\n",
       "    .dataframe tbody tr th:only-of-type {\n",
       "        vertical-align: middle;\n",
       "    }\n",
       "\n",
       "    .dataframe tbody tr th {\n",
       "        vertical-align: top;\n",
       "    }\n",
       "\n",
       "    .dataframe thead th {\n",
       "        text-align: right;\n",
       "    }\n",
       "</style>\n",
       "<table border=\"1\" class=\"dataframe\">\n",
       "  <thead>\n",
       "    <tr style=\"text-align: right;\">\n",
       "      <th></th>\n",
       "      <th>genestack:accession</th>\n",
       "      <th>Species Or Strain</th>\n",
       "    </tr>\n",
       "  </thead>\n",
       "  <tbody>\n",
       "    <tr>\n",
       "      <th>0</th>\n",
       "      <td>GSF535900</td>\n",
       "      <td>British</td>\n",
       "    </tr>\n",
       "    <tr>\n",
       "      <th>1</th>\n",
       "      <td>GSF535899</td>\n",
       "      <td>British</td>\n",
       "    </tr>\n",
       "    <tr>\n",
       "      <th>2</th>\n",
       "      <td>GSF535902</td>\n",
       "      <td>British</td>\n",
       "    </tr>\n",
       "    <tr>\n",
       "      <th>3</th>\n",
       "      <td>GSF535901</td>\n",
       "      <td>British</td>\n",
       "    </tr>\n",
       "    <tr>\n",
       "      <th>4</th>\n",
       "      <td>GSF535896</td>\n",
       "      <td>British</td>\n",
       "    </tr>\n",
       "  </tbody>\n",
       "</table>\n",
       "</div>"
      ],
      "text/plain": [
       "  genestack:accession Species Or Strain\n",
       "0           GSF535900           British\n",
       "1           GSF535899           British\n",
       "2           GSF535902           British\n",
       "3           GSF535901           British\n",
       "4           GSF535896           British"
      ]
     },
     "execution_count": 2,
     "metadata": {},
     "output_type": "execute_result"
    }
   ],
   "source": [
    "study_filter = 'genestack:accession=GSF535886'\n",
    "sample_filter = ' OR '.join(['\"Species Or Strain\"=\"%s\"' % x \n",
    "                             for x in ['British', 'Finnish']])\n",
    "\n",
    "start = time.time()\n",
    "data = omics_api.search_samples(\n",
    "    study_filter=study_filter, \n",
    "    sample_filter=sample_filter\n",
    ")\n",
    "samples = pd.DataFrame.from_dict([item['metadata'] for item in data.data])\n",
    "print('Time to get %s samples: %i seconds\\n' % (samples.shape[0], time.time()-start))\n",
    "\n",
    "samples[['genestack:accession', \"Species Or Strain\"]].head()"
   ]
  },
  {
   "cell_type": "markdown",
   "metadata": {},
   "source": [
    "### 3. Get genotypes"
   ]
  },
  {
   "cell_type": "code",
   "execution_count": 3,
   "metadata": {},
   "outputs": [
    {
     "name": "stdout",
     "output_type": "stream",
     "text": [
      "Time to get 181 genotypes: 4 seconds\n",
      "\n"
     ]
    },
    {
     "data": {
      "text/html": [
       "<div>\n",
       "<style scoped>\n",
       "    .dataframe tbody tr th:only-of-type {\n",
       "        vertical-align: middle;\n",
       "    }\n",
       "\n",
       "    .dataframe tbody tr th {\n",
       "        vertical-align: top;\n",
       "    }\n",
       "\n",
       "    .dataframe thead th {\n",
       "        text-align: right;\n",
       "    }\n",
       "</style>\n",
       "<table border=\"1\" class=\"dataframe\">\n",
       "  <thead>\n",
       "    <tr style=\"text-align: right;\">\n",
       "      <th></th>\n",
       "      <th>genestack:accession</th>\n",
       "      <th>genotype</th>\n",
       "    </tr>\n",
       "  </thead>\n",
       "  <tbody>\n",
       "    <tr>\n",
       "      <th>0</th>\n",
       "      <td>GSF535888</td>\n",
       "      <td>1|0</td>\n",
       "    </tr>\n",
       "    <tr>\n",
       "      <th>1</th>\n",
       "      <td>GSF535889</td>\n",
       "      <td>0|0</td>\n",
       "    </tr>\n",
       "    <tr>\n",
       "      <th>2</th>\n",
       "      <td>GSF535890</td>\n",
       "      <td>1|0</td>\n",
       "    </tr>\n",
       "    <tr>\n",
       "      <th>3</th>\n",
       "      <td>GSF535891</td>\n",
       "      <td>1|0</td>\n",
       "    </tr>\n",
       "    <tr>\n",
       "      <th>4</th>\n",
       "      <td>GSF535892</td>\n",
       "      <td>0|0</td>\n",
       "    </tr>\n",
       "  </tbody>\n",
       "</table>\n",
       "</div>"
      ],
      "text/plain": [
       "  genestack:accession genotype\n",
       "0           GSF535888      1|0\n",
       "1           GSF535889      0|0\n",
       "2           GSF535890      1|0\n",
       "3           GSF535891      1|0\n",
       "4           GSF535892      0|0"
      ]
     },
     "execution_count": 3,
     "metadata": {},
     "output_type": "execute_result"
    }
   ],
   "source": [
    "variant = 'rs17007017'\n",
    "vx_query = 'VariationId=%s' % variant\n",
    "\n",
    "start = time.time()\n",
    "data = omics_api.search_variant_data(\n",
    "    study_filter=study_filter,\n",
    "    sample_filter=sample_filter,\n",
    "    vx_query=vx_query\n",
    ")\n",
    "def normalise_genotype(gt): return '1|0' if gt == '0|1' else gt\n",
    "genotypes = pd.DataFrame.from_dict({'genestack:accession': item['relationships']['sample'], \n",
    "                                      'genotype': normalise_genotype(item['genotype']['GT'])} \n",
    "                                   for item in data.data)\n",
    "print('Time to get %s genotypes: %i seconds\\n' % (genotypes.shape[0], time.time()-start))\n",
    "\n",
    "genotypes.head()"
   ]
  },
  {
   "cell_type": "markdown",
   "metadata": {},
   "source": [
    "### 4. Get expression data"
   ]
  },
  {
   "cell_type": "code",
   "execution_count": 4,
   "metadata": {},
   "outputs": [
    {
     "name": "stdout",
     "output_type": "stream",
     "text": [
      "Time to get 174 expression values: 0 seconds\n",
      "\n"
     ]
    },
    {
     "data": {
      "text/html": [
       "<div>\n",
       "<style scoped>\n",
       "    .dataframe tbody tr th:only-of-type {\n",
       "        vertical-align: middle;\n",
       "    }\n",
       "\n",
       "    .dataframe tbody tr th {\n",
       "        vertical-align: top;\n",
       "    }\n",
       "\n",
       "    .dataframe thead th {\n",
       "        text-align: right;\n",
       "    }\n",
       "</style>\n",
       "<table border=\"1\" class=\"dataframe\">\n",
       "  <thead>\n",
       "    <tr style=\"text-align: right;\">\n",
       "      <th></th>\n",
       "      <th>genestack:accession</th>\n",
       "      <th>expression</th>\n",
       "    </tr>\n",
       "  </thead>\n",
       "  <tbody>\n",
       "    <tr>\n",
       "      <th>0</th>\n",
       "      <td>GSF535888</td>\n",
       "      <td>49.420401</td>\n",
       "    </tr>\n",
       "    <tr>\n",
       "      <th>1</th>\n",
       "      <td>GSF535889</td>\n",
       "      <td>40.241646</td>\n",
       "    </tr>\n",
       "    <tr>\n",
       "      <th>2</th>\n",
       "      <td>GSF535890</td>\n",
       "      <td>34.086207</td>\n",
       "    </tr>\n",
       "    <tr>\n",
       "      <th>3</th>\n",
       "      <td>GSF535891</td>\n",
       "      <td>50.219211</td>\n",
       "    </tr>\n",
       "    <tr>\n",
       "      <th>4</th>\n",
       "      <td>GSF535892</td>\n",
       "      <td>59.593219</td>\n",
       "    </tr>\n",
       "  </tbody>\n",
       "</table>\n",
       "</div>"
      ],
      "text/plain": [
       "  genestack:accession  expression\n",
       "0           GSF535888   49.420401\n",
       "1           GSF535889   40.241646\n",
       "2           GSF535890   34.086207\n",
       "3           GSF535891   50.219211\n",
       "4           GSF535892   59.593219"
      ]
     },
     "execution_count": 4,
     "metadata": {},
     "output_type": "execute_result"
    }
   ],
   "source": [
    "gene = 'ENSG00000109445'\n",
    "ex_query = 'Gene=%s MinValue=0.0' % gene\n",
    "\n",
    "start = time.time()\n",
    "data = omics_api.search_expression_data(\n",
    "    study_filter=study_filter,\n",
    "    sample_filter=sample_filter,\n",
    "    ex_query=ex_query\n",
    ")\n",
    "expressions = pd.DataFrame.from_dict({'genestack:accession': item['relationships']['sample'], \n",
    "                                      'expression': item['expression']} for item in data.data)\n",
    "print('Time to get %s expression values: %i seconds\\n' % (expressions.shape[0], time.time()-start))\n",
    "\n",
    "expressions.head()"
   ]
  },
  {
   "cell_type": "markdown",
   "metadata": {},
   "source": [
    "### 5. eQTL plot"
   ]
  },
  {
   "cell_type": "code",
   "execution_count": 5,
   "metadata": {},
   "outputs": [
    {
     "data": {
      "image/png": "[encoded data removed]",
      "text/plain": [
       "<Figure size 720x360 with 1 Axes>"
      ]
     },
     "metadata": {
      "needs_background": "light"
     },
     "output_type": "display_data"
    }
   ],
   "source": [
    "combined_data = pd.merge(samples, pd.merge(genotypes, expressions))\n",
    "combined_data.boxplot('expression', 'genotype', rot=0, figsize=(10,5))\n",
    "plt.title('Expression of gene %s' % gene)\n",
    "x = plt.suptitle('')"
   ]
  }
 ],
 "metadata": {
  "kernelspec": {
   "display_name": "Python 3",
   "language": "python",
   "name": "python3"
  },
  "language_info": {
   "codemirror_mode": {
    "name": "ipython",
    "version": 3
   },
   "file_extension": ".py",
   "mimetype": "text/x-python",
   "name": "python",
   "nbconvert_exporter": "python",
   "pygments_lexer": "ipython3",
   "version": "3.7.5"
  }
 },
 "nbformat": 4,
 "nbformat_minor": 4
}
