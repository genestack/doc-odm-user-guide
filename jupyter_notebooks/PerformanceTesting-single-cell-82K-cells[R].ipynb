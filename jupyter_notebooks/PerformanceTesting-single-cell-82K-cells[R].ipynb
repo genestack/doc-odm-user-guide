{
 "cells": [
  {
   "cell_type": "markdown",
   "metadata": {},
   "source": [
    "<h1><b>Compare performance between omics/expression/data and omics/expression/streamed-data demo: single-cell-82K-cells</b></h1>\n",
    "    \n",
    "1. Dataset: <a href=\"https://www.ncbi.nlm.nih.gov/geo/query/acc.cgi?acc=GSE134809\">GSE134809</a>\n",
    "2. Paper: Martin et al. <a href=\"https://pubmed.ncbi.nlm.nih.gov/31474370/\">\"Single-Cell Analysis of Crohn’s Disease Lesions Identifies a Pathogenic Cellular Module Associated with Resistance to Anti-TNF Therapy\"</a>, 2019.\n",
    "3. Size: 82,417 lamina propria cells from 22 paired inflamed and uninflamed ileum tissues of 11 iCD patients\n",
    "\n",
    "[Note]: The streaming endpoint \"omics/expression/streamed-data\" only exports \"source.ID\" and expression value. Thus, we need to attached relevant expression metadata (and sample metadata if needed) using the \"source.ID\" which consists of both sample-level ID and cell-level barcodes.\n",
    "    "
   ]
  },
  {
   "cell_type": "markdown",
   "metadata": {},
   "source": [
    "<h2><b>Set instance and token</b></h2>"
   ]
  },
  {
   "cell_type": "code",
   "execution_count": 1,
   "metadata": {},
   "outputs": [],
   "source": [
    "suppressMessages(library(tidyverse))\n",
    "suppressMessages(library(data.table))\n",
    "library(httr)\n",
    "suppressMessages(library(jsonlite))\n",
    "library(integrationCurator) # Genestack client library\n",
    "\n",
    "\n",
    "PRED_SPOT_HOST='inc-stage.genestack.com'\n",
    "PRED_SPOT_TOKEN='tknRoot' \n",
    "PRED_SPOT_VERSION='v0.1'\n",
    "BASE_URL = 'frontend/rs/genestack' \n",
    "API_VERSION = 'v0.1'\n",
    "page_limit = 2000\n",
    "\n",
    "Sys.setenv(PRED_SPOT_HOST=PRED_SPOT_HOST,\n",
    "           PRED_SPOT_TOKEN=PRED_SPOT_TOKEN,\n",
    "           PRED_SPOT_VERSION=PRED_SPOT_VERSION)"
   ]
  },
  {
   "cell_type": "markdown",
   "metadata": {},
   "source": [
    "<h2><b>Get parameters</b></h2>"
   ]
  },
  {
   "cell_type": "code",
   "execution_count": 2,
   "metadata": {},
   "outputs": [],
   "source": [
    "studyID = 'GSF456605'\n",
    "study_filter = sprintf('\"%s\"=\"%s\"', 'genestack:accession', studyID)\n",
    "\n",
    "tissue_filter = sprintf('\"%s\"=\"%s\"', 'status.ch1', 'Involved')\n",
    "patient_filter_pos = sprintf('\"%s\"=\"%s\"', 'Patient Status', 'GIMATS+')\n",
    "patient_filter_neg = sprintf('\"%s\"=\"%s\"', 'Patient Status', 'GIMATS-')\n",
    "sample_filter = sprintf('%s AND (%s OR %s)', tissue_filter, patient_filter_pos, patient_filter_neg)\n",
    "\n",
    "gene = 'TNF'\n",
    "expression_filter = sprintf('Gene=%s MinValue=0', gene)"
   ]
  },
  {
   "cell_type": "markdown",
   "metadata": {},
   "source": [
    "<h2><b>Get expression data</b></h2>"
   ]
  },
  {
   "cell_type": "markdown",
   "metadata": {},
   "source": [
    "<h3><b>Non-streaming data</b></h3>"
   ]
  },
  {
   "cell_type": "code",
   "execution_count": 3,
   "metadata": {},
   "outputs": [
    {
     "name": "stdout",
     "output_type": "stream",
     "text": [
      "Time to get 1791 expression values: 5 seconds\n",
      "\n",
      "tibble [1,791 × 14] (S3: tbl_df/tbl/data.frame)\n",
      " $ itemId                        : chr [1:1791] \"777059-TNF\" \"777065-TNF\" \"777086-TNF\" \"777124-TNF\" ...\n",
      " $ metadata.Experimental Platform: chr [1:1791] \"val2\" \"val2\" \"val2\" \"val2\" ...\n",
      " $ metadata.Expression Source    : chr [1:1791] \"val1\" \"val1\" \"val1\" \"val1\" ...\n",
      " $ metadata.Arvados URL          : chr [1:1791] \"https://arvados.inc-s.genestack.com/collections/41y7k-4zz18-tuxuo2ztf0ycn4y/GSE134809.mex\" \"https://arvados.inc-s.genestack.com/collections/41y7k-4zz18-tuxuo2ztf0ycn4y/GSE134809.mex\" \"https://arvados.inc-s.genestack.com/collections/41y7k-4zz18-tuxuo2ztf0ycn4y/GSE134809.mex\" \"https://arvados.inc-s.genestack.com/collections/41y7k-4zz18-tuxuo2ztf0ycn4y/GSE134809.mex\" ...\n",
      " $ metadata.Genome Version       : chr [1:1791] \"val5\" \"val5\" \"val5\" \"val5\" ...\n",
      " $ metadata.Scale                : chr [1:1791] \"val4\" \"val4\" \"val4\" \"val4\" ...\n",
      " $ metadata.Normalization Method : chr [1:1791] \"val3\" \"val3\" \"val3\" \"val3\" ...\n",
      " $ metadata.Run Source ID        : chr [1:1791] \"69/69-AAGTATACAGAAGT-1\" \"69/69-AAGTGCACTGACTG-1\" \"69/69-AATCAAACGGCAAG-1\" \"69/69-ACAACCGACTGACA-1\" ...\n",
      " $ runId                         : chr [1:1791] \"777059\" \"777065\" \"777086\" \"777124\" ...\n",
      " $ groupId                       : chr [1:1791] \"GSF456652\" \"GSF456652\" \"GSF456652\" \"GSF456652\" ...\n",
      " $ gene                          : chr [1:1791] \"TNF\" \"TNF\" \"TNF\" \"TNF\" ...\n",
      " $ expression                    : num [1:1791] 1 1 1 1 1 1 1 3 1 3 ...\n",
      " $ relationships.sample          : chr [1:1791] \"GSF456608\" \"GSF456608\" \"GSF456608\" \"GSF456608\" ...\n",
      " $ relationships.cell            : chr [1:1791] \"777059-cell\" \"777065-cell\" \"777086-cell\" \"777124-cell\" ...\n"
     ]
    }
   ],
   "source": [
    "start = Sys.time()\n",
    "\n",
    "expressions = as_tibble(do.call(cbind, OmicsQueriesApi_search_expression_data(\n",
    "    study_filter = study_filter,\n",
    "    sample_filter = sample_filter,\n",
    "    ex_query = expression_filter,\n",
    "    page_limit = page_limit\n",
    ")$content$data))\n",
    "\n",
    "end = Sys.time()\n",
    "\n",
    "cat(sprintf('Time to get %s expression values: %s seconds\\n\\n', \n",
    "    nrow(expressions), round(end-start)))\n",
    "\n",
    "str(expressions)\n"
   ]
  },
  {
   "cell_type": "markdown",
   "metadata": {},
   "source": [
    "<h3><b>Streaming data</b></h3>"
   ]
  },
  {
   "cell_type": "code",
   "execution_count": 4,
   "metadata": {},
   "outputs": [
    {
     "name": "stdout",
     "output_type": "stream",
     "text": [
      "Time to get 1791 expression values: 3 seconds\n",
      "\n",
      "tibble [1,791 × 10] (S3: tbl_df/tbl/data.frame)\n",
      " $ gene                          : chr [1:1791] \"TNF\" \"TNF\" \"TNF\" \"TNF\" ...\n",
      " $ metadata.Run Source ID        : chr [1:1791] \"128/128-AAAGTAGGTTCGAATC-1\" \"128/128-AACTCCCAGAGAGCTC-1\" \"128/128-AACTCCCGTCTAGCCG-1\" \"128/128-AACTCCCTCGAACTGT-1\" ...\n",
      " $ expression                    : num [1:1791] 4 1 9 3 1 12 2 8 1 1 ...\n",
      " $ metadata.Experimental Platform: chr [1:1791] \"val2\" \"val2\" \"val2\" \"val2\" ...\n",
      " $ metadata.Expression Source    : chr [1:1791] \"val1\" \"val1\" \"val1\" \"val1\" ...\n",
      " $ metadata.Arvados URL          : chr [1:1791] \"https://arvados.inc-s.genestack.com/collections/41y7k-4zz18-tuxuo2ztf0ycn4y/GSE134809.mex\" \"https://arvados.inc-s.genestack.com/collections/41y7k-4zz18-tuxuo2ztf0ycn4y/GSE134809.mex\" \"https://arvados.inc-s.genestack.com/collections/41y7k-4zz18-tuxuo2ztf0ycn4y/GSE134809.mex\" \"https://arvados.inc-s.genestack.com/collections/41y7k-4zz18-tuxuo2ztf0ycn4y/GSE134809.mex\" ...\n",
      " $ metadata.Genome Version       : chr [1:1791] \"val5\" \"val5\" \"val5\" \"val5\" ...\n",
      " $ metadata.Scale                : chr [1:1791] \"val4\" \"val4\" \"val4\" \"val4\" ...\n",
      " $ metadata.Normalization Method : chr [1:1791] \"val3\" \"val3\" \"val3\" \"val3\" ...\n",
      " $ groupId                       : chr [1:1791] \"GSF456652\" \"GSF456652\" \"GSF456652\" \"GSF456652\" ...\n"
     ]
    }
   ],
   "source": [
    "start_streaming = Sys.time()\n",
    "\n",
    "#Get group accession\n",
    "group_calls = as_tibble(ExpressionIntegrationApi_get_parents_by_study(id=studyID)$content)\n",
    "\n",
    "group_accession = group_calls$itemId\n",
    "\n",
    "group_meta = group_calls$metadata %>%\n",
    "              rename_all(function(x) paste0(\"metadata.\", x)) %>%\n",
    "              mutate(groupId = group_accession)\n",
    "                         \n",
    "#Get expression data\n",
    "expressions_streaming = httr::GET(sprintf('https://%s/%s/integrationCurator/%s/omics/expression/streamed-data', PRED_SPOT_HOST, BASE_URL, API_VERSION),\n",
    "            add_headers(accept = \"gzip\", `Genestack-API-Token` = PRED_SPOT_TOKEN), \n",
    "            query = list(\n",
    "                groupAccession = group_accession,\n",
    "                sampleFilter = sample_filter,\n",
    "                featureList = gene\n",
    "            ))$content  \n",
    "                         \n",
    "streaming_data_processed = as_tibble(fread(rawToChar(expressions_streaming), showProgress=FALSE)) %>%\n",
    "               gather(key = \"source.ID\", value = \"expression\", -NAME) %>%\n",
    "               subset(!is.na(expression)) %>%\n",
    "               add_column(group_meta) %>%\n",
    "               rename(`metadata.Run Source ID`= source.ID, gene=NAME) %>%\n",
    "               mutate(`metadata.Run Source ID`=gsub(\".\", \"-\",`metadata.Run Source ID`, fixed = T))\n",
    "\n",
    "end_streaming = Sys.time()\n",
    "                         \n",
    "cat(sprintf('Time to get %s expression values: %s seconds\\n\\n', \n",
    "    nrow(streaming_data_processed), round(end_streaming-start_streaming)))\n",
    "                                          \n",
    "str(streaming_data_processed)   \n",
    "                         "
   ]
  },
  {
   "cell_type": "markdown",
   "metadata": {},
   "source": [
    "<h2><b>Compare outputs from two endpoints</b></h2>"
   ]
  },
  {
   "cell_type": "code",
   "execution_count": 5,
   "metadata": {},
   "outputs": [
    {
     "data": {
      "text/html": [
       "<table>\n",
       "<caption>A data.frame: 14 × 3</caption>\n",
       "<thead>\n",
       "\t<tr><th scope=col>column_name</th><th scope=col>expressions</th><th scope=col>streaming_data_processed</th></tr>\n",
       "\t<tr><th scope=col>&lt;chr&gt;</th><th scope=col>&lt;chr&gt;</th><th scope=col>&lt;chr&gt;</th></tr>\n",
       "</thead>\n",
       "<tbody>\n",
       "\t<tr><td>expression                    </td><td>numeric  </td><td>numeric  </td></tr>\n",
       "\t<tr><td>gene                          </td><td>character</td><td>character</td></tr>\n",
       "\t<tr><td>groupId                       </td><td>character</td><td>character</td></tr>\n",
       "\t<tr><td>itemId                        </td><td>character</td><td>NA       </td></tr>\n",
       "\t<tr><td>metadata.Arvados URL          </td><td>character</td><td>character</td></tr>\n",
       "\t<tr><td>metadata.Experimental Platform</td><td>character</td><td>character</td></tr>\n",
       "\t<tr><td>metadata.Expression Source    </td><td>character</td><td>character</td></tr>\n",
       "\t<tr><td>metadata.Genome Version       </td><td>character</td><td>character</td></tr>\n",
       "\t<tr><td>metadata.Normalization Method </td><td>character</td><td>character</td></tr>\n",
       "\t<tr><td>metadata.Run Source ID        </td><td>character</td><td>character</td></tr>\n",
       "\t<tr><td>metadata.Scale                </td><td>character</td><td>character</td></tr>\n",
       "\t<tr><td>relationships.cell            </td><td>character</td><td>NA       </td></tr>\n",
       "\t<tr><td>relationships.sample          </td><td>character</td><td>NA       </td></tr>\n",
       "\t<tr><td>runId                         </td><td>character</td><td>NA       </td></tr>\n",
       "</tbody>\n",
       "</table>\n"
      ],
      "text/latex": [
       "A data.frame: 14 × 3\n",
       "\\begin{tabular}{lll}\n",
       " column\\_name & expressions & streaming\\_data\\_processed\\\\\n",
       " <chr> & <chr> & <chr>\\\\\n",
       "\\hline\n",
       "\t expression                     & numeric   & numeric  \\\\\n",
       "\t gene                           & character & character\\\\\n",
       "\t groupId                        & character & character\\\\\n",
       "\t itemId                         & character & NA       \\\\\n",
       "\t metadata.Arvados URL           & character & character\\\\\n",
       "\t metadata.Experimental Platform & character & character\\\\\n",
       "\t metadata.Expression Source     & character & character\\\\\n",
       "\t metadata.Genome Version        & character & character\\\\\n",
       "\t metadata.Normalization Method  & character & character\\\\\n",
       "\t metadata.Run Source ID         & character & character\\\\\n",
       "\t metadata.Scale                 & character & character\\\\\n",
       "\t relationships.cell             & character & NA       \\\\\n",
       "\t relationships.sample           & character & NA       \\\\\n",
       "\t runId                          & character & NA       \\\\\n",
       "\\end{tabular}\n"
      ],
      "text/markdown": [
       "\n",
       "A data.frame: 14 × 3\n",
       "\n",
       "| column_name &lt;chr&gt; | expressions &lt;chr&gt; | streaming_data_processed &lt;chr&gt; |\n",
       "|---|---|---|\n",
       "| expression                     | numeric   | numeric   |\n",
       "| gene                           | character | character |\n",
       "| groupId                        | character | character |\n",
       "| itemId                         | character | NA        |\n",
       "| metadata.Arvados URL           | character | character |\n",
       "| metadata.Experimental Platform | character | character |\n",
       "| metadata.Expression Source     | character | character |\n",
       "| metadata.Genome Version        | character | character |\n",
       "| metadata.Normalization Method  | character | character |\n",
       "| metadata.Run Source ID         | character | character |\n",
       "| metadata.Scale                 | character | character |\n",
       "| relationships.cell             | character | NA        |\n",
       "| relationships.sample           | character | NA        |\n",
       "| runId                          | character | NA        |\n",
       "\n"
      ],
      "text/plain": [
       "   column_name                    expressions streaming_data_processed\n",
       "1  expression                     numeric     numeric                 \n",
       "2  gene                           character   character               \n",
       "3  groupId                        character   character               \n",
       "4  itemId                         character   NA                      \n",
       "5  metadata.Arvados URL           character   character               \n",
       "6  metadata.Experimental Platform character   character               \n",
       "7  metadata.Expression Source     character   character               \n",
       "8  metadata.Genome Version        character   character               \n",
       "9  metadata.Normalization Method  character   character               \n",
       "10 metadata.Run Source ID         character   character               \n",
       "11 metadata.Scale                 character   character               \n",
       "12 relationships.cell             character   NA                      \n",
       "13 relationships.sample           character   NA                      \n",
       "14 runId                          character   NA                      "
      ]
     },
     "metadata": {},
     "output_type": "display_data"
    }
   ],
   "source": [
    "suppressMessages(library(janitor))\n",
    "compare_df_cols(expressions, streaming_data_processed)\n"
   ]
  }
 ],
 "metadata": {
  "kernelspec": {
   "display_name": "R",
   "language": "R",
   "name": "ir"
  },
  "language_info": {
   "codemirror_mode": "r",
   "file_extension": ".r",
   "mimetype": "text/x-r-source",
   "name": "R",
   "pygments_lexer": "r",
   "version": "4.0.2"
  }
 },
 "nbformat": 4,
 "nbformat_minor": 4
}
