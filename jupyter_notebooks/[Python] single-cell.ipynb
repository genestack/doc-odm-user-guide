{
 "cells": [
  {
   "cell_type": "markdown",
   "metadata": {},
   "source": [
    "# Using Genestack Omics APIs for single-cell analysis\n",
    "\n",
    "This notebook demonstrates the scalability of the Omics APIs in querying and getting thousands of single-cell samples and expression values.\n",
    "\n",
    "The dataset used is [GSE120575](https://www.ncbi.nlm.nih.gov/geo/query/acc.cgi?acc=GSE120575), from Sade-Feldman et al., [\"Defining T Cell States Associated with Response to Checkpoint Immunotherapy in Melanoma\"](https://www.ncbi.nlm.nih.gov/pubmed/30388456), 2018. It has **16,291 individual immune cells from 48 tumor samples** of melanoma patients treated with checkpoint inhibitors.\n",
    "\n",
    "Example queries are provided to get:\n",
    "- A subset of samples that correspond to CD8+ cells (**8,331 samples**)\n",
    "- The expression values of the gene TCF7 across CD8+ cells\n",
    "\n",
    "Two plots are produced:\n",
    "- The expression distribution of TCF7 across CD8+ cells\n",
    "- The association of patient response with TCF7 expression among CD8+ cells"
   ]
  },
  {
   "cell_type": "markdown",
   "metadata": {},
   "source": [
    "### 1. Connect to the instance"
   ]
  },
  {
   "cell_type": "code",
   "execution_count": 1,
   "metadata": {},
   "outputs": [],
   "source": [
    "import pandas as pd\n",
    "import matplotlib.pyplot as plt\n",
    "import os, time\n",
    "# Genestack client library\n",
    "import integration_curator\n",
    "\n",
    "os.environ['PRED_SPOT_HOST'] = 'occam.genestack.com'\n",
    "os.environ['PRED_SPOT_TOKEN'] = '<your API token>'\n",
    "os.environ['PRED_SPOT_VERSION'] = '<API version>'\n",
    "page_limit = 20000\n",
    "\n",
    "omics_api = integration_curator.OmicsQueriesApi()"
   ]
  },
  {
   "cell_type": "markdown",
   "metadata": {},
   "source": [
    "### 2. Get a subset of samples that correspond to CD8+ cells"
   ]
  },
  {
   "cell_type": "code",
   "execution_count": 2,
   "metadata": {},
   "outputs": [
    {
     "name": "stdout",
     "output_type": "stream",
     "text": [
      "Time to get 8331 samples: 19.0 seconds\n"
     ]
    }
   ],
   "source": [
    "study_filter = '\"%s\"=\"%s\"' % ('Study Source ID', 'GSE120575')\n",
    "cell_filter = ' OR '.join(['\"Cluster number\"=\"%s\"' % cluster for cluster in [5, 8, 10, 9, 11]])\n",
    "\n",
    "start = time.time()\n",
    "samples = omics_api.search_samples(\n",
    "    study_filter = study_filter,\n",
    "    sample_filter = cell_filter,\n",
    "    page_limit = page_limit\n",
    ")\n",
    "samples = pd.DataFrame.from_dict([item['metadata'] for item in samples.data])\n",
    "\n",
    "print 'Time to get %s samples: %s seconds' % (samples.shape[0], round(time.time()-start))"
   ]
  },
  {
   "cell_type": "markdown",
   "metadata": {},
   "source": [
    "### 3. Get the expression values of the gene TCF7 across CD8+ cells"
   ]
  },
  {
   "cell_type": "code",
   "execution_count": 3,
   "metadata": {},
   "outputs": [
    {
     "name": "stdout",
     "output_type": "stream",
     "text": [
      "Time to get 8331 expression values: 18.0 seconds\n"
     ]
    }
   ],
   "source": [
    "gene = 'TCF7'\n",
    "expression_filter = 'Gene=%s MinValue=0.0' % gene\n",
    "\n",
    "start = time.time()\n",
    "expressions = omics_api.search_expression_data(\n",
    "    study_filter = study_filter,\n",
    "    sample_filter = cell_filter,\n",
    "    ex_query = expression_filter,\n",
    "    page_limit = page_limit\n",
    ")\n",
    "expressions = pd.DataFrame.from_dict({'genestack:accession': item['relationships']['sample'], \n",
    "                                      'expression': item['expression'],\n",
    "                                      'gene': item['gene']} for item in expressions.data)\n",
    "\n",
    "print 'Time to get %s expression values: %s seconds' % (expressions.shape[0], round(time.time()-start))"
   ]
  },
  {
   "cell_type": "markdown",
   "metadata": {},
   "source": [
    "### 4. Expression distribution of TCF7 across CD8+ cells"
   ]
  },
  {
   "cell_type": "code",
   "execution_count": 4,
   "metadata": {},
   "outputs": [
    {
     "data": {
      "text/plain": [
       "Text(0.5,1,'Expression of TCF7 across CD8+ cells')"
      ]
     },
     "execution_count": 4,
     "metadata": {},
     "output_type": "execute_result"
    },
    {
     "data": {
      "image/png": "[encoded data removed]",
      "text/plain": [
       "<Figure size 432x288 with 1 Axes>"
      ]
     },
     "metadata": {},
     "output_type": "display_data"
    }
   ],
   "source": [
    "expressions[['expression']].hist()\n",
    "plt.title('Expression of %s across CD8+ cells' % gene)"
   ]
  },
  {
   "cell_type": "markdown",
   "metadata": {},
   "source": [
    "### 5. Association of patient response with TCF7 expression among CD8+ cells"
   ]
  },
  {
   "cell_type": "code",
   "execution_count": 5,
   "metadata": {},
   "outputs": [
    {
     "data": {
      "text/plain": [
       "Text(0.5,1,'Proportion of CD8+ cells that express TCF7 (per donor)')"
      ]
     },
     "execution_count": 5,
     "metadata": {},
     "output_type": "execute_result"
    },
    {
     "data": {
      "image/png": "[encoded data removed]",
      "text/plain": [
       "<Figure size 432x288 with 1 Axes>"
      ]
     },
     "metadata": {},
     "output_type": "display_data"
    }
   ],
   "source": [
    "expression_threshold = 2\n",
    "samples_expressions = pd.merge(samples, expressions)\n",
    "samples_expressions['expressed'] = samples_expressions['expression'].apply(lambda x: 1 if x > expression_threshold else 0)\n",
    "group = 'characteristics: response'\n",
    "samples_expressions.groupby(['Donor ID', group]).mean().boxplot('expressed', group)\n",
    "plt.suptitle('')\n",
    "plt.xlabel('')\n",
    "plt.title('Proportion of CD8+ cells that express %s (per donor)' % gene)"
   ]
  }
 ],
 "metadata": {
  "kernelspec": {
   "display_name": "Python 2",
   "language": "python",
   "name": "python2"
  },
  "language_info": {
   "codemirror_mode": {
    "name": "ipython",
    "version": 2
   },
   "file_extension": ".py",
   "mimetype": "text/x-python",
   "name": "python",
   "nbconvert_exporter": "python",
   "pygments_lexer": "ipython2",
   "version": "2.7.15"
  }
 },
 "nbformat": 4,
 "nbformat_minor": 2
}
